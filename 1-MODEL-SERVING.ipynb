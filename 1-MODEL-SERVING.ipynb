{
 "cells": [
  {
   "cell_type": "code",
   "execution_count": 2,
   "id": "18711915-180f-42a3-a2dd-b8a7071e3d2f",
   "metadata": {},
   "outputs": [
    {
     "name": "stdout",
     "output_type": "stream",
     "text": [
      "\u001b[1m\u001b[31merror\u001b[39m\u001b[0m: Project is already initialized in `\u001b[36m/Users/asaucedo/Programming/real-time-serving\u001b[39m` (`pyproject.toml` file exists)\n"
     ]
    }
   ],
   "source": [
    "!uv init"
   ]
  },
  {
   "cell_type": "code",
   "execution_count": 3,
   "id": "0c556632-f45c-490c-9293-1237a94225be",
   "metadata": {},
   "outputs": [
    {
     "name": "stderr",
     "output_type": "stream",
     "text": [
      "\u001b[2mResolved \u001b[1m205 packages\u001b[0m \u001b[2min 0.77ms\u001b[0m\u001b[0m\n",
      "\u001b[2mAudited \u001b[1m200 packages\u001b[0m \u001b[2min 0.27ms\u001b[0m\u001b[0m\n"
     ]
    },
    {
     "data": {
      "text/plain": [
       "0"
      ]
     },
     "execution_count": 3,
     "metadata": {},
     "output_type": "execute_result"
    }
   ],
   "source": [
    "!uv add mlserver"
   ]
  },
  {
   "cell_type": "code",
   "execution_count": 7,
   "id": "4bd54e2b-de03-4e06-8812-02c3cf6f0532",
   "metadata": {},
   "outputs": [],
   "source": [
    "# Set up for async background linux process runs\n",
    "import os\n",
    "get_ipython().system = os.system"
   ]
  },
  {
   "cell_type": "code",
   "execution_count": 8,
   "id": "957e2156-071a-49af-80fb-3d348bda4ad5",
   "metadata": {},
   "outputs": [
    {
     "data": {
      "text/plain": [
       "0"
      ]
     },
     "execution_count": 8,
     "metadata": {},
     "output_type": "execute_result"
    },
    {
     "name": "stdout",
     "output_type": "stream",
     "text": [
      "2024-11-09 13:59:13,594 [mlserver.parallel] DEBUG - Starting response processing loop...\n",
      "2024-11-09 13:59:13,594 [mlserver.rest] INFO - HTTP server running on http://0.0.0.0:8080\n",
      "2024-11-09 13:59:13,609 [mlserver.metrics] INFO - Metrics server running on http://0.0.0.0:8082\n",
      "2024-11-09 13:59:13,609 [mlserver.metrics] INFO - Prometheus scraping endpoint can be accessed on http://0.0.0.0:8082/metrics\n",
      "2024-11-09 13:59:13,610 [mlserver.grpc] INFO - gRPC server running on http://0.0.0.0:8081\n"
     ]
    },
    {
     "name": "stderr",
     "output_type": "stream",
     "text": [
      "INFO:     Started server process [78748]\n",
      "INFO:     Waiting for application startup.\n",
      "INFO:     Started server process [78748]\n",
      "INFO:     Waiting for application startup.\n",
      "INFO:     Application startup complete.\n",
      "INFO:     Application startup complete.\n",
      "INFO:     Uvicorn running on http://0.0.0.0:8080 (Press CTRL+C to quit)\n",
      "INFO:     Uvicorn running on http://0.0.0.0:8082 (Press CTRL+C to quit)\n"
     ]
    }
   ],
   "source": [
    "!mlserver start . &"
   ]
  },
  {
   "cell_type": "markdown",
   "id": "7969132e-641a-471d-9fec-040241927d1b",
   "metadata": {},
   "source": [
    "# Server API"
   ]
  },
  {
   "cell_type": "code",
   "execution_count": 23,
   "id": "2db1977a-4c73-417c-b98f-9d9c591ae8c6",
   "metadata": {},
   "outputs": [
    {
     "data": {
      "text/plain": [
       "0"
      ]
     },
     "execution_count": 23,
     "metadata": {},
     "output_type": "execute_result"
    },
    {
     "name": "stdout",
     "output_type": "stream",
     "text": [
      "INFO:     127.0.0.1:59234 - \"GET /v2/docs/dataplane.json HTTP/1.1\" 200 OK\n"
     ]
    }
   ],
   "source": [
    "# OpenAPI Swagger Docs\n",
    "!open http://localhost:8080/v2/docs/"
   ]
  },
  {
   "cell_type": "code",
   "execution_count": 26,
   "id": "8ccdd811-e40c-4011-bc8d-850952eb1557",
   "metadata": {},
   "outputs": [
    {
     "name": "stdout",
     "output_type": "stream",
     "text": [
      "INFO:     127.0.0.1:59330 - \"GET /v2/ HTTP/1.1\" 307 Temporary Redirect\n",
      "INFO:     127.0.0.1:59330 - \"GET /v2 HTTP/1.1\" 200 OK\n"
     ]
    },
    {
     "data": {
      "text/plain": [
       "{'name': 'mlserver', 'version': '1.6.1', 'extensions': []}"
      ]
     },
     "execution_count": 26,
     "metadata": {},
     "output_type": "execute_result"
    }
   ],
   "source": [
    "## Info on the server\n",
    "requests.get(\"http://localhost:8080/v2/\").json()"
   ]
  },
  {
   "cell_type": "code",
   "execution_count": 50,
   "id": "fe70cf8f-5f42-4e9b-b5c3-90b21fff58f8",
   "metadata": {},
   "outputs": [
    {
     "name": "stdout",
     "output_type": "stream",
     "text": [
      "INFO:     127.0.0.1:59489 - \"GET /v2/health/ready HTTP/1.1\" 200 OK\n"
     ]
    },
    {
     "data": {
      "text/plain": [
       "<Response [200]>"
      ]
     },
     "execution_count": 50,
     "metadata": {},
     "output_type": "execute_result"
    }
   ],
   "source": [
    "## Health of server: readiness probe on model (liveness also available on version specific)\n",
    "requests.get(\"http://localhost:8080/v2/health/ready\")"
   ]
  },
  {
   "cell_type": "markdown",
   "id": "a95e6b30-55ef-4338-b9fe-6c8fcd0749dd",
   "metadata": {},
   "source": [
    "## Default Reusable Runtimes\n",
    "### Sklearn"
   ]
  },
  {
   "cell_type": "code",
   "execution_count": 12,
   "id": "cbb7a572-4e87-4608-9207-43ead73ea8ee",
   "metadata": {},
   "outputs": [
    {
     "name": "stdout",
     "output_type": "stream",
     "text": [
      "\u001b[2K\u001b[2mResolved \u001b[1m169 packages\u001b[0m \u001b[2min 626ms\u001b[0m\u001b[0m                                       \u001b[0m\n",
      "\u001b[2K\u001b[2mPrepared \u001b[1m1 package\u001b[0m \u001b[2min 257ms\u001b[0m\u001b[0m                                              \n",
      "\u001b[2K\u001b[2mInstalled \u001b[1m1 package\u001b[0m \u001b[2min 6ms\u001b[0m\u001b[0m.6.1                              \u001b[0m\n",
      " \u001b[32m+\u001b[39m \u001b[1mmlserver-sklearn\u001b[0m\u001b[2m==1.6.1\u001b[0m\n"
     ]
    }
   ],
   "source": [
    "!uv add mlserver-sklearn"
   ]
  },
  {
   "cell_type": "code",
   "execution_count": 2,
   "id": "f846d75f-ee91-42a5-a219-c50f928f4c70",
   "metadata": {},
   "outputs": [],
   "source": [
    "!mkdir -p sklearn/"
   ]
  },
  {
   "cell_type": "markdown",
   "id": "daff0a42-f3d8-4027-9773-28049a985634",
   "metadata": {},
   "source": [
    "#### Training"
   ]
  },
  {
   "cell_type": "code",
   "execution_count": 1,
   "id": "eda0c65c-108f-4313-9559-3f1f35d6d44e",
   "metadata": {},
   "outputs": [
    {
     "data": {
      "text/html": [
       "<style>#sk-container-id-1 {\n",
       "  /* Definition of color scheme common for light and dark mode */\n",
       "  --sklearn-color-text: black;\n",
       "  --sklearn-color-line: gray;\n",
       "  /* Definition of color scheme for unfitted estimators */\n",
       "  --sklearn-color-unfitted-level-0: #fff5e6;\n",
       "  --sklearn-color-unfitted-level-1: #f6e4d2;\n",
       "  --sklearn-color-unfitted-level-2: #ffe0b3;\n",
       "  --sklearn-color-unfitted-level-3: chocolate;\n",
       "  /* Definition of color scheme for fitted estimators */\n",
       "  --sklearn-color-fitted-level-0: #f0f8ff;\n",
       "  --sklearn-color-fitted-level-1: #d4ebff;\n",
       "  --sklearn-color-fitted-level-2: #b3dbfd;\n",
       "  --sklearn-color-fitted-level-3: cornflowerblue;\n",
       "\n",
       "  /* Specific color for light theme */\n",
       "  --sklearn-color-text-on-default-background: var(--sg-text-color, var(--theme-code-foreground, var(--jp-content-font-color1, black)));\n",
       "  --sklearn-color-background: var(--sg-background-color, var(--theme-background, var(--jp-layout-color0, white)));\n",
       "  --sklearn-color-border-box: var(--sg-text-color, var(--theme-code-foreground, var(--jp-content-font-color1, black)));\n",
       "  --sklearn-color-icon: #696969;\n",
       "\n",
       "  @media (prefers-color-scheme: dark) {\n",
       "    /* Redefinition of color scheme for dark theme */\n",
       "    --sklearn-color-text-on-default-background: var(--sg-text-color, var(--theme-code-foreground, var(--jp-content-font-color1, white)));\n",
       "    --sklearn-color-background: var(--sg-background-color, var(--theme-background, var(--jp-layout-color0, #111)));\n",
       "    --sklearn-color-border-box: var(--sg-text-color, var(--theme-code-foreground, var(--jp-content-font-color1, white)));\n",
       "    --sklearn-color-icon: #878787;\n",
       "  }\n",
       "}\n",
       "\n",
       "#sk-container-id-1 {\n",
       "  color: var(--sklearn-color-text);\n",
       "}\n",
       "\n",
       "#sk-container-id-1 pre {\n",
       "  padding: 0;\n",
       "}\n",
       "\n",
       "#sk-container-id-1 input.sk-hidden--visually {\n",
       "  border: 0;\n",
       "  clip: rect(1px 1px 1px 1px);\n",
       "  clip: rect(1px, 1px, 1px, 1px);\n",
       "  height: 1px;\n",
       "  margin: -1px;\n",
       "  overflow: hidden;\n",
       "  padding: 0;\n",
       "  position: absolute;\n",
       "  width: 1px;\n",
       "}\n",
       "\n",
       "#sk-container-id-1 div.sk-dashed-wrapped {\n",
       "  border: 1px dashed var(--sklearn-color-line);\n",
       "  margin: 0 0.4em 0.5em 0.4em;\n",
       "  box-sizing: border-box;\n",
       "  padding-bottom: 0.4em;\n",
       "  background-color: var(--sklearn-color-background);\n",
       "}\n",
       "\n",
       "#sk-container-id-1 div.sk-container {\n",
       "  /* jupyter's `normalize.less` sets `[hidden] { display: none; }`\n",
       "     but bootstrap.min.css set `[hidden] { display: none !important; }`\n",
       "     so we also need the `!important` here to be able to override the\n",
       "     default hidden behavior on the sphinx rendered scikit-learn.org.\n",
       "     See: https://github.com/scikit-learn/scikit-learn/issues/21755 */\n",
       "  display: inline-block !important;\n",
       "  position: relative;\n",
       "}\n",
       "\n",
       "#sk-container-id-1 div.sk-text-repr-fallback {\n",
       "  display: none;\n",
       "}\n",
       "\n",
       "div.sk-parallel-item,\n",
       "div.sk-serial,\n",
       "div.sk-item {\n",
       "  /* draw centered vertical line to link estimators */\n",
       "  background-image: linear-gradient(var(--sklearn-color-text-on-default-background), var(--sklearn-color-text-on-default-background));\n",
       "  background-size: 2px 100%;\n",
       "  background-repeat: no-repeat;\n",
       "  background-position: center center;\n",
       "}\n",
       "\n",
       "/* Parallel-specific style estimator block */\n",
       "\n",
       "#sk-container-id-1 div.sk-parallel-item::after {\n",
       "  content: \"\";\n",
       "  width: 100%;\n",
       "  border-bottom: 2px solid var(--sklearn-color-text-on-default-background);\n",
       "  flex-grow: 1;\n",
       "}\n",
       "\n",
       "#sk-container-id-1 div.sk-parallel {\n",
       "  display: flex;\n",
       "  align-items: stretch;\n",
       "  justify-content: center;\n",
       "  background-color: var(--sklearn-color-background);\n",
       "  position: relative;\n",
       "}\n",
       "\n",
       "#sk-container-id-1 div.sk-parallel-item {\n",
       "  display: flex;\n",
       "  flex-direction: column;\n",
       "}\n",
       "\n",
       "#sk-container-id-1 div.sk-parallel-item:first-child::after {\n",
       "  align-self: flex-end;\n",
       "  width: 50%;\n",
       "}\n",
       "\n",
       "#sk-container-id-1 div.sk-parallel-item:last-child::after {\n",
       "  align-self: flex-start;\n",
       "  width: 50%;\n",
       "}\n",
       "\n",
       "#sk-container-id-1 div.sk-parallel-item:only-child::after {\n",
       "  width: 0;\n",
       "}\n",
       "\n",
       "/* Serial-specific style estimator block */\n",
       "\n",
       "#sk-container-id-1 div.sk-serial {\n",
       "  display: flex;\n",
       "  flex-direction: column;\n",
       "  align-items: center;\n",
       "  background-color: var(--sklearn-color-background);\n",
       "  padding-right: 1em;\n",
       "  padding-left: 1em;\n",
       "}\n",
       "\n",
       "\n",
       "/* Toggleable style: style used for estimator/Pipeline/ColumnTransformer box that is\n",
       "clickable and can be expanded/collapsed.\n",
       "- Pipeline and ColumnTransformer use this feature and define the default style\n",
       "- Estimators will overwrite some part of the style using the `sk-estimator` class\n",
       "*/\n",
       "\n",
       "/* Pipeline and ColumnTransformer style (default) */\n",
       "\n",
       "#sk-container-id-1 div.sk-toggleable {\n",
       "  /* Default theme specific background. It is overwritten whether we have a\n",
       "  specific estimator or a Pipeline/ColumnTransformer */\n",
       "  background-color: var(--sklearn-color-background);\n",
       "}\n",
       "\n",
       "/* Toggleable label */\n",
       "#sk-container-id-1 label.sk-toggleable__label {\n",
       "  cursor: pointer;\n",
       "  display: block;\n",
       "  width: 100%;\n",
       "  margin-bottom: 0;\n",
       "  padding: 0.5em;\n",
       "  box-sizing: border-box;\n",
       "  text-align: center;\n",
       "}\n",
       "\n",
       "#sk-container-id-1 label.sk-toggleable__label-arrow:before {\n",
       "  /* Arrow on the left of the label */\n",
       "  content: \"▸\";\n",
       "  float: left;\n",
       "  margin-right: 0.25em;\n",
       "  color: var(--sklearn-color-icon);\n",
       "}\n",
       "\n",
       "#sk-container-id-1 label.sk-toggleable__label-arrow:hover:before {\n",
       "  color: var(--sklearn-color-text);\n",
       "}\n",
       "\n",
       "/* Toggleable content - dropdown */\n",
       "\n",
       "#sk-container-id-1 div.sk-toggleable__content {\n",
       "  max-height: 0;\n",
       "  max-width: 0;\n",
       "  overflow: hidden;\n",
       "  text-align: left;\n",
       "  /* unfitted */\n",
       "  background-color: var(--sklearn-color-unfitted-level-0);\n",
       "}\n",
       "\n",
       "#sk-container-id-1 div.sk-toggleable__content.fitted {\n",
       "  /* fitted */\n",
       "  background-color: var(--sklearn-color-fitted-level-0);\n",
       "}\n",
       "\n",
       "#sk-container-id-1 div.sk-toggleable__content pre {\n",
       "  margin: 0.2em;\n",
       "  border-radius: 0.25em;\n",
       "  color: var(--sklearn-color-text);\n",
       "  /* unfitted */\n",
       "  background-color: var(--sklearn-color-unfitted-level-0);\n",
       "}\n",
       "\n",
       "#sk-container-id-1 div.sk-toggleable__content.fitted pre {\n",
       "  /* unfitted */\n",
       "  background-color: var(--sklearn-color-fitted-level-0);\n",
       "}\n",
       "\n",
       "#sk-container-id-1 input.sk-toggleable__control:checked~div.sk-toggleable__content {\n",
       "  /* Expand drop-down */\n",
       "  max-height: 200px;\n",
       "  max-width: 100%;\n",
       "  overflow: auto;\n",
       "}\n",
       "\n",
       "#sk-container-id-1 input.sk-toggleable__control:checked~label.sk-toggleable__label-arrow:before {\n",
       "  content: \"▾\";\n",
       "}\n",
       "\n",
       "/* Pipeline/ColumnTransformer-specific style */\n",
       "\n",
       "#sk-container-id-1 div.sk-label input.sk-toggleable__control:checked~label.sk-toggleable__label {\n",
       "  color: var(--sklearn-color-text);\n",
       "  background-color: var(--sklearn-color-unfitted-level-2);\n",
       "}\n",
       "\n",
       "#sk-container-id-1 div.sk-label.fitted input.sk-toggleable__control:checked~label.sk-toggleable__label {\n",
       "  background-color: var(--sklearn-color-fitted-level-2);\n",
       "}\n",
       "\n",
       "/* Estimator-specific style */\n",
       "\n",
       "/* Colorize estimator box */\n",
       "#sk-container-id-1 div.sk-estimator input.sk-toggleable__control:checked~label.sk-toggleable__label {\n",
       "  /* unfitted */\n",
       "  background-color: var(--sklearn-color-unfitted-level-2);\n",
       "}\n",
       "\n",
       "#sk-container-id-1 div.sk-estimator.fitted input.sk-toggleable__control:checked~label.sk-toggleable__label {\n",
       "  /* fitted */\n",
       "  background-color: var(--sklearn-color-fitted-level-2);\n",
       "}\n",
       "\n",
       "#sk-container-id-1 div.sk-label label.sk-toggleable__label,\n",
       "#sk-container-id-1 div.sk-label label {\n",
       "  /* The background is the default theme color */\n",
       "  color: var(--sklearn-color-text-on-default-background);\n",
       "}\n",
       "\n",
       "/* On hover, darken the color of the background */\n",
       "#sk-container-id-1 div.sk-label:hover label.sk-toggleable__label {\n",
       "  color: var(--sklearn-color-text);\n",
       "  background-color: var(--sklearn-color-unfitted-level-2);\n",
       "}\n",
       "\n",
       "/* Label box, darken color on hover, fitted */\n",
       "#sk-container-id-1 div.sk-label.fitted:hover label.sk-toggleable__label.fitted {\n",
       "  color: var(--sklearn-color-text);\n",
       "  background-color: var(--sklearn-color-fitted-level-2);\n",
       "}\n",
       "\n",
       "/* Estimator label */\n",
       "\n",
       "#sk-container-id-1 div.sk-label label {\n",
       "  font-family: monospace;\n",
       "  font-weight: bold;\n",
       "  display: inline-block;\n",
       "  line-height: 1.2em;\n",
       "}\n",
       "\n",
       "#sk-container-id-1 div.sk-label-container {\n",
       "  text-align: center;\n",
       "}\n",
       "\n",
       "/* Estimator-specific */\n",
       "#sk-container-id-1 div.sk-estimator {\n",
       "  font-family: monospace;\n",
       "  border: 1px dotted var(--sklearn-color-border-box);\n",
       "  border-radius: 0.25em;\n",
       "  box-sizing: border-box;\n",
       "  margin-bottom: 0.5em;\n",
       "  /* unfitted */\n",
       "  background-color: var(--sklearn-color-unfitted-level-0);\n",
       "}\n",
       "\n",
       "#sk-container-id-1 div.sk-estimator.fitted {\n",
       "  /* fitted */\n",
       "  background-color: var(--sklearn-color-fitted-level-0);\n",
       "}\n",
       "\n",
       "/* on hover */\n",
       "#sk-container-id-1 div.sk-estimator:hover {\n",
       "  /* unfitted */\n",
       "  background-color: var(--sklearn-color-unfitted-level-2);\n",
       "}\n",
       "\n",
       "#sk-container-id-1 div.sk-estimator.fitted:hover {\n",
       "  /* fitted */\n",
       "  background-color: var(--sklearn-color-fitted-level-2);\n",
       "}\n",
       "\n",
       "/* Specification for estimator info (e.g. \"i\" and \"?\") */\n",
       "\n",
       "/* Common style for \"i\" and \"?\" */\n",
       "\n",
       ".sk-estimator-doc-link,\n",
       "a:link.sk-estimator-doc-link,\n",
       "a:visited.sk-estimator-doc-link {\n",
       "  float: right;\n",
       "  font-size: smaller;\n",
       "  line-height: 1em;\n",
       "  font-family: monospace;\n",
       "  background-color: var(--sklearn-color-background);\n",
       "  border-radius: 1em;\n",
       "  height: 1em;\n",
       "  width: 1em;\n",
       "  text-decoration: none !important;\n",
       "  margin-left: 1ex;\n",
       "  /* unfitted */\n",
       "  border: var(--sklearn-color-unfitted-level-1) 1pt solid;\n",
       "  color: var(--sklearn-color-unfitted-level-1);\n",
       "}\n",
       "\n",
       ".sk-estimator-doc-link.fitted,\n",
       "a:link.sk-estimator-doc-link.fitted,\n",
       "a:visited.sk-estimator-doc-link.fitted {\n",
       "  /* fitted */\n",
       "  border: var(--sklearn-color-fitted-level-1) 1pt solid;\n",
       "  color: var(--sklearn-color-fitted-level-1);\n",
       "}\n",
       "\n",
       "/* On hover */\n",
       "div.sk-estimator:hover .sk-estimator-doc-link:hover,\n",
       ".sk-estimator-doc-link:hover,\n",
       "div.sk-label-container:hover .sk-estimator-doc-link:hover,\n",
       ".sk-estimator-doc-link:hover {\n",
       "  /* unfitted */\n",
       "  background-color: var(--sklearn-color-unfitted-level-3);\n",
       "  color: var(--sklearn-color-background);\n",
       "  text-decoration: none;\n",
       "}\n",
       "\n",
       "div.sk-estimator.fitted:hover .sk-estimator-doc-link.fitted:hover,\n",
       ".sk-estimator-doc-link.fitted:hover,\n",
       "div.sk-label-container:hover .sk-estimator-doc-link.fitted:hover,\n",
       ".sk-estimator-doc-link.fitted:hover {\n",
       "  /* fitted */\n",
       "  background-color: var(--sklearn-color-fitted-level-3);\n",
       "  color: var(--sklearn-color-background);\n",
       "  text-decoration: none;\n",
       "}\n",
       "\n",
       "/* Span, style for the box shown on hovering the info icon */\n",
       ".sk-estimator-doc-link span {\n",
       "  display: none;\n",
       "  z-index: 9999;\n",
       "  position: relative;\n",
       "  font-weight: normal;\n",
       "  right: .2ex;\n",
       "  padding: .5ex;\n",
       "  margin: .5ex;\n",
       "  width: min-content;\n",
       "  min-width: 20ex;\n",
       "  max-width: 50ex;\n",
       "  color: var(--sklearn-color-text);\n",
       "  box-shadow: 2pt 2pt 4pt #999;\n",
       "  /* unfitted */\n",
       "  background: var(--sklearn-color-unfitted-level-0);\n",
       "  border: .5pt solid var(--sklearn-color-unfitted-level-3);\n",
       "}\n",
       "\n",
       ".sk-estimator-doc-link.fitted span {\n",
       "  /* fitted */\n",
       "  background: var(--sklearn-color-fitted-level-0);\n",
       "  border: var(--sklearn-color-fitted-level-3);\n",
       "}\n",
       "\n",
       ".sk-estimator-doc-link:hover span {\n",
       "  display: block;\n",
       "}\n",
       "\n",
       "/* \"?\"-specific style due to the `<a>` HTML tag */\n",
       "\n",
       "#sk-container-id-1 a.estimator_doc_link {\n",
       "  float: right;\n",
       "  font-size: 1rem;\n",
       "  line-height: 1em;\n",
       "  font-family: monospace;\n",
       "  background-color: var(--sklearn-color-background);\n",
       "  border-radius: 1rem;\n",
       "  height: 1rem;\n",
       "  width: 1rem;\n",
       "  text-decoration: none;\n",
       "  /* unfitted */\n",
       "  color: var(--sklearn-color-unfitted-level-1);\n",
       "  border: var(--sklearn-color-unfitted-level-1) 1pt solid;\n",
       "}\n",
       "\n",
       "#sk-container-id-1 a.estimator_doc_link.fitted {\n",
       "  /* fitted */\n",
       "  border: var(--sklearn-color-fitted-level-1) 1pt solid;\n",
       "  color: var(--sklearn-color-fitted-level-1);\n",
       "}\n",
       "\n",
       "/* On hover */\n",
       "#sk-container-id-1 a.estimator_doc_link:hover {\n",
       "  /* unfitted */\n",
       "  background-color: var(--sklearn-color-unfitted-level-3);\n",
       "  color: var(--sklearn-color-background);\n",
       "  text-decoration: none;\n",
       "}\n",
       "\n",
       "#sk-container-id-1 a.estimator_doc_link.fitted:hover {\n",
       "  /* fitted */\n",
       "  background-color: var(--sklearn-color-fitted-level-3);\n",
       "}\n",
       "</style><div id=\"sk-container-id-1\" class=\"sk-top-container\"><div class=\"sk-text-repr-fallback\"><pre>SVC(gamma=0.001)</pre><b>In a Jupyter environment, please rerun this cell to show the HTML representation or trust the notebook. <br />On GitHub, the HTML representation is unable to render, please try loading this page with nbviewer.org.</b></div><div class=\"sk-container\" hidden><div class=\"sk-item\"><div class=\"sk-estimator fitted sk-toggleable\"><input class=\"sk-toggleable__control sk-hidden--visually\" id=\"sk-estimator-id-1\" type=\"checkbox\" checked><label for=\"sk-estimator-id-1\" class=\"sk-toggleable__label fitted sk-toggleable__label-arrow fitted\">&nbsp;&nbsp;SVC<a class=\"sk-estimator-doc-link fitted\" rel=\"noreferrer\" target=\"_blank\" href=\"https://scikit-learn.org/1.5/modules/generated/sklearn.svm.SVC.html\">?<span>Documentation for SVC</span></a><span class=\"sk-estimator-doc-link fitted\">i<span>Fitted</span></span></label><div class=\"sk-toggleable__content fitted\"><pre>SVC(gamma=0.001)</pre></div> </div></div></div></div>"
      ],
      "text/plain": [
       "SVC(gamma=0.001)"
      ]
     },
     "execution_count": 1,
     "metadata": {},
     "output_type": "execute_result"
    }
   ],
   "source": [
    "# Original source code and more details can be found in:\n",
    "# https://scikit-learn.org/stable/auto_examples/classification/plot_digits_classification.html\n",
    "\n",
    "# Import datasets, classifiers and performance metrics\n",
    "from sklearn import datasets, svm, metrics\n",
    "from sklearn.model_selection import train_test_split\n",
    "\n",
    "# The digits dataset\n",
    "digits = datasets.load_digits()\n",
    "\n",
    "# To apply a classifier on this data, we need to flatten the image, to\n",
    "# turn the data in a (samples, feature) matrix:\n",
    "n_samples = len(digits.images)\n",
    "data = digits.images.reshape((n_samples, -1))\n",
    "\n",
    "# Create a classifier: a support vector classifier\n",
    "classifier = svm.SVC(gamma=0.001)\n",
    "\n",
    "# Split data into train and test subsets\n",
    "X_train, X_test, y_train, y_test = train_test_split(\n",
    "    data, digits.target, test_size=0.5, shuffle=False)\n",
    "\n",
    "# We learn the digits on the first half of the digits\n",
    "classifier.fit(X_train, y_train)"
   ]
  },
  {
   "cell_type": "markdown",
   "id": "91ce8844-fb7d-40f9-9340-984cb55347ef",
   "metadata": {},
   "source": [
    "#### Saving the model"
   ]
  },
  {
   "cell_type": "code",
   "execution_count": 3,
   "id": "f24fcf79-5385-4369-b255-6331617bb113",
   "metadata": {},
   "outputs": [
    {
     "data": {
      "text/plain": [
       "['sklearn/mnist-svm.joblib']"
      ]
     },
     "execution_count": 3,
     "metadata": {},
     "output_type": "execute_result"
    }
   ],
   "source": [
    "import joblib\n",
    "\n",
    "model_file_name = \"sklearn/mnist-svm.joblib\"\n",
    "joblib.dump(classifier, model_file_name)"
   ]
  },
  {
   "cell_type": "code",
   "execution_count": 64,
   "id": "53be0265-67b8-433b-9b23-ae41285b12db",
   "metadata": {},
   "outputs": [
    {
     "name": "stdout",
     "output_type": "stream",
     "text": [
      "mnist-svm.joblib\n"
     ]
    },
    {
     "data": {
      "text/plain": [
       "0"
      ]
     },
     "execution_count": 64,
     "metadata": {},
     "output_type": "execute_result"
    }
   ],
   "source": [
    "!ls sklearn"
   ]
  },
  {
   "cell_type": "markdown",
   "id": "70f01f91-9b4d-4146-b17c-221c73cfaa55",
   "metadata": {},
   "source": [
    "#### Serving with out of the box server"
   ]
  },
  {
   "cell_type": "code",
   "execution_count": 65,
   "id": "162747b3-9dd7-421d-9134-dc650924329a",
   "metadata": {},
   "outputs": [
    {
     "name": "stdout",
     "output_type": "stream",
     "text": [
      "Writing sklearn/model-settings.json\n"
     ]
    }
   ],
   "source": [
    "%%writefile sklearn/model-settings.json\n",
    "{\n",
    "    \"name\": \"mnist-svm\",\n",
    "    \"implementation\": \"mlserver_sklearn.SKLearnModel\",\n",
    "    \"parameters\": {\n",
    "        \"uri\": \"./mnist-svm.joblib\",\n",
    "        \"version\": \"v0.1.0\"\n",
    "    }\n",
    "}\n"
   ]
  },
  {
   "cell_type": "code",
   "execution_count": 66,
   "id": "c1e24394-8910-444c-973a-9a99d8b2b905",
   "metadata": {},
   "outputs": [
    {
     "name": "stdout",
     "output_type": "stream",
     "text": [
      "mnist-svm.joblib\n",
      "model-settings.json\n"
     ]
    },
    {
     "data": {
      "text/plain": [
       "0"
      ]
     },
     "execution_count": 66,
     "metadata": {},
     "output_type": "execute_result"
    }
   ],
   "source": [
    "!ls sklearn/"
   ]
  },
  {
   "cell_type": "markdown",
   "id": "f9b563f6-687f-4d0a-bac0-39cfc7909871",
   "metadata": {},
   "source": [
    "#### We can now load the model using the model repository API"
   ]
  },
  {
   "cell_type": "code",
   "execution_count": null,
   "id": "7115658e-b184-40c2-abc3-8430798f1417",
   "metadata": {},
   "outputs": [],
   "source": [
    "requests.post(\"http://localhost:8080/v2/repository/models/mnist-svm/load\")"
   ]
  },
  {
   "cell_type": "code",
   "execution_count": 67,
   "id": "e2fbd8f5-7543-4b81-8c59-008c068799d8",
   "metadata": {},
   "outputs": [
    {
     "name": "stdout",
     "output_type": "stream",
     "text": [
      "INFO:     127.0.0.1:59601 - \"POST /v2/models/mnist-svm/versions/v0.1.0/infer HTTP/1.1\" 404 Not Found\n"
     ]
    },
    {
     "data": {
      "text/plain": [
       "{'error': 'Model mnist-svm with version v0.1.0 not found'}"
      ]
     },
     "execution_count": 67,
     "metadata": {},
     "output_type": "execute_result"
    }
   ],
   "source": [
    "import requests\n",
    "\n",
    "x_0 = X_test[0:1]\n",
    "inference_request = {\n",
    "    \"inputs\": [\n",
    "        {\n",
    "          \"name\": \"predict\",\n",
    "          \"shape\": x_0.shape,\n",
    "          \"datatype\": \"FP32\",\n",
    "          \"data\": x_0.tolist()\n",
    "        }\n",
    "    ]\n",
    "}\n",
    "\n",
    "endpoint = \"http://localhost:8080/v2/models/mnist-svm/versions/v0.1.0/infer\"\n",
    "response = requests.post(endpoint, json=inference_request)\n",
    "\n",
    "response.json()"
   ]
  },
  {
   "attachments": {},
   "cell_type": "markdown",
   "id": "66e349c0-1118-40ee-8a3e-d19853ffa8ab",
   "metadata": {},
   "source": [
    "## MLFlow Example\n",
    "\n"
   ]
  },
  {
   "cell_type": "code",
   "execution_count": 29,
   "id": "11ca9ce3-9fa2-420e-bc8a-150b3c920de9",
   "metadata": {},
   "outputs": [
    {
     "name": "stderr",
     "output_type": "stream",
     "text": [
      "\u001b[2mResolved \u001b[1m205 packages\u001b[0m \u001b[2min 1.72s\u001b[0m\u001b[0m\n",
      "\u001b[2mPrepared \u001b[1m35 packages\u001b[0m \u001b[2min 9.16s\u001b[0m\u001b[0m\n",
      "\u001b[2mInstalled \u001b[1m35 packages\u001b[0m \u001b[2min 355ms\u001b[0m\u001b[0m\n",
      " \u001b[32m+\u001b[39m \u001b[1malembic\u001b[0m\u001b[2m==1.14.0\u001b[0m\n",
      " \u001b[32m+\u001b[39m \u001b[1mblinker\u001b[0m\u001b[2m==1.9.0\u001b[0m\n",
      " \u001b[32m+\u001b[39m \u001b[1mcachetools\u001b[0m\u001b[2m==5.5.0\u001b[0m\n",
      " \u001b[32m+\u001b[39m \u001b[1mcloudpickle\u001b[0m\u001b[2m==3.1.0\u001b[0m\n",
      " \u001b[32m+\u001b[39m \u001b[1mcontourpy\u001b[0m\u001b[2m==1.3.0\u001b[0m\n",
      " \u001b[32m+\u001b[39m \u001b[1mcycler\u001b[0m\u001b[2m==0.12.1\u001b[0m\n",
      " \u001b[32m+\u001b[39m \u001b[1mdatabricks-sdk\u001b[0m\u001b[2m==0.36.0\u001b[0m\n",
      " \u001b[32m+\u001b[39m \u001b[1mdocker\u001b[0m\u001b[2m==7.1.0\u001b[0m\n",
      " \u001b[32m+\u001b[39m \u001b[1mflask\u001b[0m\u001b[2m==3.0.3\u001b[0m\n",
      " \u001b[32m+\u001b[39m \u001b[1mfonttools\u001b[0m\u001b[2m==4.54.1\u001b[0m\n",
      " \u001b[32m+\u001b[39m \u001b[1mgitdb\u001b[0m\u001b[2m==4.0.11\u001b[0m\n",
      " \u001b[32m+\u001b[39m \u001b[1mgitpython\u001b[0m\u001b[2m==3.1.43\u001b[0m\n",
      " \u001b[32m+\u001b[39m \u001b[1mgoogle-auth\u001b[0m\u001b[2m==2.36.0\u001b[0m\n",
      " \u001b[32m+\u001b[39m \u001b[1mgraphene\u001b[0m\u001b[2m==3.4.1\u001b[0m\n",
      " \u001b[32m+\u001b[39m \u001b[1mgraphql-core\u001b[0m\u001b[2m==3.2.5\u001b[0m\n",
      " \u001b[32m+\u001b[39m \u001b[1mgraphql-relay\u001b[0m\u001b[2m==3.2.0\u001b[0m\n",
      " \u001b[32m+\u001b[39m \u001b[1mgunicorn\u001b[0m\u001b[2m==23.0.0\u001b[0m\n",
      " \u001b[32m+\u001b[39m \u001b[1mitsdangerous\u001b[0m\u001b[2m==2.2.0\u001b[0m\n",
      " \u001b[32m+\u001b[39m \u001b[1mkiwisolver\u001b[0m\u001b[2m==1.4.7\u001b[0m\n",
      " \u001b[32m+\u001b[39m \u001b[1mmako\u001b[0m\u001b[2m==1.3.6\u001b[0m\n",
      " \u001b[32m+\u001b[39m \u001b[1mmarkdown\u001b[0m\u001b[2m==3.7\u001b[0m\n",
      " \u001b[32m+\u001b[39m \u001b[1mmatplotlib\u001b[0m\u001b[2m==3.9.2\u001b[0m\n",
      " \u001b[32m+\u001b[39m \u001b[1mmlflow\u001b[0m\u001b[2m==2.17.2\u001b[0m\n",
      " \u001b[32m+\u001b[39m \u001b[1mmlflow-skinny\u001b[0m\u001b[2m==2.17.2\u001b[0m\n",
      " \u001b[32m+\u001b[39m \u001b[1mmlserver-mlflow\u001b[0m\u001b[2m==1.6.1\u001b[0m\n",
      " \u001b[32m+\u001b[39m \u001b[1mpillow\u001b[0m\u001b[2m==11.0.0\u001b[0m\n",
      " \u001b[32m+\u001b[39m \u001b[1mpyarrow\u001b[0m\u001b[2m==17.0.0\u001b[0m\n",
      " \u001b[32m+\u001b[39m \u001b[1mpyasn1\u001b[0m\u001b[2m==0.6.1\u001b[0m\n",
      " \u001b[32m+\u001b[39m \u001b[1mpyasn1-modules\u001b[0m\u001b[2m==0.4.1\u001b[0m\n",
      " \u001b[32m+\u001b[39m \u001b[1mpyparsing\u001b[0m\u001b[2m==3.2.0\u001b[0m\n",
      " \u001b[32m+\u001b[39m \u001b[1mrsa\u001b[0m\u001b[2m==4.9\u001b[0m\n",
      " \u001b[32m+\u001b[39m \u001b[1msmmap\u001b[0m\u001b[2m==5.0.1\u001b[0m\n",
      " \u001b[32m+\u001b[39m \u001b[1msqlalchemy\u001b[0m\u001b[2m==2.0.36\u001b[0m\n",
      " \u001b[32m+\u001b[39m \u001b[1msqlparse\u001b[0m\u001b[2m==0.5.1\u001b[0m\n",
      " \u001b[32m+\u001b[39m \u001b[1mwerkzeug\u001b[0m\u001b[2m==3.1.3\u001b[0m\n"
     ]
    },
    {
     "data": {
      "text/plain": [
       "0"
      ]
     },
     "execution_count": 29,
     "metadata": {},
     "output_type": "execute_result"
    }
   ],
   "source": [
    "!uv add mlserver-mlflow"
   ]
  },
  {
   "cell_type": "code",
   "execution_count": 33,
   "id": "900e7f8c-87b7-447f-a3b6-8df4b4eb0015",
   "metadata": {},
   "outputs": [
    {
     "data": {
      "text/plain": [
       "0"
      ]
     },
     "execution_count": 33,
     "metadata": {},
     "output_type": "execute_result"
    }
   ],
   "source": [
    "!mkdir -p mlflow/src"
   ]
  },
  {
   "cell_type": "markdown",
   "id": "6a3a4ad7-c249-4cc1-87bb-e5dbc0b6a845",
   "metadata": {},
   "source": [
    "Training"
   ]
  },
  {
   "cell_type": "code",
   "execution_count": 5,
   "id": "448d1d70-d1d5-47b9-8815-fb15d0e70331",
   "metadata": {},
   "outputs": [],
   "source": [
    "from IPython.core.magic import register_line_cell_magic\n",
    "\n",
    "@register_line_cell_magic\n",
    "def writetemplate(line, cell):\n",
    "    with open(line, 'w') as f:\n",
    "        f.write(cell.format(**globals()))"
   ]
  },
  {
   "cell_type": "code",
   "execution_count": 34,
   "id": "1e3b7cfb-bfd5-4994-8d3c-2901da4efc74",
   "metadata": {},
   "outputs": [],
   "source": [
    "%%writetemplate mlflow/src/train.py\n",
    "# Original source code and more details can be found in:\n",
    "# https://www.mlflow.org/docs/latest/tutorials-and-examples/tutorial.html\n",
    "\n",
    "# The data set used in this example is from\n",
    "# http://archive.ics.uci.edu/ml/datasets/Wine+Quality\n",
    "# P. Cortez, A. Cerdeira, F. Almeida, T. Matos and J. Reis.\n",
    "# Modeling wine preferences by data mining from physicochemical properties.\n",
    "# In Decision Support Systems, Elsevier, 47(4):547-553, 2009.\n",
    "\n",
    "import warnings\n",
    "import sys\n",
    "\n",
    "import pandas as pd\n",
    "import numpy as np\n",
    "from sklearn.metrics import mean_squared_error, mean_absolute_error, r2_score\n",
    "from sklearn.model_selection import train_test_split\n",
    "from sklearn.linear_model import ElasticNet\n",
    "from urllib.parse import urlparse\n",
    "import mlflow\n",
    "import mlflow.sklearn\n",
    "from mlflow.models.signature import infer_signature\n",
    "\n",
    "import logging\n",
    "\n",
    "logging.basicConfig(level=logging.WARN)\n",
    "logger = logging.getLogger(__name__)\n",
    "\n",
    "\n",
    "def eval_metrics(actual, pred):\n",
    "    rmse = np.sqrt(mean_squared_error(actual, pred))\n",
    "    mae = mean_absolute_error(actual, pred)\n",
    "    r2 = r2_score(actual, pred)\n",
    "    return rmse, mae, r2\n",
    "\n",
    "\n",
    "if __name__ == \"__main__\":\n",
    "    warnings.filterwarnings(\"ignore\")\n",
    "    np.random.seed(40)\n",
    "\n",
    "    # Read the wine-quality csv file from the URL\n",
    "    csv_url = (\n",
    "        \"http://archive.ics.uci.edu/ml\"\n",
    "        \"/machine-learning-databases/wine-quality/winequality-red.csv\"\n",
    "    )\n",
    "    try:\n",
    "        data = pd.read_csv(csv_url, sep=\";\")\n",
    "    except Exception as e:\n",
    "        logger.exception(\n",
    "            \"Unable to download training & test CSV, \"\n",
    "            \"check your internet connection. Error: %s\",\n",
    "            e,\n",
    "        )\n",
    "\n",
    "    # Split the data into training and test sets. (0.75, 0.25) split.\n",
    "    train, test = train_test_split(data)\n",
    "\n",
    "    # The predicted column is \"quality\" which is a scalar from [3, 9]\n",
    "    train_x = train.drop([\"quality\"], axis=1)\n",
    "    test_x = test.drop([\"quality\"], axis=1)\n",
    "    train_y = train[[\"quality\"]]\n",
    "    test_y = test[[\"quality\"]]\n",
    "\n",
    "    alpha = float(sys.argv[1]) if len(sys.argv) > 1 else 0.5\n",
    "    l1_ratio = float(sys.argv[2]) if len(sys.argv) > 2 else 0.5\n",
    "\n",
    "    with mlflow.start_run():\n",
    "        lr = ElasticNet(alpha=alpha, l1_ratio=l1_ratio, random_state=42)\n",
    "        lr.fit(train_x, train_y)\n",
    "\n",
    "        predicted_qualities = lr.predict(test_x)\n",
    "\n",
    "        (rmse, mae, r2) = eval_metrics(test_y, predicted_qualities)\n",
    "\n",
    "        print(\"Elasticnet model (alpha=%f, l1_ratio=%f):\" % (alpha, l1_ratio))\n",
    "        print(\"  RMSE: %s\" % rmse)\n",
    "        print(\"  MAE: %s\" % mae)\n",
    "        print(\"  R2: %s\" % r2)\n",
    "\n",
    "        mlflow.log_param(\"alpha\", alpha)\n",
    "        mlflow.log_param(\"l1_ratio\", l1_ratio)\n",
    "        mlflow.log_metric(\"rmse\", rmse)\n",
    "        mlflow.log_metric(\"r2\", r2)\n",
    "        mlflow.log_metric(\"mae\", mae)\n",
    "\n",
    "        tracking_url_type_store = urlparse(mlflow.get_tracking_uri()).scheme\n",
    "        model_signature = infer_signature(train_x, train_y)\n",
    "\n",
    "        # Model registry does not work with file store\n",
    "        if tracking_url_type_store != \"file\":\n",
    "\n",
    "            # Register the model\n",
    "            # There are other ways to use the Model Registry,\n",
    "            # which depends on the use case,\n",
    "            # please refer to the doc for more information:\n",
    "            # https://mlflow.org/docs/latest/model-registry.html#api-workflow\n",
    "            mlflow.sklearn.log_model(\n",
    "                lr,\n",
    "                \"model\",\n",
    "                registered_model_name=\"ElasticnetWineModel\",\n",
    "                signature=model_signature,\n",
    "            )\n",
    "        else:\n",
    "            mlflow.sklearn.log_model(lr, \"model\", signature=model_signature)\n"
   ]
  },
  {
   "cell_type": "code",
   "execution_count": 35,
   "id": "20c0519b-07c1-4f7c-a8ac-d217c7582ce5",
   "metadata": {},
   "outputs": [
    {
     "name": "stdout",
     "output_type": "stream",
     "text": [
      "Elasticnet model (alpha=0.500000, l1_ratio=0.500000):\n",
      "  RMSE: 0.7931640229276851\n",
      "  MAE: 0.6271946374319586\n",
      "  R2: 0.10862644997792614\n"
     ]
    },
    {
     "name": "stderr",
     "output_type": "stream",
     "text": [
      "2024/11/09 13:13:55 WARNING mlflow.utils.environment: Failed to resolve installed pip version. ``pip`` will be added to conda.yaml environment spec without a version specifier.\n"
     ]
    },
    {
     "data": {
      "text/plain": [
       "0"
      ]
     },
     "execution_count": 35,
     "metadata": {},
     "output_type": "execute_result"
    }
   ],
   "source": [
    "!(cd mlflow && python src/train.py)"
   ]
  },
  {
   "cell_type": "code",
   "execution_count": 17,
   "id": "ef7b8584-80a3-4424-9be9-0788c2a6aa0b",
   "metadata": {},
   "outputs": [
    {
     "name": "stdout",
     "output_type": "stream",
     "text": [
      "./mlruns/0/db95d5b76c8b44b58bb0dd7837b4cb18/artifacts/model\n"
     ]
    }
   ],
   "source": [
    "import os\n",
    "\n",
    "[experiment_file_path] = !(cd mlflow && ls --color=none -td ./mlruns/0/* | head -1)\n",
    "model_path = os.path.join(experiment_file_path, \"artifacts\", \"model\")\n",
    "print(model_path)"
   ]
  },
  {
   "cell_type": "code",
   "execution_count": 18,
   "id": "dc45b93b-d536-4206-8a8c-a9f09c26e125",
   "metadata": {},
   "outputs": [
    {
     "name": "stdout",
     "output_type": "stream",
     "text": [
      "Makefile\n",
      "README.ipynb\n",
      "README.md\n",
      "\u001b[1m\u001b[36mmlflow\u001b[m\u001b[m\n",
      "pyproject.toml\n",
      "uv.lock\n"
     ]
    },
    {
     "data": {
      "text/plain": [
       "0"
      ]
     },
     "execution_count": 18,
     "metadata": {},
     "output_type": "execute_result"
    }
   ],
   "source": [
    "!ls $model_path"
   ]
  },
  {
   "cell_type": "code",
   "execution_count": 33,
   "id": "fc738cdf-93b3-4180-911c-e88a9dbbca13",
   "metadata": {},
   "outputs": [],
   "source": [
    "%%writetemplate ./mlflow/model-settings.json\n",
    "{{\n",
    "    \"name\": \"wine-classifier\",\n",
    "    \"implementation\": \"mlserver_mlflow.MLflowRuntime\",\n",
    "    \"parameters\": {{\n",
    "        \"uri\": \"{model_path}\",\n",
    "        \"version\": \"v0.1.0\"\n",
    "    }}\n",
    "}}"
   ]
  },
  {
   "cell_type": "markdown",
   "id": "87e7c31c-493e-4b8a-b827-b146daa4ce3f",
   "metadata": {},
   "source": [
    "#### Load using the model repository API"
   ]
  },
  {
   "cell_type": "code",
   "execution_count": 39,
   "id": "a2469ca5-52f1-49f5-81dc-94a4857bccf1",
   "metadata": {},
   "outputs": [
    {
     "data": {
      "text/plain": [
       "0"
      ]
     },
     "execution_count": 39,
     "metadata": {},
     "output_type": "execute_result"
    },
    {
     "name": "stdout",
     "output_type": "stream",
     "text": [
      "2024-11-09 13:36:53,592 [mlserver] WARNING - Model name 'wine-classifier' is different than model's folder name 'mlflow'.\n",
      "2024-11-09 13:36:53,622 [mlserver.parallel] DEBUG - Starting response processing loop...\n",
      "2024-11-09 13:36:53,623 [mlserver.rest] INFO - HTTP server running on http://0.0.0.0:8080\n",
      "2024-11-09 13:36:53,635 [mlserver.metrics] INFO - Metrics server running on http://0.0.0.0:8082\n",
      "2024-11-09 13:36:53,635 [mlserver.metrics] INFO - Prometheus scraping endpoint can be accessed on http://0.0.0.0:8082/metrics\n"
     ]
    },
    {
     "name": "stderr",
     "output_type": "stream",
     "text": [
      "INFO:     Started server process [76459]\n",
      "INFO:     Waiting for application startup.\n",
      "INFO:     Started server process [76459]\n",
      "INFO:     Waiting for application startup.\n",
      "INFO:     Application startup complete.\n",
      "INFO:     Application startup complete.\n",
      "INFO:     Uvicorn running on http://0.0.0.0:8080 (Press CTRL+C to quit)\n",
      "INFO:     Uvicorn running on http://0.0.0.0:8082 (Press CTRL+C to quit)\n"
     ]
    },
    {
     "name": "stdout",
     "output_type": "stream",
     "text": [
      "2024-11-09 13:36:54,063 [mlserver.grpc] INFO - gRPC server running on http://0.0.0.0:8081\n",
      "2024-11-09 13:36:55,455 [mlserver][wine-classifier:v0.1.0] INFO - Loaded model 'wine-classifier' successfully.\n",
      "2024-11-09 13:36:55,457 [mlserver][wine-classifier:v0.1.0] INFO - Loaded model 'wine-classifier' successfully.\n"
     ]
    }
   ],
   "source": [
    "requests.post(\"http://localhost:8080/v2/repository/models/wine-classifier/load\")"
   ]
  },
  {
   "cell_type": "code",
   "execution_count": 40,
   "id": "bedd7f37-7412-4d43-8daf-ce3951f99acd",
   "metadata": {},
   "outputs": [
    {
     "name": "stdout",
     "output_type": "stream",
     "text": [
      "INFO:     127.0.0.1:59417 - \"POST /v2/models/wine-classifier/infer HTTP/1.1\" 200 OK\n"
     ]
    },
    {
     "data": {
      "text/plain": [
       "{'model_name': 'wine-classifier',\n",
       " 'model_version': 'v0.1.0',\n",
       " 'id': '6b040836-d4a9-4609-a7b8-20d7a22ceccf',\n",
       " 'parameters': {'content_type': 'np'},\n",
       " 'outputs': [{'name': 'output-1',\n",
       "   'shape': [1, 1],\n",
       "   'datatype': 'FP64',\n",
       "   'parameters': {'content_type': 'np'},\n",
       "   'data': [5.576883936610762]}]}"
      ]
     },
     "execution_count": 40,
     "metadata": {},
     "output_type": "execute_result"
    }
   ],
   "source": [
    "import requests\n",
    "\n",
    "inference_request = {\n",
    "    \"inputs\": [\n",
    "        {\n",
    "          \"name\": \"fixed acidity\",\n",
    "          \"shape\": [1],\n",
    "          \"datatype\": \"FP32\",\n",
    "          \"data\": [7.4],\n",
    "        },\n",
    "        {\n",
    "          \"name\": \"volatile acidity\",\n",
    "          \"shape\": [1],\n",
    "          \"datatype\": \"FP32\",\n",
    "          \"data\": [0.7000],\n",
    "        },\n",
    "        {\n",
    "          \"name\": \"citric acid\",\n",
    "          \"shape\": [1],\n",
    "          \"datatype\": \"FP32\",\n",
    "          \"data\": [0],\n",
    "        },\n",
    "        {\n",
    "          \"name\": \"residual sugar\",\n",
    "          \"shape\": [1],\n",
    "          \"datatype\": \"FP32\",\n",
    "          \"data\": [1.9],\n",
    "        },\n",
    "        {\n",
    "          \"name\": \"chlorides\",\n",
    "          \"shape\": [1],\n",
    "          \"datatype\": \"FP32\",\n",
    "          \"data\": [0.076],\n",
    "        },\n",
    "        {\n",
    "          \"name\": \"free sulfur dioxide\",\n",
    "          \"shape\": [1],\n",
    "          \"datatype\": \"FP32\",\n",
    "          \"data\": [11],\n",
    "        },\n",
    "        {\n",
    "          \"name\": \"total sulfur dioxide\",\n",
    "          \"shape\": [1],\n",
    "          \"datatype\": \"FP32\",\n",
    "          \"data\": [34],\n",
    "        },\n",
    "        {\n",
    "          \"name\": \"density\",\n",
    "          \"shape\": [1],\n",
    "          \"datatype\": \"FP32\",\n",
    "          \"data\": [0.9978],\n",
    "        },\n",
    "        {\n",
    "          \"name\": \"pH\",\n",
    "          \"shape\": [1],\n",
    "          \"datatype\": \"FP32\",\n",
    "          \"data\": [3.51],\n",
    "        },\n",
    "        {\n",
    "          \"name\": \"sulphates\",\n",
    "          \"shape\": [1],\n",
    "          \"datatype\": \"FP32\",\n",
    "          \"data\": [0.56],\n",
    "        },\n",
    "        {\n",
    "          \"name\": \"alcohol\",\n",
    "          \"shape\": [1],\n",
    "          \"datatype\": \"FP32\",\n",
    "          \"data\": [9.4],\n",
    "        },\n",
    "    ]\n",
    "}\n",
    "\n",
    "endpoint = \"http://localhost:8080/v2/models/wine-classifier/infer\"\n",
    "response = requests.post(endpoint, json=inference_request)\n",
    "\n",
    "response.json()"
   ]
  },
  {
   "cell_type": "markdown",
   "id": "92ec8996-016e-499e-aed1-1e41e5fe1dbc",
   "metadata": {},
   "source": [
    "#### View the specification of the model API"
   ]
  },
  {
   "cell_type": "code",
   "execution_count": null,
   "id": "8d67f6fd-8b92-4c66-b9ff-3fe404844990",
   "metadata": {},
   "outputs": [],
   "source": [
    "# Access documentation for specific model\n",
    "!open http://localhost:8080/v2/models/wine-classifier/docs"
   ]
  },
  {
   "cell_type": "code",
   "execution_count": 49,
   "id": "183d14e6-f709-4964-8204-9306cd290417",
   "metadata": {},
   "outputs": [
    {
     "name": "stdout",
     "output_type": "stream",
     "text": [
      "INFO:     127.0.0.1:59476 - \"GET /v2/models/wine-classifier/health/live HTTP/1.1\" 404 Not Found\n"
     ]
    },
    {
     "data": {
      "text/plain": [
       "<Response [404]>"
      ]
     },
     "execution_count": 49,
     "metadata": {},
     "output_type": "execute_result"
    }
   ],
   "source": [
    "## Health of server\n",
    "requests.get(\"http://localhost:8080/v2/models/wine-classifier/health/live\")"
   ]
  },
  {
   "cell_type": "code",
   "execution_count": 41,
   "id": "072e42e9-3b68-4f1c-9d21-9efeae83288a",
   "metadata": {},
   "outputs": [
    {
     "name": "stdout",
     "output_type": "stream",
     "text": [
      "INFO:     127.0.0.1:59419 - \"GET /v2/models/wine-classifier HTTP/1.1\" 200 OK\n"
     ]
    },
    {
     "data": {
      "text/plain": [
       "{'name': 'wine-classifier',\n",
       " 'versions': [],\n",
       " 'platform': '',\n",
       " 'inputs': [{'name': 'fixed acidity',\n",
       "   'datatype': 'FP64',\n",
       "   'shape': [-1, 1],\n",
       "   'parameters': {'content_type': 'np'}},\n",
       "  {'name': 'volatile acidity',\n",
       "   'datatype': 'FP64',\n",
       "   'shape': [-1, 1],\n",
       "   'parameters': {'content_type': 'np'}},\n",
       "  {'name': 'citric acid',\n",
       "   'datatype': 'FP64',\n",
       "   'shape': [-1, 1],\n",
       "   'parameters': {'content_type': 'np'}},\n",
       "  {'name': 'residual sugar',\n",
       "   'datatype': 'FP64',\n",
       "   'shape': [-1, 1],\n",
       "   'parameters': {'content_type': 'np'}},\n",
       "  {'name': 'chlorides',\n",
       "   'datatype': 'FP64',\n",
       "   'shape': [-1, 1],\n",
       "   'parameters': {'content_type': 'np'}},\n",
       "  {'name': 'free sulfur dioxide',\n",
       "   'datatype': 'FP64',\n",
       "   'shape': [-1, 1],\n",
       "   'parameters': {'content_type': 'np'}},\n",
       "  {'name': 'total sulfur dioxide',\n",
       "   'datatype': 'FP64',\n",
       "   'shape': [-1, 1],\n",
       "   'parameters': {'content_type': 'np'}},\n",
       "  {'name': 'density',\n",
       "   'datatype': 'FP64',\n",
       "   'shape': [-1, 1],\n",
       "   'parameters': {'content_type': 'np'}},\n",
       "  {'name': 'pH',\n",
       "   'datatype': 'FP64',\n",
       "   'shape': [-1, 1],\n",
       "   'parameters': {'content_type': 'np'}},\n",
       "  {'name': 'sulphates',\n",
       "   'datatype': 'FP64',\n",
       "   'shape': [-1, 1],\n",
       "   'parameters': {'content_type': 'np'}},\n",
       "  {'name': 'alcohol',\n",
       "   'datatype': 'FP64',\n",
       "   'shape': [-1, 1],\n",
       "   'parameters': {'content_type': 'np'}}],\n",
       " 'outputs': [{'name': 'quality',\n",
       "   'datatype': 'INT64',\n",
       "   'shape': [-1, 1],\n",
       "   'parameters': {'content_type': 'np'}}],\n",
       " 'parameters': {'content_type': 'pd'}}"
      ]
     },
     "execution_count": 41,
     "metadata": {},
     "output_type": "execute_result"
    }
   ],
   "source": [
    "## Info on the model inputs/outputs expected\n",
    "requests.get(\"http://localhost:8080/v2/models/wine-classifier\").json()"
   ]
  },
  {
   "cell_type": "code",
   "execution_count": 45,
   "id": "40199a9f-5428-4075-b301-50110d80316b",
   "metadata": {},
   "outputs": [
    {
     "name": "stdout",
     "output_type": "stream",
     "text": [
      "INFO:     127.0.0.1:59437 - \"GET /v2/models/wine-classifier/versions/v0.1.0 HTTP/1.1\" 200 OK\n"
     ]
    },
    {
     "data": {
      "text/plain": [
       "{'name': 'wine-classifier',\n",
       " 'versions': [],\n",
       " 'platform': '',\n",
       " 'inputs': [{'name': 'fixed acidity',\n",
       "   'datatype': 'FP64',\n",
       "   'shape': [-1, 1],\n",
       "   'parameters': {'content_type': 'np'}},\n",
       "  {'name': 'volatile acidity',\n",
       "   'datatype': 'FP64',\n",
       "   'shape': [-1, 1],\n",
       "   'parameters': {'content_type': 'np'}},\n",
       "  {'name': 'citric acid',\n",
       "   'datatype': 'FP64',\n",
       "   'shape': [-1, 1],\n",
       "   'parameters': {'content_type': 'np'}},\n",
       "  {'name': 'residual sugar',\n",
       "   'datatype': 'FP64',\n",
       "   'shape': [-1, 1],\n",
       "   'parameters': {'content_type': 'np'}},\n",
       "  {'name': 'chlorides',\n",
       "   'datatype': 'FP64',\n",
       "   'shape': [-1, 1],\n",
       "   'parameters': {'content_type': 'np'}},\n",
       "  {'name': 'free sulfur dioxide',\n",
       "   'datatype': 'FP64',\n",
       "   'shape': [-1, 1],\n",
       "   'parameters': {'content_type': 'np'}},\n",
       "  {'name': 'total sulfur dioxide',\n",
       "   'datatype': 'FP64',\n",
       "   'shape': [-1, 1],\n",
       "   'parameters': {'content_type': 'np'}},\n",
       "  {'name': 'density',\n",
       "   'datatype': 'FP64',\n",
       "   'shape': [-1, 1],\n",
       "   'parameters': {'content_type': 'np'}},\n",
       "  {'name': 'pH',\n",
       "   'datatype': 'FP64',\n",
       "   'shape': [-1, 1],\n",
       "   'parameters': {'content_type': 'np'}},\n",
       "  {'name': 'sulphates',\n",
       "   'datatype': 'FP64',\n",
       "   'shape': [-1, 1],\n",
       "   'parameters': {'content_type': 'np'}},\n",
       "  {'name': 'alcohol',\n",
       "   'datatype': 'FP64',\n",
       "   'shape': [-1, 1],\n",
       "   'parameters': {'content_type': 'np'}}],\n",
       " 'outputs': [{'name': 'quality',\n",
       "   'datatype': 'INT64',\n",
       "   'shape': [-1, 1],\n",
       "   'parameters': {'content_type': 'np'}}],\n",
       " 'parameters': {'content_type': 'pd'}}"
      ]
     },
     "execution_count": 45,
     "metadata": {},
     "output_type": "execute_result"
    }
   ],
   "source": [
    "## Supports multiple models, with multiple versions\n",
    "requests.get(\"http://localhost:8080/v2/models/wine-classifier/versions/v0.1.0\").json()"
   ]
  },
  {
   "cell_type": "markdown",
   "id": "056b34f5-495f-4a79-9c82-50685b9d9e4b",
   "metadata": {},
   "source": [
    "# Multi-model Repository API"
   ]
  },
  {
   "cell_type": "code",
   "execution_count": 56,
   "id": "be5dcb64-7443-43d9-b43e-768dac94eef0",
   "metadata": {},
   "outputs": [
    {
     "name": "stdout",
     "output_type": "stream",
     "text": [
      "2024-11-09 13:42:35,412 [mlserver] WARNING - Model name 'wine-classifier' is different than model's folder name 'mlflow'.\n",
      "INFO:     127.0.0.1:59534 - \"POST /v2/repository/index HTTP/1.1\" 200 OK\n"
     ]
    },
    {
     "data": {
      "text/plain": [
       "[{'name': 'wine-classifier',\n",
       "  'version': 'v0.1.0',\n",
       "  'state': 'READY',\n",
       "  'reason': ''}]"
      ]
     },
     "execution_count": 56,
     "metadata": {},
     "output_type": "execute_result"
    }
   ],
   "source": [
    "import requests\n",
    "\n",
    "requests.post(\"http://localhost:8080/v2/repository/index\", json={}).json()"
   ]
  },
  {
   "cell_type": "code",
   "execution_count": 57,
   "id": "65eb867c-aff8-41f4-9b68-788a3c105f1f",
   "metadata": {},
   "outputs": [
    {
     "name": "stdout",
     "output_type": "stream",
     "text": [
      "2024-11-09 13:43:18,787 [mlserver][wine-classifier:v0.1.0] INFO - Unloaded version v0.1.0 of model 'wine-classifier' successfully.\n",
      "2024-11-09 13:43:18,789 [mlserver][wine-classifier:v0.1.0] INFO - Unloaded version v0.1.0 of model 'wine-classifier' successfully.\n",
      "2024-11-09 13:43:18,789 [mlserver] INFO - Unloaded all versions of model 'wine-classifier' successfully.\n",
      "INFO:     127.0.0.1:59572 - \"POST /v2/repository/models/wine-classifier/unload HTTP/1.1\" 200 OK\n"
     ]
    },
    {
     "data": {
      "text/plain": [
       "<Response [200]>"
      ]
     },
     "execution_count": 57,
     "metadata": {},
     "output_type": "execute_result"
    }
   ],
   "source": [
    "requests.post(\"http://localhost:8080/v2/repository/models/wine-classifier/unload\")"
   ]
  },
  {
   "cell_type": "code",
   "execution_count": 58,
   "id": "7e93f65a-2707-4274-a5a9-3785aff2ddd9",
   "metadata": {},
   "outputs": [
    {
     "name": "stdout",
     "output_type": "stream",
     "text": [
      "2024-11-09 13:43:29,011 [mlserver] WARNING - Model name 'wine-classifier' is different than model's folder name 'mlflow'.\n",
      "INFO:     127.0.0.1:59575 - \"POST /v2/repository/index HTTP/1.1\" 200 OK\n"
     ]
    },
    {
     "data": {
      "text/plain": [
       "[{'name': 'wine-classifier',\n",
       "  'version': 'v0.1.0',\n",
       "  'state': 'UNAVAILABLE',\n",
       "  'reason': ''}]"
      ]
     },
     "execution_count": 58,
     "metadata": {},
     "output_type": "execute_result"
    }
   ],
   "source": [
    "requests.post(\"http://localhost:8080/v2/repository/index\", json={}).json()"
   ]
  },
  {
   "cell_type": "code",
   "execution_count": 59,
   "id": "bcb27b48-59c6-4426-be4b-50526f9eb0f0",
   "metadata": {},
   "outputs": [
    {
     "name": "stdout",
     "output_type": "stream",
     "text": [
      "2024-11-09 13:43:39,171 [mlserver] WARNING - Model name 'wine-classifier' is different than model's folder name 'mlflow'.\n",
      "2024-11-09 13:43:39,221 [mlserver][wine-classifier:v0.1.0] INFO - Loaded model 'wine-classifier' successfully.\n",
      "2024-11-09 13:43:39,222 [mlserver][wine-classifier:v0.1.0] INFO - Loaded model 'wine-classifier' successfully.\n",
      "INFO:     127.0.0.1:59578 - \"POST /v2/repository/models/wine-classifier/load HTTP/1.1\" 200 OK\n"
     ]
    },
    {
     "data": {
      "text/plain": [
       "<Response [200]>"
      ]
     },
     "execution_count": 59,
     "metadata": {},
     "output_type": "execute_result"
    }
   ],
   "source": [
    "requests.post(\"http://localhost:8080/v2/repository/models/wine-classifier/load\")"
   ]
  },
  {
   "cell_type": "code",
   "execution_count": 60,
   "id": "5a921177-4dd3-4a39-8220-c5e9e96abc86",
   "metadata": {},
   "outputs": [
    {
     "name": "stdout",
     "output_type": "stream",
     "text": [
      "2024-11-09 13:43:43,352 [mlserver] WARNING - Model name 'wine-classifier' is different than model's folder name 'mlflow'.\n",
      "INFO:     127.0.0.1:59580 - \"POST /v2/repository/index HTTP/1.1\" 200 OK\n"
     ]
    },
    {
     "data": {
      "text/plain": [
       "[{'name': 'wine-classifier',\n",
       "  'version': 'v0.1.0',\n",
       "  'state': 'READY',\n",
       "  'reason': ''}]"
      ]
     },
     "execution_count": 60,
     "metadata": {},
     "output_type": "execute_result"
    }
   ],
   "source": [
    "requests.post(\"http://localhost:8080/v2/repository/index\", json={}).json()"
   ]
  },
  {
   "cell_type": "markdown",
   "id": "b599045e-5be8-4fd0-a068-ba4ee62a75eb",
   "metadata": {},
   "source": [
    "# Building a custom runtime"
   ]
  },
  {
   "cell_type": "code",
   "execution_count": 4,
   "id": "8453de86-3fed-4bee-9e08-831e573d7473",
   "metadata": {},
   "outputs": [],
   "source": [
    "from mlserver_sklearn import sklearn\n",
    "sklearn_file = sklearn.__file__"
   ]
  },
  {
   "cell_type": "code",
   "execution_count": 5,
   "id": "0b3328b6-8c0f-476f-a1c1-f2247e2c0303",
   "metadata": {},
   "outputs": [
    {
     "name": "stdout",
     "output_type": "stream",
     "text": [
      "\u001b[38;5;238m───────┬────────────────────────────────────────────────────────────────────────\u001b[0m\n",
      "       \u001b[38;5;238m│ \u001b[0mFile: \u001b[1m/Users/asaucedo/Programming/real-time-serving/.venv/lib/python3.12/site-packages/mlserver_sklearn/sklearn.py\u001b[0m\n",
      "\u001b[38;5;238m───────┼────────────────────────────────────────────────────────────────────────\u001b[0m\n",
      "\u001b[38;5;238m   1\u001b[0m   \u001b[38;5;238m│\u001b[0m \u001b[38;5;203mimport\u001b[0m\u001b[38;5;231m \u001b[0m\u001b[38;5;231mjoblib\u001b[0m\n",
      "\u001b[38;5;238m   2\u001b[0m   \u001b[38;5;238m│\u001b[0m \n",
      "\u001b[38;5;238m   3\u001b[0m   \u001b[38;5;238m│\u001b[0m \u001b[38;5;203mfrom\u001b[0m\u001b[38;5;231m \u001b[0m\u001b[38;5;231mtyping\u001b[0m\u001b[38;5;231m \u001b[0m\u001b[38;5;203mimport\u001b[0m\u001b[38;5;231m \u001b[0m\u001b[38;5;231mList\u001b[0m\n",
      "\u001b[38;5;238m   4\u001b[0m   \u001b[38;5;238m│\u001b[0m \u001b[38;5;203mfrom\u001b[0m\u001b[38;5;231m \u001b[0m\u001b[38;5;231msklearn\u001b[0m\u001b[38;5;231m.\u001b[0m\u001b[38;5;231mpipeline\u001b[0m\u001b[38;5;231m \u001b[0m\u001b[38;5;203mimport\u001b[0m\u001b[38;5;231m \u001b[0m\u001b[38;5;231mPipeline\u001b[0m\n",
      "\u001b[38;5;238m   5\u001b[0m   \u001b[38;5;238m│\u001b[0m \n",
      "\u001b[38;5;238m   6\u001b[0m   \u001b[38;5;238m│\u001b[0m \u001b[38;5;203mfrom\u001b[0m\u001b[38;5;231m \u001b[0m\u001b[38;5;231mmlserver\u001b[0m\u001b[38;5;231m.\u001b[0m\u001b[38;5;231mcodecs\u001b[0m\u001b[38;5;231m \u001b[0m\u001b[38;5;203mimport\u001b[0m\u001b[38;5;231m \u001b[0m\u001b[38;5;231mNumpyCodec\u001b[0m\u001b[38;5;231m,\u001b[0m\u001b[38;5;231m \u001b[0m\u001b[38;5;231mNumpyRequestCodec\u001b[0m\u001b[38;5;231m,\u001b[0m\u001b[38;5;231m \u001b[0m\u001b[38;5;231mPandasCodec\u001b[0m\n",
      "\u001b[38;5;238m   7\u001b[0m   \u001b[38;5;238m│\u001b[0m \u001b[38;5;203mfrom\u001b[0m\u001b[38;5;231m \u001b[0m\u001b[38;5;231mmlserver\u001b[0m\u001b[38;5;231m.\u001b[0m\u001b[38;5;231merrors\u001b[0m\u001b[38;5;231m \u001b[0m\u001b[38;5;203mimport\u001b[0m\u001b[38;5;231m \u001b[0m\u001b[38;5;231mInferenceError\u001b[0m\n",
      "\u001b[38;5;238m   8\u001b[0m   \u001b[38;5;238m│\u001b[0m \u001b[38;5;203mfrom\u001b[0m\u001b[38;5;231m \u001b[0m\u001b[38;5;231mmlserver\u001b[0m\u001b[38;5;231m.\u001b[0m\u001b[38;5;231mmodel\u001b[0m\u001b[38;5;231m \u001b[0m\u001b[38;5;203mimport\u001b[0m\u001b[38;5;231m \u001b[0m\u001b[38;5;231mMLModel\u001b[0m\n",
      "\u001b[38;5;238m   9\u001b[0m   \u001b[38;5;238m│\u001b[0m \u001b[38;5;203mfrom\u001b[0m\u001b[38;5;231m \u001b[0m\u001b[38;5;231mmlserver\u001b[0m\u001b[38;5;231m.\u001b[0m\u001b[38;5;231mtypes\u001b[0m\u001b[38;5;231m \u001b[0m\u001b[38;5;203mimport\u001b[0m\u001b[38;5;231m \u001b[0m\u001b[38;5;231m(\u001b[0m\n",
      "\u001b[38;5;238m  10\u001b[0m   \u001b[38;5;238m│\u001b[0m \u001b[38;5;231m    \u001b[0m\u001b[38;5;231mInferenceRequest\u001b[0m\u001b[38;5;231m,\u001b[0m\n",
      "\u001b[38;5;238m  11\u001b[0m   \u001b[38;5;238m│\u001b[0m \u001b[38;5;231m    \u001b[0m\u001b[38;5;231mInferenceResponse\u001b[0m\u001b[38;5;231m,\u001b[0m\n",
      "\u001b[38;5;238m  12\u001b[0m   \u001b[38;5;238m│\u001b[0m \u001b[38;5;231m    \u001b[0m\u001b[38;5;231mResponseOutput\u001b[0m\u001b[38;5;231m,\u001b[0m\n",
      "\u001b[38;5;238m  13\u001b[0m   \u001b[38;5;238m│\u001b[0m \u001b[38;5;231m    \u001b[0m\u001b[38;5;231mRequestOutput\u001b[0m\u001b[38;5;231m,\u001b[0m\n",
      "\u001b[38;5;238m  14\u001b[0m   \u001b[38;5;238m│\u001b[0m \u001b[38;5;231m)\u001b[0m\n",
      "\u001b[38;5;238m  15\u001b[0m   \u001b[38;5;238m│\u001b[0m \u001b[38;5;203mfrom\u001b[0m\u001b[38;5;231m \u001b[0m\u001b[38;5;231mmlserver\u001b[0m\u001b[38;5;231m.\u001b[0m\u001b[38;5;231mutils\u001b[0m\u001b[38;5;231m \u001b[0m\u001b[38;5;203mimport\u001b[0m\u001b[38;5;231m \u001b[0m\u001b[38;5;231mget_model_uri\u001b[0m\n",
      "\u001b[38;5;238m  16\u001b[0m   \u001b[38;5;238m│\u001b[0m \n",
      "\u001b[38;5;238m  17\u001b[0m   \u001b[38;5;238m│\u001b[0m \u001b[38;5;231mPREDICT_FN_KEY\u001b[0m\u001b[38;5;231m \u001b[0m\u001b[38;5;203m=\u001b[0m\u001b[38;5;231m \u001b[0m\u001b[38;5;186m\"\u001b[0m\u001b[38;5;186mpredict_fn\u001b[0m\u001b[38;5;186m\"\u001b[0m\n",
      "\u001b[38;5;238m  18\u001b[0m   \u001b[38;5;238m│\u001b[0m \u001b[38;5;231mPREDICT_OUTPUT\u001b[0m\u001b[38;5;231m \u001b[0m\u001b[38;5;203m=\u001b[0m\u001b[38;5;231m \u001b[0m\u001b[38;5;186m\"\u001b[0m\u001b[38;5;186mpredict\u001b[0m\u001b[38;5;186m\"\u001b[0m\n",
      "\u001b[38;5;238m  19\u001b[0m   \u001b[38;5;238m│\u001b[0m \u001b[38;5;231mPREDICT_PROBA_OUTPUT\u001b[0m\u001b[38;5;231m \u001b[0m\u001b[38;5;203m=\u001b[0m\u001b[38;5;231m \u001b[0m\u001b[38;5;186m\"\u001b[0m\u001b[38;5;186mpredict_proba\u001b[0m\u001b[38;5;186m\"\u001b[0m\n",
      "\u001b[38;5;238m  20\u001b[0m   \u001b[38;5;238m│\u001b[0m \u001b[38;5;231mPREDICT_TRANSFORM\u001b[0m\u001b[38;5;231m \u001b[0m\u001b[38;5;203m=\u001b[0m\u001b[38;5;231m \u001b[0m\u001b[38;5;186m\"\u001b[0m\u001b[38;5;186mtransform\u001b[0m\u001b[38;5;186m\"\u001b[0m\n",
      "\u001b[38;5;238m  21\u001b[0m   \u001b[38;5;238m│\u001b[0m \u001b[38;5;231mVALID_OUTPUTS\u001b[0m\u001b[38;5;231m \u001b[0m\u001b[38;5;203m=\u001b[0m\u001b[38;5;231m \u001b[0m\u001b[38;5;231m[\u001b[0m\u001b[38;5;231mPREDICT_OUTPUT\u001b[0m\u001b[38;5;231m,\u001b[0m\u001b[38;5;231m \u001b[0m\u001b[38;5;231mPREDICT_PROBA_OUTPUT\u001b[0m\u001b[38;5;231m,\u001b[0m\u001b[38;5;231m \u001b[0m\u001b[38;5;231mPREDICT_TRANSFOR\u001b[0m\n",
      "\u001b[38;5;238m    \u001b[0m   \u001b[38;5;238m│\u001b[0m \u001b[38;5;231mM\u001b[0m\u001b[38;5;231m]\u001b[0m\n",
      "\u001b[38;5;238m  22\u001b[0m   \u001b[38;5;238m│\u001b[0m \n",
      "\u001b[38;5;238m  23\u001b[0m   \u001b[38;5;238m│\u001b[0m \u001b[38;5;231mWELLKNOWN_MODEL_FILENAMES\u001b[0m\u001b[38;5;231m \u001b[0m\u001b[38;5;203m=\u001b[0m\u001b[38;5;231m \u001b[0m\u001b[38;5;231m[\u001b[0m\u001b[38;5;186m\"\u001b[0m\u001b[38;5;186mmodel.joblib\u001b[0m\u001b[38;5;186m\"\u001b[0m\u001b[38;5;231m,\u001b[0m\u001b[38;5;231m \u001b[0m\u001b[38;5;186m\"\u001b[0m\u001b[38;5;186mmodel.pickle\u001b[0m\u001b[38;5;186m\"\u001b[0m\u001b[38;5;231m,\u001b[0m\u001b[38;5;231m \u001b[0m\u001b[38;5;186m\"\u001b[0m\u001b[38;5;186mmodel.pkl\u001b[0m\n",
      "\u001b[38;5;238m    \u001b[0m   \u001b[38;5;238m│\u001b[0m \u001b[38;5;186m\"\u001b[0m\u001b[38;5;231m]\u001b[0m\n",
      "\u001b[38;5;238m  24\u001b[0m   \u001b[38;5;238m│\u001b[0m \n",
      "\u001b[38;5;238m  25\u001b[0m   \u001b[38;5;238m│\u001b[0m \n",
      "\u001b[38;5;238m  26\u001b[0m   \u001b[38;5;238m│\u001b[0m \u001b[38;5;203mclass\u001b[0m\u001b[38;5;231m \u001b[0m\u001b[4;38;5;81mSKLearnModel\u001b[0m\u001b[38;5;231m(\u001b[0m\u001b[4;38;5;149mMLModel\u001b[0m\u001b[38;5;231m)\u001b[0m\u001b[38;5;231m:\u001b[0m\n",
      "\u001b[38;5;238m  27\u001b[0m   \u001b[38;5;238m│\u001b[0m \u001b[38;5;231m    \u001b[0m\u001b[38;5;242m\"\"\"\u001b[0m\n",
      "\u001b[38;5;238m  28\u001b[0m   \u001b[38;5;238m│\u001b[0m \u001b[38;5;242m    Implementation of the MLModel interface to load and serve `scikit-l\u001b[0m\n",
      "\u001b[38;5;238m    \u001b[0m   \u001b[38;5;238m│\u001b[0m \u001b[38;5;242mearn`\u001b[0m\n",
      "\u001b[38;5;238m  29\u001b[0m   \u001b[38;5;238m│\u001b[0m \u001b[38;5;242m    models persisted with `joblib`.\u001b[0m\n",
      "\u001b[38;5;238m  30\u001b[0m   \u001b[38;5;238m│\u001b[0m \u001b[38;5;242m    \u001b[0m\u001b[38;5;242m\"\"\"\u001b[0m\n",
      "\u001b[38;5;238m  31\u001b[0m   \u001b[38;5;238m│\u001b[0m \n",
      "\u001b[38;5;238m  32\u001b[0m   \u001b[38;5;238m│\u001b[0m \u001b[38;5;231m    \u001b[0m\u001b[38;5;203masync\u001b[0m\u001b[38;5;231m \u001b[0m\u001b[38;5;203mdef\u001b[0m\u001b[38;5;231m \u001b[0m\u001b[38;5;149mload\u001b[0m\u001b[38;5;231m(\u001b[0m\u001b[38;5;208mself\u001b[0m\u001b[38;5;231m)\u001b[0m\u001b[38;5;231m \u001b[0m\u001b[38;5;231m->\u001b[0m\u001b[38;5;231m \u001b[0m\u001b[38;5;149mbool\u001b[0m\u001b[38;5;231m:\u001b[0m\n",
      "\u001b[38;5;238m  33\u001b[0m   \u001b[38;5;238m│\u001b[0m \u001b[38;5;231m        \u001b[0m\u001b[38;5;242m#\u001b[0m\u001b[38;5;242m TODO: Log info message\u001b[0m\n",
      "\u001b[38;5;238m  34\u001b[0m   \u001b[38;5;238m│\u001b[0m \u001b[38;5;231m        \u001b[0m\u001b[38;5;231mmodel_uri\u001b[0m\u001b[38;5;231m \u001b[0m\u001b[38;5;203m=\u001b[0m\u001b[38;5;231m \u001b[0m\u001b[38;5;203mawait\u001b[0m\u001b[38;5;231m \u001b[0m\u001b[38;5;231mget_model_uri\u001b[0m\u001b[38;5;231m(\u001b[0m\n",
      "\u001b[38;5;238m  35\u001b[0m   \u001b[38;5;238m│\u001b[0m \u001b[38;5;231m            \u001b[0m\u001b[38;5;231mself\u001b[0m\u001b[38;5;231m.\u001b[0m\u001b[38;5;231m_settings\u001b[0m\u001b[38;5;231m,\u001b[0m\u001b[38;5;231m \u001b[0m\u001b[38;5;208mwellknown_filenames\u001b[0m\u001b[38;5;203m=\u001b[0m\u001b[38;5;231mWELLKNOWN_MODEL_FILENAM\u001b[0m\n",
      "\u001b[38;5;238m    \u001b[0m   \u001b[38;5;238m│\u001b[0m \u001b[38;5;231mES\u001b[0m\n",
      "\u001b[38;5;238m  36\u001b[0m   \u001b[38;5;238m│\u001b[0m \u001b[38;5;231m        \u001b[0m\u001b[38;5;231m)\u001b[0m\n",
      "\u001b[38;5;238m  37\u001b[0m   \u001b[38;5;238m│\u001b[0m \u001b[38;5;231m        \u001b[0m\u001b[38;5;231mself\u001b[0m\u001b[38;5;231m.\u001b[0m\u001b[38;5;231m_model\u001b[0m\u001b[38;5;231m \u001b[0m\u001b[38;5;203m=\u001b[0m\u001b[38;5;231m \u001b[0m\u001b[38;5;231mjoblib\u001b[0m\u001b[38;5;231m.\u001b[0m\u001b[38;5;231mload\u001b[0m\u001b[38;5;231m(\u001b[0m\u001b[38;5;231mmodel_uri\u001b[0m\u001b[38;5;231m)\u001b[0m\n",
      "\u001b[38;5;238m  38\u001b[0m   \u001b[38;5;238m│\u001b[0m \n",
      "\u001b[38;5;238m  39\u001b[0m   \u001b[38;5;238m│\u001b[0m \u001b[38;5;231m        \u001b[0m\u001b[38;5;203mreturn\u001b[0m\u001b[38;5;231m \u001b[0m\u001b[38;5;141mTrue\u001b[0m\n",
      "\u001b[38;5;238m  40\u001b[0m   \u001b[38;5;238m│\u001b[0m \n",
      "\u001b[38;5;238m  41\u001b[0m   \u001b[38;5;238m│\u001b[0m \u001b[38;5;231m    \u001b[0m\u001b[38;5;203masync\u001b[0m\u001b[38;5;231m \u001b[0m\u001b[38;5;203mdef\u001b[0m\u001b[38;5;231m \u001b[0m\u001b[38;5;149mpredict\u001b[0m\u001b[38;5;231m(\u001b[0m\u001b[38;5;208mself\u001b[0m\u001b[38;5;231m,\u001b[0m\u001b[38;5;231m \u001b[0m\u001b[38;5;208mpayload\u001b[0m\u001b[38;5;231m:\u001b[0m\u001b[38;5;231m \u001b[0m\u001b[38;5;231mInferenceRequest\u001b[0m\u001b[38;5;231m)\u001b[0m\u001b[38;5;231m \u001b[0m\u001b[38;5;231m->\u001b[0m\u001b[38;5;231m \u001b[0m\u001b[38;5;231mInferenceResp\u001b[0m\n",
      "\u001b[38;5;238m    \u001b[0m   \u001b[38;5;238m│\u001b[0m \u001b[38;5;231monse\u001b[0m\u001b[38;5;231m:\u001b[0m\n",
      "\u001b[38;5;238m  42\u001b[0m   \u001b[38;5;238m│\u001b[0m \u001b[38;5;231m        \u001b[0m\u001b[38;5;231mpayload\u001b[0m\u001b[38;5;231m \u001b[0m\u001b[38;5;203m=\u001b[0m\u001b[38;5;231m \u001b[0m\u001b[38;5;231mself\u001b[0m\u001b[38;5;231m.\u001b[0m\u001b[38;5;231m_check_request\u001b[0m\u001b[38;5;231m(\u001b[0m\u001b[38;5;231mpayload\u001b[0m\u001b[38;5;231m)\u001b[0m\n",
      "\u001b[38;5;238m  43\u001b[0m   \u001b[38;5;238m│\u001b[0m \n",
      "\u001b[38;5;238m  44\u001b[0m   \u001b[38;5;238m│\u001b[0m \u001b[38;5;231m        \u001b[0m\u001b[38;5;231moutputs\u001b[0m\u001b[38;5;231m \u001b[0m\u001b[38;5;203m=\u001b[0m\u001b[38;5;231m \u001b[0m\u001b[38;5;231mself\u001b[0m\u001b[38;5;231m.\u001b[0m\u001b[38;5;231m_get_model_outputs\u001b[0m\u001b[38;5;231m(\u001b[0m\u001b[38;5;231mpayload\u001b[0m\u001b[38;5;231m)\u001b[0m\n",
      "\u001b[38;5;238m  45\u001b[0m   \u001b[38;5;238m│\u001b[0m \n",
      "\u001b[38;5;238m  46\u001b[0m   \u001b[38;5;238m│\u001b[0m \u001b[38;5;231m        \u001b[0m\u001b[38;5;203mreturn\u001b[0m\u001b[38;5;231m \u001b[0m\u001b[38;5;231mInferenceResponse\u001b[0m\u001b[38;5;231m(\u001b[0m\n",
      "\u001b[38;5;238m  47\u001b[0m   \u001b[38;5;238m│\u001b[0m \u001b[38;5;231m            \u001b[0m\u001b[38;5;208mmodel_name\u001b[0m\u001b[38;5;203m=\u001b[0m\u001b[38;5;231mself\u001b[0m\u001b[38;5;231m.\u001b[0m\u001b[38;5;231mname\u001b[0m\u001b[38;5;231m,\u001b[0m\n",
      "\u001b[38;5;238m  48\u001b[0m   \u001b[38;5;238m│\u001b[0m \u001b[38;5;231m            \u001b[0m\u001b[38;5;208mmodel_version\u001b[0m\u001b[38;5;203m=\u001b[0m\u001b[38;5;231mself\u001b[0m\u001b[38;5;231m.\u001b[0m\u001b[38;5;231mversion\u001b[0m\u001b[38;5;231m,\u001b[0m\n",
      "\u001b[38;5;238m  49\u001b[0m   \u001b[38;5;238m│\u001b[0m \u001b[38;5;231m            \u001b[0m\u001b[38;5;208moutputs\u001b[0m\u001b[38;5;203m=\u001b[0m\u001b[38;5;231moutputs\u001b[0m\u001b[38;5;231m,\u001b[0m\n",
      "\u001b[38;5;238m  50\u001b[0m   \u001b[38;5;238m│\u001b[0m \u001b[38;5;231m        \u001b[0m\u001b[38;5;231m)\u001b[0m\n",
      "\u001b[38;5;238m  51\u001b[0m   \u001b[38;5;238m│\u001b[0m \n",
      "\u001b[38;5;238m  52\u001b[0m   \u001b[38;5;238m│\u001b[0m \u001b[38;5;231m    \u001b[0m\u001b[38;5;203mdef\u001b[0m\u001b[38;5;231m \u001b[0m\u001b[38;5;149m_check_request\u001b[0m\u001b[38;5;231m(\u001b[0m\u001b[38;5;208mself\u001b[0m\u001b[38;5;231m,\u001b[0m\u001b[38;5;231m \u001b[0m\u001b[38;5;208mpayload\u001b[0m\u001b[38;5;231m:\u001b[0m\u001b[38;5;231m \u001b[0m\u001b[38;5;231mInferenceRequest\u001b[0m\u001b[38;5;231m)\u001b[0m\u001b[38;5;231m \u001b[0m\u001b[38;5;231m->\u001b[0m\u001b[38;5;231m \u001b[0m\u001b[38;5;231mInferenceReq\u001b[0m\n",
      "\u001b[38;5;238m    \u001b[0m   \u001b[38;5;238m│\u001b[0m \u001b[38;5;231muest\u001b[0m\u001b[38;5;231m:\u001b[0m\n",
      "\u001b[38;5;238m  53\u001b[0m   \u001b[38;5;238m│\u001b[0m \u001b[38;5;231m        \u001b[0m\u001b[38;5;203mif\u001b[0m\u001b[38;5;231m \u001b[0m\u001b[38;5;203mnot\u001b[0m\u001b[38;5;231m \u001b[0m\u001b[38;5;231mpayload\u001b[0m\u001b[38;5;231m.\u001b[0m\u001b[38;5;231moutputs\u001b[0m\u001b[38;5;231m:\u001b[0m\n",
      "\u001b[38;5;238m  54\u001b[0m   \u001b[38;5;238m│\u001b[0m \u001b[38;5;231m            \u001b[0m\u001b[38;5;231mfound_predict_fn\u001b[0m\u001b[38;5;231m \u001b[0m\u001b[38;5;203m=\u001b[0m\u001b[38;5;231m \u001b[0m\u001b[38;5;141mFalse\u001b[0m\n",
      "\u001b[38;5;238m  55\u001b[0m   \u001b[38;5;238m│\u001b[0m \u001b[38;5;231m            \u001b[0m\u001b[38;5;203mif\u001b[0m\u001b[38;5;231m \u001b[0m\u001b[38;5;231mself\u001b[0m\u001b[38;5;231m.\u001b[0m\u001b[38;5;231msettings\u001b[0m\u001b[38;5;231m.\u001b[0m\u001b[38;5;231mparameters\u001b[0m\u001b[38;5;231m:\u001b[0m\n",
      "\u001b[38;5;238m  56\u001b[0m   \u001b[38;5;238m│\u001b[0m \u001b[38;5;231m                \u001b[0m\u001b[38;5;203mif\u001b[0m\u001b[38;5;231m \u001b[0m\u001b[38;5;231mself\u001b[0m\u001b[38;5;231m.\u001b[0m\u001b[38;5;231msettings\u001b[0m\u001b[38;5;231m.\u001b[0m\u001b[38;5;231mparameters\u001b[0m\u001b[38;5;231m.\u001b[0m\u001b[38;5;231mextra\u001b[0m\u001b[38;5;231m:\u001b[0m\n",
      "\u001b[38;5;238m  57\u001b[0m   \u001b[38;5;238m│\u001b[0m \u001b[38;5;231m                    \u001b[0m\u001b[38;5;203mif\u001b[0m\u001b[38;5;231m \u001b[0m\u001b[38;5;231mPREDICT_FN_KEY\u001b[0m\u001b[38;5;231m \u001b[0m\u001b[38;5;203min\u001b[0m\u001b[38;5;231m \u001b[0m\u001b[38;5;231mself\u001b[0m\u001b[38;5;231m.\u001b[0m\u001b[38;5;231msettings\u001b[0m\u001b[38;5;231m.\u001b[0m\u001b[38;5;231mparameters\u001b[0m\u001b[38;5;231m.\u001b[0m\u001b[38;5;231mextra\u001b[0m\n",
      "\u001b[38;5;238m    \u001b[0m   \u001b[38;5;238m│\u001b[0m \u001b[38;5;231m:\u001b[0m\n",
      "\u001b[38;5;238m  58\u001b[0m   \u001b[38;5;238m│\u001b[0m \u001b[38;5;231m                        \u001b[0m\u001b[38;5;231mpayload\u001b[0m\u001b[38;5;231m.\u001b[0m\u001b[38;5;231moutputs\u001b[0m\u001b[38;5;231m \u001b[0m\u001b[38;5;203m=\u001b[0m\u001b[38;5;231m \u001b[0m\u001b[38;5;231m[\u001b[0m\n",
      "\u001b[38;5;238m  59\u001b[0m   \u001b[38;5;238m│\u001b[0m \u001b[38;5;231m                            \u001b[0m\u001b[38;5;231mRequestOutput\u001b[0m\u001b[38;5;231m(\u001b[0m\n",
      "\u001b[38;5;238m  60\u001b[0m   \u001b[38;5;238m│\u001b[0m \u001b[38;5;231m                                \u001b[0m\u001b[38;5;208mname\u001b[0m\u001b[38;5;203m=\u001b[0m\u001b[38;5;231mself\u001b[0m\u001b[38;5;231m.\u001b[0m\u001b[38;5;231msettings\u001b[0m\u001b[38;5;231m.\u001b[0m\u001b[38;5;231mparameters\u001b[0m\u001b[38;5;231m.\u001b[0m\u001b[38;5;231mextra\u001b[0m\u001b[38;5;231m[\u001b[0m\u001b[38;5;231mPRE\u001b[0m\n",
      "\u001b[38;5;238m    \u001b[0m   \u001b[38;5;238m│\u001b[0m \u001b[38;5;231mDICT_FN_KEY\u001b[0m\u001b[38;5;231m]\u001b[0m\n",
      "\u001b[38;5;238m  61\u001b[0m   \u001b[38;5;238m│\u001b[0m \u001b[38;5;231m                            \u001b[0m\u001b[38;5;231m)\u001b[0m\n",
      "\u001b[38;5;238m  62\u001b[0m   \u001b[38;5;238m│\u001b[0m \u001b[38;5;231m                        \u001b[0m\u001b[38;5;231m]\u001b[0m\n",
      "\u001b[38;5;238m  63\u001b[0m   \u001b[38;5;238m│\u001b[0m \u001b[38;5;231m                        \u001b[0m\u001b[38;5;231mfound_predict_fn\u001b[0m\u001b[38;5;231m \u001b[0m\u001b[38;5;203m=\u001b[0m\u001b[38;5;231m \u001b[0m\u001b[38;5;141mTrue\u001b[0m\n",
      "\u001b[38;5;238m  64\u001b[0m   \u001b[38;5;238m│\u001b[0m \u001b[38;5;231m            \u001b[0m\u001b[38;5;242m#\u001b[0m\u001b[38;5;242m By default, only return the result of `predict()`\u001b[0m\n",
      "\u001b[38;5;238m  65\u001b[0m   \u001b[38;5;238m│\u001b[0m \u001b[38;5;231m            \u001b[0m\u001b[38;5;203mif\u001b[0m\u001b[38;5;231m \u001b[0m\u001b[38;5;203mnot\u001b[0m\u001b[38;5;231m \u001b[0m\u001b[38;5;231mfound_predict_fn\u001b[0m\u001b[38;5;231m:\u001b[0m\n",
      "\u001b[38;5;238m  66\u001b[0m   \u001b[38;5;238m│\u001b[0m \u001b[38;5;231m                \u001b[0m\u001b[38;5;231mpayload\u001b[0m\u001b[38;5;231m.\u001b[0m\u001b[38;5;231moutputs\u001b[0m\u001b[38;5;231m \u001b[0m\u001b[38;5;203m=\u001b[0m\u001b[38;5;231m \u001b[0m\u001b[38;5;231m[\u001b[0m\u001b[38;5;231mRequestOutput\u001b[0m\u001b[38;5;231m(\u001b[0m\u001b[38;5;208mname\u001b[0m\u001b[38;5;203m=\u001b[0m\u001b[38;5;231mPREDICT_OUTPUT\u001b[0m\u001b[38;5;231m)\u001b[0m\u001b[38;5;231m]\u001b[0m\n",
      "\u001b[38;5;238m  67\u001b[0m   \u001b[38;5;238m│\u001b[0m \u001b[38;5;231m        \u001b[0m\u001b[38;5;203melse\u001b[0m\u001b[38;5;231m:\u001b[0m\n",
      "\u001b[38;5;238m  68\u001b[0m   \u001b[38;5;238m│\u001b[0m \u001b[38;5;231m            \u001b[0m\u001b[38;5;203mfor\u001b[0m\u001b[38;5;231m \u001b[0m\u001b[38;5;231mrequest_output\u001b[0m\u001b[38;5;231m \u001b[0m\u001b[38;5;203min\u001b[0m\u001b[38;5;231m \u001b[0m\u001b[38;5;231mpayload\u001b[0m\u001b[38;5;231m.\u001b[0m\u001b[38;5;231moutputs\u001b[0m\u001b[38;5;231m:\u001b[0m\n",
      "\u001b[38;5;238m  69\u001b[0m   \u001b[38;5;238m│\u001b[0m \u001b[38;5;231m                \u001b[0m\u001b[38;5;203mif\u001b[0m\u001b[38;5;231m \u001b[0m\u001b[38;5;231mrequest_output\u001b[0m\u001b[38;5;231m.\u001b[0m\u001b[38;5;231mname\u001b[0m\u001b[38;5;231m \u001b[0m\u001b[38;5;203mnot\u001b[0m\u001b[38;5;231m \u001b[0m\u001b[38;5;203min\u001b[0m\u001b[38;5;231m \u001b[0m\u001b[38;5;231mVALID_OUTPUTS\u001b[0m\u001b[38;5;231m:\u001b[0m\n",
      "\u001b[38;5;238m  70\u001b[0m   \u001b[38;5;238m│\u001b[0m \u001b[38;5;231m                    \u001b[0m\u001b[38;5;203mraise\u001b[0m\u001b[38;5;231m \u001b[0m\u001b[38;5;231mInferenceError\u001b[0m\u001b[38;5;231m(\u001b[0m\n",
      "\u001b[38;5;238m  71\u001b[0m   \u001b[38;5;238m│\u001b[0m \u001b[38;5;231m                        \u001b[0m\u001b[38;5;81mf\u001b[0m\u001b[38;5;186m\"\u001b[0m\u001b[38;5;186mSKLearnModel only supports '\u001b[0m\u001b[38;5;231m{\u001b[0m\u001b[38;5;231mPREDICT_OUTPUT\u001b[0m\u001b[38;5;231m}\u001b[0m\u001b[38;5;186m'\u001b[0m\n",
      "\u001b[38;5;238m    \u001b[0m   \u001b[38;5;238m│\u001b[0m \u001b[38;5;186m, \u001b[0m\u001b[38;5;186m\"\u001b[0m\n",
      "\u001b[38;5;238m  72\u001b[0m   \u001b[38;5;238m│\u001b[0m \u001b[38;5;231m                        \u001b[0m\u001b[38;5;81mf\u001b[0m\u001b[38;5;186m\"\u001b[0m\u001b[38;5;186m'\u001b[0m\u001b[38;5;231m{\u001b[0m\u001b[38;5;231mPREDICT_PROBA_OUTPUT\u001b[0m\u001b[38;5;231m}\u001b[0m\u001b[38;5;186m' and \u001b[0m\u001b[38;5;186m\"\u001b[0m\n",
      "\u001b[38;5;238m  73\u001b[0m   \u001b[38;5;238m│\u001b[0m \u001b[38;5;231m                        \u001b[0m\u001b[38;5;81mf\u001b[0m\u001b[38;5;186m\"\u001b[0m\u001b[38;5;186m'\u001b[0m\u001b[38;5;231m{\u001b[0m\u001b[38;5;231mPREDICT_TRANSFORM\u001b[0m\u001b[38;5;231m}\u001b[0m\u001b[38;5;186m' as outputs \u001b[0m\u001b[38;5;186m\"\u001b[0m\n",
      "\u001b[38;5;238m  74\u001b[0m   \u001b[38;5;238m│\u001b[0m \u001b[38;5;231m                        \u001b[0m\u001b[38;5;81mf\u001b[0m\u001b[38;5;186m\"\u001b[0m\u001b[38;5;186m(\u001b[0m\u001b[38;5;231m{\u001b[0m\u001b[38;5;231mrequest_output\u001b[0m\u001b[38;5;231m.\u001b[0m\u001b[38;5;231mname\u001b[0m\u001b[38;5;231m}\u001b[0m\u001b[38;5;186m was received)\u001b[0m\u001b[38;5;186m\"\u001b[0m\n",
      "\u001b[38;5;238m  75\u001b[0m   \u001b[38;5;238m│\u001b[0m \u001b[38;5;231m                    \u001b[0m\u001b[38;5;231m)\u001b[0m\n",
      "\u001b[38;5;238m  76\u001b[0m   \u001b[38;5;238m│\u001b[0m \n",
      "\u001b[38;5;238m  77\u001b[0m   \u001b[38;5;238m│\u001b[0m \u001b[38;5;231m        \u001b[0m\u001b[38;5;242m#\u001b[0m\u001b[38;5;242m Regression models do not support `predict_proba`\u001b[0m\n",
      "\u001b[38;5;238m  78\u001b[0m   \u001b[38;5;238m│\u001b[0m \u001b[38;5;231m        \u001b[0m\u001b[38;5;231moutput_names\u001b[0m\u001b[38;5;231m \u001b[0m\u001b[38;5;203m=\u001b[0m\u001b[38;5;231m \u001b[0m\u001b[38;5;231m[\u001b[0m\u001b[38;5;231mo\u001b[0m\u001b[38;5;231m.\u001b[0m\u001b[38;5;231mname\u001b[0m\u001b[38;5;231m \u001b[0m\u001b[38;5;203mfor\u001b[0m\u001b[38;5;231m \u001b[0m\u001b[38;5;231mo\u001b[0m\u001b[38;5;231m \u001b[0m\u001b[38;5;203min\u001b[0m\u001b[38;5;231m \u001b[0m\u001b[38;5;231mpayload\u001b[0m\u001b[38;5;231m.\u001b[0m\u001b[38;5;231moutputs\u001b[0m\u001b[38;5;231m]\u001b[0m\u001b[38;5;231m  \u001b[0m\u001b[38;5;242m#\u001b[0m\u001b[38;5;242m type: ignor\u001b[0m\n",
      "\u001b[38;5;238m    \u001b[0m   \u001b[38;5;238m│\u001b[0m \u001b[38;5;242me\u001b[0m\n",
      "\u001b[38;5;238m  79\u001b[0m   \u001b[38;5;238m│\u001b[0m \u001b[38;5;231m        \u001b[0m\u001b[38;5;203mif\u001b[0m\u001b[38;5;231m \u001b[0m\u001b[38;5;231mPREDICT_PROBA_OUTPUT\u001b[0m\u001b[38;5;231m \u001b[0m\u001b[38;5;203min\u001b[0m\u001b[38;5;231m \u001b[0m\u001b[38;5;231moutput_names\u001b[0m\u001b[38;5;231m:\u001b[0m\n",
      "\u001b[38;5;238m  80\u001b[0m   \u001b[38;5;238m│\u001b[0m \u001b[38;5;231m            \u001b[0m\u001b[38;5;242m#\u001b[0m\u001b[38;5;242m Ensure model supports it\u001b[0m\n",
      "\u001b[38;5;238m  81\u001b[0m   \u001b[38;5;238m│\u001b[0m \u001b[38;5;231m            \u001b[0m\u001b[38;5;231mmaybe_regressor\u001b[0m\u001b[38;5;231m \u001b[0m\u001b[38;5;203m=\u001b[0m\u001b[38;5;231m \u001b[0m\u001b[38;5;231mself\u001b[0m\u001b[38;5;231m.\u001b[0m\u001b[38;5;231m_model\u001b[0m\n",
      "\u001b[38;5;238m  82\u001b[0m   \u001b[38;5;238m│\u001b[0m \u001b[38;5;231m            \u001b[0m\u001b[38;5;203mif\u001b[0m\u001b[38;5;231m \u001b[0m\u001b[38;5;81misinstance\u001b[0m\u001b[38;5;231m(\u001b[0m\u001b[38;5;231mself\u001b[0m\u001b[38;5;231m.\u001b[0m\u001b[38;5;231m_model\u001b[0m\u001b[38;5;231m,\u001b[0m\u001b[38;5;231m \u001b[0m\u001b[38;5;231mPipeline\u001b[0m\u001b[38;5;231m)\u001b[0m\u001b[38;5;231m:\u001b[0m\n",
      "\u001b[38;5;238m  83\u001b[0m   \u001b[38;5;238m│\u001b[0m \u001b[38;5;231m                \u001b[0m\u001b[38;5;231mmaybe_regressor\u001b[0m\u001b[38;5;231m \u001b[0m\u001b[38;5;203m=\u001b[0m\u001b[38;5;231m \u001b[0m\u001b[38;5;231mmaybe_regressor\u001b[0m\u001b[38;5;231m.\u001b[0m\u001b[38;5;231msteps\u001b[0m\u001b[38;5;231m[\u001b[0m\u001b[38;5;203m-\u001b[0m\u001b[38;5;141m1\u001b[0m\u001b[38;5;231m]\u001b[0m\u001b[38;5;231m[\u001b[0m\u001b[38;5;203m-\u001b[0m\u001b[38;5;141m1\u001b[0m\u001b[38;5;231m]\u001b[0m\n",
      "\u001b[38;5;238m  84\u001b[0m   \u001b[38;5;238m│\u001b[0m \n",
      "\u001b[38;5;238m  85\u001b[0m   \u001b[38;5;238m│\u001b[0m \u001b[38;5;231m            \u001b[0m\u001b[38;5;203mif\u001b[0m\u001b[38;5;231m \u001b[0m\u001b[38;5;203mnot\u001b[0m\u001b[38;5;231m \u001b[0m\u001b[38;5;81mhasattr\u001b[0m\u001b[38;5;231m(\u001b[0m\u001b[38;5;231mmaybe_regressor\u001b[0m\u001b[38;5;231m,\u001b[0m\u001b[38;5;231m \u001b[0m\u001b[38;5;231mPREDICT_PROBA_OUTPUT\u001b[0m\u001b[38;5;231m)\u001b[0m\u001b[38;5;231m:\u001b[0m\n",
      "\u001b[38;5;238m  86\u001b[0m   \u001b[38;5;238m│\u001b[0m \u001b[38;5;231m                \u001b[0m\u001b[38;5;203mraise\u001b[0m\u001b[38;5;231m \u001b[0m\u001b[38;5;231mInferenceError\u001b[0m\u001b[38;5;231m(\u001b[0m\n",
      "\u001b[38;5;238m  87\u001b[0m   \u001b[38;5;238m│\u001b[0m \u001b[38;5;231m                    \u001b[0m\u001b[38;5;81mf\u001b[0m\u001b[38;5;186m\"\u001b[0m\u001b[38;5;231m{\u001b[0m\u001b[38;5;81mtype\u001b[0m\u001b[38;5;231m(\u001b[0m\u001b[38;5;231mmaybe_regressor\u001b[0m\u001b[38;5;231m)\u001b[0m\u001b[38;5;231m}\u001b[0m\u001b[38;5;186m models do not support \u001b[0m\u001b[38;5;186m\"\u001b[0m\n",
      "\u001b[38;5;238m  88\u001b[0m   \u001b[38;5;238m│\u001b[0m \u001b[38;5;231m                    \u001b[0m\u001b[38;5;81mf\u001b[0m\u001b[38;5;186m\"\u001b[0m\u001b[38;5;186m'\u001b[0m\u001b[38;5;231m{\u001b[0m\u001b[38;5;231mPREDICT_PROBA_OUTPUT\u001b[0m\u001b[38;5;231m}\u001b[0m\u001b[38;5;186m\"\u001b[0m\n",
      "\u001b[38;5;238m  89\u001b[0m   \u001b[38;5;238m│\u001b[0m \u001b[38;5;231m                \u001b[0m\u001b[38;5;231m)\u001b[0m\n",
      "\u001b[38;5;238m  90\u001b[0m   \u001b[38;5;238m│\u001b[0m \n",
      "\u001b[38;5;238m  91\u001b[0m   \u001b[38;5;238m│\u001b[0m \u001b[38;5;231m        \u001b[0m\u001b[38;5;203mreturn\u001b[0m\u001b[38;5;231m \u001b[0m\u001b[38;5;231mpayload\u001b[0m\n",
      "\u001b[38;5;238m  92\u001b[0m   \u001b[38;5;238m│\u001b[0m \n",
      "\u001b[38;5;238m  93\u001b[0m   \u001b[38;5;238m│\u001b[0m \u001b[38;5;231m    \u001b[0m\u001b[38;5;203mdef\u001b[0m\u001b[38;5;231m \u001b[0m\u001b[38;5;149m_get_model_outputs\u001b[0m\u001b[38;5;231m(\u001b[0m\u001b[38;5;208mself\u001b[0m\u001b[38;5;231m,\u001b[0m\u001b[38;5;231m \u001b[0m\u001b[38;5;208mpayload\u001b[0m\u001b[38;5;231m:\u001b[0m\u001b[38;5;231m \u001b[0m\u001b[38;5;231mInferenceRequest\u001b[0m\u001b[38;5;231m)\u001b[0m\u001b[38;5;231m \u001b[0m\u001b[38;5;231m->\u001b[0m\u001b[38;5;231m \u001b[0m\u001b[38;5;231mList\u001b[0m\u001b[38;5;231m[\u001b[0m\u001b[38;5;231mRes\u001b[0m\n",
      "\u001b[38;5;238m    \u001b[0m   \u001b[38;5;238m│\u001b[0m \u001b[38;5;231mponseOutput\u001b[0m\u001b[38;5;231m]\u001b[0m\u001b[38;5;231m:\u001b[0m\n",
      "\u001b[38;5;238m  94\u001b[0m   \u001b[38;5;238m│\u001b[0m \u001b[38;5;231m        \u001b[0m\u001b[38;5;231mdecoded_request\u001b[0m\u001b[38;5;231m \u001b[0m\u001b[38;5;203m=\u001b[0m\u001b[38;5;231m \u001b[0m\u001b[38;5;231mself\u001b[0m\u001b[38;5;231m.\u001b[0m\u001b[38;5;231mdecode_request\u001b[0m\u001b[38;5;231m(\u001b[0m\u001b[38;5;231mpayload\u001b[0m\u001b[38;5;231m,\u001b[0m\u001b[38;5;231m \u001b[0m\u001b[38;5;208mdefault_codec\u001b[0m\u001b[38;5;203m=\u001b[0m\u001b[38;5;231mNu\u001b[0m\n",
      "\u001b[38;5;238m    \u001b[0m   \u001b[38;5;238m│\u001b[0m \u001b[38;5;231mmpyRequestCodec\u001b[0m\u001b[38;5;231m)\u001b[0m\n",
      "\u001b[38;5;238m  95\u001b[0m   \u001b[38;5;238m│\u001b[0m \n",
      "\u001b[38;5;238m  96\u001b[0m   \u001b[38;5;238m│\u001b[0m \u001b[38;5;231m        \u001b[0m\u001b[38;5;231moutputs\u001b[0m\u001b[38;5;231m \u001b[0m\u001b[38;5;203m=\u001b[0m\u001b[38;5;231m \u001b[0m\u001b[38;5;231m[\u001b[0m\u001b[38;5;231m]\u001b[0m\n",
      "\u001b[38;5;238m  97\u001b[0m   \u001b[38;5;238m│\u001b[0m \u001b[38;5;231m        \u001b[0m\u001b[38;5;203mfor\u001b[0m\u001b[38;5;231m \u001b[0m\u001b[38;5;231mrequest_output\u001b[0m\u001b[38;5;231m \u001b[0m\u001b[38;5;203min\u001b[0m\u001b[38;5;231m \u001b[0m\u001b[38;5;231mpayload\u001b[0m\u001b[38;5;231m.\u001b[0m\u001b[38;5;231moutputs\u001b[0m\u001b[38;5;231m:\u001b[0m\u001b[38;5;231m  \u001b[0m\u001b[38;5;242m#\u001b[0m\u001b[38;5;242m type: ignore\u001b[0m\n",
      "\u001b[38;5;238m  98\u001b[0m   \u001b[38;5;238m│\u001b[0m \u001b[38;5;231m            \u001b[0m\u001b[38;5;231mpredict_fn\u001b[0m\u001b[38;5;231m \u001b[0m\u001b[38;5;203m=\u001b[0m\u001b[38;5;231m \u001b[0m\u001b[38;5;81mgetattr\u001b[0m\u001b[38;5;231m(\u001b[0m\u001b[38;5;231mself\u001b[0m\u001b[38;5;231m.\u001b[0m\u001b[38;5;231m_model\u001b[0m\u001b[38;5;231m,\u001b[0m\u001b[38;5;231m \u001b[0m\u001b[38;5;231mrequest_output\u001b[0m\u001b[38;5;231m.\u001b[0m\u001b[38;5;231mname\u001b[0m\u001b[38;5;231m)\u001b[0m\n",
      "\u001b[38;5;238m  99\u001b[0m   \u001b[38;5;238m│\u001b[0m \u001b[38;5;231m            \u001b[0m\u001b[38;5;231my\u001b[0m\u001b[38;5;231m \u001b[0m\u001b[38;5;203m=\u001b[0m\u001b[38;5;231m \u001b[0m\u001b[38;5;231mpredict_fn\u001b[0m\u001b[38;5;231m(\u001b[0m\u001b[38;5;231mdecoded_request\u001b[0m\u001b[38;5;231m)\u001b[0m\n",
      "\u001b[38;5;238m 100\u001b[0m   \u001b[38;5;238m│\u001b[0m \n",
      "\u001b[38;5;238m 101\u001b[0m   \u001b[38;5;238m│\u001b[0m \u001b[38;5;231m            \u001b[0m\u001b[38;5;242m#\u001b[0m\u001b[38;5;242m If output is a Pandas DataFrame, encode it manually\u001b[0m\n",
      "\u001b[38;5;238m 102\u001b[0m   \u001b[38;5;238m│\u001b[0m \u001b[38;5;231m            \u001b[0m\u001b[38;5;203mif\u001b[0m\u001b[38;5;231m \u001b[0m\u001b[38;5;231mPandasCodec\u001b[0m\u001b[38;5;231m.\u001b[0m\u001b[38;5;231mcan_encode\u001b[0m\u001b[38;5;231m(\u001b[0m\u001b[38;5;231my\u001b[0m\u001b[38;5;231m)\u001b[0m\u001b[38;5;231m:\u001b[0m\n",
      "\u001b[38;5;238m 103\u001b[0m   \u001b[38;5;238m│\u001b[0m \u001b[38;5;231m                \u001b[0m\u001b[38;5;203mif\u001b[0m\u001b[38;5;231m \u001b[0m\u001b[38;5;81mlen\u001b[0m\u001b[38;5;231m(\u001b[0m\u001b[38;5;231mpayload\u001b[0m\u001b[38;5;231m.\u001b[0m\u001b[38;5;231moutputs\u001b[0m\u001b[38;5;231m)\u001b[0m\u001b[38;5;231m \u001b[0m\u001b[38;5;203m>\u001b[0m\u001b[38;5;231m \u001b[0m\u001b[38;5;141m1\u001b[0m\u001b[38;5;231m:\u001b[0m\u001b[38;5;231m  \u001b[0m\u001b[38;5;242m#\u001b[0m\u001b[38;5;242m type: ignore\u001b[0m\n",
      "\u001b[38;5;238m 104\u001b[0m   \u001b[38;5;238m│\u001b[0m \u001b[38;5;231m                    \u001b[0m\u001b[38;5;231mall_output_names\u001b[0m\u001b[38;5;231m \u001b[0m\u001b[38;5;203m=\u001b[0m\u001b[38;5;231m \u001b[0m\u001b[38;5;231m[\u001b[0m\u001b[38;5;231mo\u001b[0m\u001b[38;5;231m.\u001b[0m\u001b[38;5;231mname\u001b[0m\u001b[38;5;231m \u001b[0m\u001b[38;5;203mfor\u001b[0m\u001b[38;5;231m \u001b[0m\u001b[38;5;231mo\u001b[0m\u001b[38;5;231m \u001b[0m\u001b[38;5;203min\u001b[0m\u001b[38;5;231m \u001b[0m\u001b[38;5;231mpayload\u001b[0m\u001b[38;5;231m.\u001b[0m\u001b[38;5;231moutputs\u001b[0m\n",
      "\u001b[38;5;238m    \u001b[0m   \u001b[38;5;238m│\u001b[0m \u001b[38;5;231m]\u001b[0m\u001b[38;5;231m  \u001b[0m\u001b[38;5;242m#\u001b[0m\u001b[38;5;242m type: ignore\u001b[0m\n",
      "\u001b[38;5;238m 105\u001b[0m   \u001b[38;5;238m│\u001b[0m \u001b[38;5;231m                    \u001b[0m\u001b[38;5;203mraise\u001b[0m\u001b[38;5;231m \u001b[0m\u001b[38;5;231mInferenceError\u001b[0m\u001b[38;5;231m(\u001b[0m\n",
      "\u001b[38;5;238m 106\u001b[0m   \u001b[38;5;238m│\u001b[0m \u001b[38;5;231m                        \u001b[0m\u001b[38;5;81mf\u001b[0m\u001b[38;5;186m\"\u001b[0m\u001b[38;5;231m{\u001b[0m\u001b[38;5;231mrequest_output\u001b[0m\u001b[38;5;231m.\u001b[0m\u001b[38;5;231mname\u001b[0m\u001b[38;5;231m}\u001b[0m\u001b[38;5;186m returned columnar data \u001b[0m\n",
      "\u001b[38;5;238m    \u001b[0m   \u001b[38;5;238m│\u001b[0m \u001b[38;5;186mof type\u001b[0m\u001b[38;5;186m\"\u001b[0m\n",
      "\u001b[38;5;238m 107\u001b[0m   \u001b[38;5;238m│\u001b[0m \u001b[38;5;231m                        \u001b[0m\u001b[38;5;81mf\u001b[0m\u001b[38;5;186m\"\u001b[0m\u001b[38;5;186m \u001b[0m\u001b[38;5;231m{\u001b[0m\u001b[38;5;81mtype\u001b[0m\u001b[38;5;231m(\u001b[0m\u001b[38;5;231my\u001b[0m\u001b[38;5;231m)\u001b[0m\u001b[38;5;231m}\u001b[0m\u001b[38;5;186m and \u001b[0m\u001b[38;5;231m{\u001b[0m\u001b[38;5;231mall_output_names\u001b[0m\u001b[38;5;231m}\u001b[0m\u001b[38;5;186m were\u001b[0m\u001b[38;5;186m\"\u001b[0m\n",
      "\u001b[38;5;238m 108\u001b[0m   \u001b[38;5;238m│\u001b[0m \u001b[38;5;231m                        \u001b[0m\u001b[38;5;81mf\u001b[0m\u001b[38;5;186m\"\u001b[0m\u001b[38;5;186m requested. Cannot encode multiple columnar d\u001b[0m\n",
      "\u001b[38;5;238m    \u001b[0m   \u001b[38;5;238m│\u001b[0m \u001b[38;5;186mata responses\u001b[0m\u001b[38;5;186m\"\u001b[0m\n",
      "\u001b[38;5;238m 109\u001b[0m   \u001b[38;5;238m│\u001b[0m \u001b[38;5;231m                        \u001b[0m\u001b[38;5;81mf\u001b[0m\u001b[38;5;186m\"\u001b[0m\u001b[38;5;186m into one response.\u001b[0m\u001b[38;5;186m\"\u001b[0m\n",
      "\u001b[38;5;238m 110\u001b[0m   \u001b[38;5;238m│\u001b[0m \u001b[38;5;231m                    \u001b[0m\u001b[38;5;231m)\u001b[0m\n",
      "\u001b[38;5;238m 111\u001b[0m   \u001b[38;5;238m│\u001b[0m \n",
      "\u001b[38;5;238m 112\u001b[0m   \u001b[38;5;238m│\u001b[0m \u001b[38;5;231m                \u001b[0m\u001b[38;5;242m#\u001b[0m\u001b[38;5;242m Use PandasCodec manually, to obtain the list of outpu\u001b[0m\n",
      "\u001b[38;5;238m    \u001b[0m   \u001b[38;5;238m│\u001b[0m \u001b[38;5;242mts\u001b[0m\n",
      "\u001b[38;5;238m 113\u001b[0m   \u001b[38;5;238m│\u001b[0m \u001b[38;5;231m                \u001b[0m\u001b[38;5;203mreturn\u001b[0m\u001b[38;5;231m \u001b[0m\u001b[38;5;231mPandasCodec\u001b[0m\u001b[38;5;231m.\u001b[0m\u001b[38;5;231mencode_outputs\u001b[0m\u001b[38;5;231m(\u001b[0m\u001b[38;5;231my\u001b[0m\u001b[38;5;231m)\u001b[0m\n",
      "\u001b[38;5;238m 114\u001b[0m   \u001b[38;5;238m│\u001b[0m \n",
      "\u001b[38;5;238m 115\u001b[0m   \u001b[38;5;238m│\u001b[0m \u001b[38;5;231m            \u001b[0m\u001b[38;5;231moutput\u001b[0m\u001b[38;5;231m \u001b[0m\u001b[38;5;203m=\u001b[0m\u001b[38;5;231m \u001b[0m\u001b[38;5;231mself\u001b[0m\u001b[38;5;231m.\u001b[0m\u001b[38;5;231mencode\u001b[0m\u001b[38;5;231m(\u001b[0m\u001b[38;5;231my\u001b[0m\u001b[38;5;231m,\u001b[0m\u001b[38;5;231m \u001b[0m\u001b[38;5;231mrequest_output\u001b[0m\u001b[38;5;231m,\u001b[0m\u001b[38;5;231m \u001b[0m\u001b[38;5;208mdefault_codec\u001b[0m\u001b[38;5;203m=\u001b[0m\u001b[38;5;231mNumpy\u001b[0m\n",
      "\u001b[38;5;238m    \u001b[0m   \u001b[38;5;238m│\u001b[0m \u001b[38;5;231mCodec\u001b[0m\u001b[38;5;231m)\u001b[0m\n",
      "\u001b[38;5;238m 116\u001b[0m   \u001b[38;5;238m│\u001b[0m \u001b[38;5;231m            \u001b[0m\u001b[38;5;231moutputs\u001b[0m\u001b[38;5;231m.\u001b[0m\u001b[38;5;231mappend\u001b[0m\u001b[38;5;231m(\u001b[0m\u001b[38;5;231moutput\u001b[0m\u001b[38;5;231m)\u001b[0m\n",
      "\u001b[38;5;238m 117\u001b[0m   \u001b[38;5;238m│\u001b[0m \n",
      "\u001b[38;5;238m 118\u001b[0m   \u001b[38;5;238m│\u001b[0m \u001b[38;5;231m        \u001b[0m\u001b[38;5;203mreturn\u001b[0m\u001b[38;5;231m \u001b[0m\u001b[38;5;231moutputs\u001b[0m\n",
      "\u001b[38;5;238m───────┴────────────────────────────────────────────────────────────────────────\u001b[0m\n"
     ]
    }
   ],
   "source": [
    "!bat {sklearn_file}"
   ]
  },
  {
   "cell_type": "code",
   "execution_count": 9,
   "id": "d32d1a08-1db2-486c-90e2-a3d845eca456",
   "metadata": {},
   "outputs": [
    {
     "name": "stderr",
     "output_type": "stream",
     "text": [
      "\u001b[2mResolved \u001b[1m205 packages\u001b[0m \u001b[2min 0.36ms\u001b[0m\u001b[0m\n",
      "\u001b[2mAudited \u001b[1m200 packages\u001b[0m \u001b[2min 0.13ms\u001b[0m\u001b[0m\n"
     ]
    },
    {
     "data": {
      "text/plain": [
       "0"
      ]
     },
     "execution_count": 9,
     "metadata": {},
     "output_type": "execute_result"
    }
   ],
   "source": [
    "!uv add cookiecutter"
   ]
  },
  {
   "cell_type": "code",
   "execution_count": 3,
   "id": "197544b6-30ac-4619-9ec6-94f9c1b19190",
   "metadata": {},
   "outputs": [
    {
     "data": {
      "text/plain": [
       "'/Users/asaucedo/Programming/real-time-serving/.venv/lib/python3.12/site-packages/mlserver/__init__.py'"
      ]
     },
     "execution_count": 3,
     "metadata": {},
     "output_type": "execute_result"
    }
   ],
   "source": [
    "# Run command on terminal\n",
    "# > !mlserver init\n",
    "\n",
    "#  [1/6] project_name (Lambda runtime): SimpleModel\n",
    "#  [2/6] repo_user (MyGithubUsername): axsaucedo\n",
    "#  [3/6] repo_name (simplemodel):\n",
    "#  [4/6] class_name (Simplemodel): SimpleModel\n",
    "#  [5/6] description (A short description of the project.):\n",
    "#  [6/6] Select open_source_license\n",
    "#    1 - MIT\n",
    "#    2 - BSD-3-Clause\n",
    "#    3 - No license file\n",
    "#    Choose from [1/2/3] (1): 3"
   ]
  },
  {
   "cell_type": "code",
   "execution_count": 4,
   "id": "ab1dbd1d-117b-4bb7-9865-dbb2d1be720a",
   "metadata": {},
   "outputs": [
    {
     "name": "stdout",
     "output_type": "stream",
     "text": [
      "Dockerfile           \u001b[1m\u001b[36mdocs\u001b[m\u001b[m                 \u001b[1m\u001b[36msimplemodel\u001b[m\u001b[m\n",
      "LICENSE              pyproject.toml       \u001b[1m\u001b[36mtests\u001b[m\u001b[m\n",
      "Makefile             requirements-dev.txt\n",
      "README.md            setup.py\n"
     ]
    }
   ],
   "source": [
    "!ls simplemodel/"
   ]
  },
  {
   "cell_type": "code",
   "execution_count": 5,
   "id": "89cf5598-6f1c-4599-8daf-bc67ac8a07c7",
   "metadata": {},
   "outputs": [
    {
     "name": "stdout",
     "output_type": "stream",
     "text": [
      "__init__.py common.py   runtime.py  version.py\n"
     ]
    }
   ],
   "source": [
    "!ls simplemodel/simplemodel/"
   ]
  },
  {
   "cell_type": "code",
   "execution_count": 6,
   "id": "191cde02-cab5-4b0b-a23f-668fc6e7cd22",
   "metadata": {},
   "outputs": [
    {
     "name": "stdout",
     "output_type": "stream",
     "text": [
      "\u001b[38;5;238m───────┬────────────────────────────────────────────────────────────────────────\u001b[0m\n",
      "       \u001b[38;5;238m│ \u001b[0mFile: \u001b[1msimplemodel/simplemodel/runtime.py\u001b[0m\n",
      "\u001b[38;5;238m───────┼────────────────────────────────────────────────────────────────────────\u001b[0m\n",
      "\u001b[38;5;238m   1\u001b[0m   \u001b[38;5;238m│\u001b[0m \u001b[38;5;203mimport\u001b[0m\u001b[38;5;231m \u001b[0m\u001b[38;5;231mnumpy\u001b[0m\u001b[38;5;231m \u001b[0m\u001b[38;5;203mas\u001b[0m\u001b[38;5;231m \u001b[0m\u001b[38;5;231mnp\u001b[0m\n",
      "\u001b[38;5;238m   2\u001b[0m   \u001b[38;5;238m│\u001b[0m \u001b[38;5;203mfrom\u001b[0m\u001b[38;5;231m \u001b[0m\u001b[38;5;231mmlserver\u001b[0m\u001b[38;5;231m.\u001b[0m\u001b[38;5;231mmodel\u001b[0m\u001b[38;5;231m \u001b[0m\u001b[38;5;203mimport\u001b[0m\u001b[38;5;231m \u001b[0m\u001b[38;5;231mMLModel\u001b[0m\n",
      "\u001b[38;5;238m   3\u001b[0m   \u001b[38;5;238m│\u001b[0m \u001b[38;5;203mfrom\u001b[0m\u001b[38;5;231m \u001b[0m\u001b[38;5;231mmlserver\u001b[0m\u001b[38;5;231m.\u001b[0m\u001b[38;5;231msettings\u001b[0m\u001b[38;5;231m \u001b[0m\u001b[38;5;203mimport\u001b[0m\u001b[38;5;231m \u001b[0m\u001b[38;5;231mModelSettings\u001b[0m\n",
      "\u001b[38;5;238m   4\u001b[0m   \u001b[38;5;238m│\u001b[0m \u001b[38;5;203mfrom\u001b[0m\u001b[38;5;231m \u001b[0m\u001b[38;5;231mfastapi\u001b[0m\u001b[38;5;231m \u001b[0m\u001b[38;5;203mimport\u001b[0m\u001b[38;5;231m \u001b[0m\u001b[38;5;231mstatus\u001b[0m\n",
      "\u001b[38;5;238m   5\u001b[0m   \u001b[38;5;238m│\u001b[0m \u001b[38;5;203mfrom\u001b[0m\u001b[38;5;231m \u001b[0m\u001b[38;5;231mmlserver\u001b[0m\u001b[38;5;231m.\u001b[0m\u001b[38;5;231mutils\u001b[0m\u001b[38;5;231m \u001b[0m\u001b[38;5;203mimport\u001b[0m\u001b[38;5;231m \u001b[0m\u001b[38;5;231mget_model_uri\u001b[0m\n",
      "\u001b[38;5;238m   6\u001b[0m   \u001b[38;5;238m│\u001b[0m \u001b[38;5;203mfrom\u001b[0m\u001b[38;5;231m \u001b[0m\u001b[38;5;231mmlserver\u001b[0m\u001b[38;5;231m.\u001b[0m\u001b[38;5;231merrors\u001b[0m\u001b[38;5;231m \u001b[0m\u001b[38;5;203mimport\u001b[0m\u001b[38;5;231m \u001b[0m\u001b[38;5;231mInvalidModelURI\u001b[0m\u001b[38;5;231m,\u001b[0m\u001b[38;5;231m \u001b[0m\u001b[38;5;231mMLServerError\u001b[0m\n",
      "\u001b[38;5;238m   7\u001b[0m   \u001b[38;5;238m│\u001b[0m \u001b[38;5;203mfrom\u001b[0m\u001b[38;5;231m \u001b[0m\u001b[38;5;231mmlserver\u001b[0m\u001b[38;5;231m.\u001b[0m\u001b[38;5;231mtypes\u001b[0m\u001b[38;5;231m \u001b[0m\u001b[38;5;203mimport\u001b[0m\u001b[38;5;231m \u001b[0m\u001b[38;5;231m(\u001b[0m\n",
      "\u001b[38;5;238m   8\u001b[0m   \u001b[38;5;238m│\u001b[0m \u001b[38;5;231m    \u001b[0m\u001b[38;5;231mInferenceRequest\u001b[0m\u001b[38;5;231m,\u001b[0m\n",
      "\u001b[38;5;238m   9\u001b[0m   \u001b[38;5;238m│\u001b[0m \u001b[38;5;231m    \u001b[0m\u001b[38;5;231mInferenceResponse\u001b[0m\u001b[38;5;231m,\u001b[0m\n",
      "\u001b[38;5;238m  10\u001b[0m   \u001b[38;5;238m│\u001b[0m \u001b[38;5;231m)\u001b[0m\n",
      "\u001b[38;5;238m  11\u001b[0m   \u001b[38;5;238m│\u001b[0m \u001b[38;5;203mfrom\u001b[0m\u001b[38;5;231m \u001b[0m\u001b[38;5;231mmlserver\u001b[0m\u001b[38;5;231m.\u001b[0m\u001b[38;5;231mcodecs\u001b[0m\u001b[38;5;231m \u001b[0m\u001b[38;5;203mimport\u001b[0m\u001b[38;5;231m \u001b[0m\u001b[38;5;231mNumpyCodec\u001b[0m\u001b[38;5;231m,\u001b[0m\u001b[38;5;231m \u001b[0m\u001b[38;5;231mNumpyRequestCodec\u001b[0m\n",
      "\u001b[38;5;238m  12\u001b[0m   \u001b[38;5;238m│\u001b[0m \u001b[38;5;203mfrom\u001b[0m\u001b[38;5;231m \u001b[0m\u001b[38;5;231msimplemodel\u001b[0m\u001b[38;5;231m.\u001b[0m\u001b[38;5;231mcommon\u001b[0m\u001b[38;5;231m \u001b[0m\u001b[38;5;203mimport\u001b[0m\u001b[38;5;231m \u001b[0m\u001b[38;5;231mSimpleModelSettings\u001b[0m\n",
      "\u001b[38;5;238m  13\u001b[0m   \u001b[38;5;238m│\u001b[0m \n",
      "\u001b[38;5;238m  14\u001b[0m   \u001b[38;5;238m│\u001b[0m \n",
      "\u001b[38;5;238m  15\u001b[0m   \u001b[38;5;238m│\u001b[0m \u001b[38;5;203mclass\u001b[0m\u001b[38;5;231m \u001b[0m\u001b[4;38;5;81mSimpleModel\u001b[0m\u001b[38;5;231m(\u001b[0m\u001b[4;38;5;149mMLModel\u001b[0m\u001b[38;5;231m)\u001b[0m\u001b[38;5;231m:\u001b[0m\n",
      "\u001b[38;5;238m  16\u001b[0m   \u001b[38;5;238m│\u001b[0m \u001b[38;5;231m    \u001b[0m\u001b[38;5;242m\"\"\"\u001b[0m\u001b[38;5;242mRuntime class for specific Huggingface models\u001b[0m\u001b[38;5;242m\"\"\"\u001b[0m\n",
      "\u001b[38;5;238m  17\u001b[0m   \u001b[38;5;238m│\u001b[0m \n",
      "\u001b[38;5;238m  18\u001b[0m   \u001b[38;5;238m│\u001b[0m \u001b[38;5;231m    \u001b[0m\u001b[38;5;203mdef\u001b[0m\u001b[38;5;231m \u001b[0m\u001b[38;5;81m__init__\u001b[0m\u001b[38;5;231m(\u001b[0m\u001b[38;5;208mself\u001b[0m\u001b[38;5;231m,\u001b[0m\u001b[38;5;231m \u001b[0m\u001b[38;5;208msettings\u001b[0m\u001b[38;5;231m:\u001b[0m\u001b[38;5;231m \u001b[0m\u001b[38;5;231mModelSettings\u001b[0m\u001b[38;5;231m)\u001b[0m\u001b[38;5;231m:\u001b[0m\n",
      "\u001b[38;5;238m  19\u001b[0m   \u001b[38;5;238m│\u001b[0m \n",
      "\u001b[38;5;238m  20\u001b[0m   \u001b[38;5;238m│\u001b[0m \u001b[38;5;231m        \u001b[0m\u001b[38;5;231mself\u001b[0m\u001b[38;5;231m.\u001b[0m\u001b[38;5;231m_extra_settings\u001b[0m\u001b[38;5;231m \u001b[0m\u001b[38;5;203m=\u001b[0m\u001b[38;5;231m \u001b[0m\u001b[38;5;231mSimpleModelSettings\u001b[0m\u001b[38;5;231m(\u001b[0m\u001b[38;5;203m*\u001b[0m\u001b[38;5;203m*\u001b[0m\u001b[38;5;231msettings\u001b[0m\u001b[38;5;231m.\u001b[0m\u001b[38;5;231mparameter\u001b[0m\n",
      "\u001b[38;5;238m    \u001b[0m   \u001b[38;5;238m│\u001b[0m \u001b[38;5;231ms\u001b[0m\u001b[38;5;231m.\u001b[0m\u001b[38;5;231mextra\u001b[0m\u001b[38;5;231m)\u001b[0m\u001b[38;5;231m  \u001b[0m\u001b[38;5;242m#\u001b[0m\u001b[38;5;242m type: ignore\u001b[0m\n",
      "\u001b[38;5;238m  21\u001b[0m   \u001b[38;5;238m│\u001b[0m \n",
      "\u001b[38;5;238m  22\u001b[0m   \u001b[38;5;238m│\u001b[0m \u001b[38;5;231m        \u001b[0m\u001b[38;5;81msuper\u001b[0m\u001b[38;5;231m(\u001b[0m\u001b[38;5;231m)\u001b[0m\u001b[38;5;231m.\u001b[0m\u001b[38;5;81m__init__\u001b[0m\u001b[38;5;231m(\u001b[0m\u001b[38;5;231msettings\u001b[0m\u001b[38;5;231m)\u001b[0m\n",
      "\u001b[38;5;238m  23\u001b[0m   \u001b[38;5;238m│\u001b[0m \n",
      "\u001b[38;5;238m  24\u001b[0m   \u001b[38;5;238m│\u001b[0m \u001b[38;5;231m    \u001b[0m\u001b[38;5;203masync\u001b[0m\u001b[38;5;231m \u001b[0m\u001b[38;5;203mdef\u001b[0m\u001b[38;5;231m \u001b[0m\u001b[38;5;149mload\u001b[0m\u001b[38;5;231m(\u001b[0m\u001b[38;5;208mself\u001b[0m\u001b[38;5;231m)\u001b[0m\u001b[38;5;231m \u001b[0m\u001b[38;5;231m->\u001b[0m\u001b[38;5;231m \u001b[0m\u001b[38;5;149mbool\u001b[0m\u001b[38;5;231m:\u001b[0m\n",
      "\u001b[38;5;238m  25\u001b[0m   \u001b[38;5;238m│\u001b[0m \u001b[38;5;231m        \u001b[0m\u001b[38;5;242m#\u001b[0m\u001b[38;5;242m Simple showcase reading a lambda as string either from file o\u001b[0m\n",
      "\u001b[38;5;238m    \u001b[0m   \u001b[38;5;238m│\u001b[0m \u001b[38;5;242mr \u001b[0m\n",
      "\u001b[38;5;238m  26\u001b[0m   \u001b[38;5;238m│\u001b[0m \u001b[38;5;231m        \u001b[0m\u001b[38;5;203mtry\u001b[0m\u001b[38;5;231m:\u001b[0m\n",
      "\u001b[38;5;238m  27\u001b[0m   \u001b[38;5;238m│\u001b[0m \u001b[38;5;231m            \u001b[0m\u001b[38;5;231mmodel_uri\u001b[0m\u001b[38;5;231m \u001b[0m\u001b[38;5;203m=\u001b[0m\u001b[38;5;231m \u001b[0m\u001b[38;5;203mawait\u001b[0m\u001b[38;5;231m \u001b[0m\u001b[38;5;231mget_model_uri\u001b[0m\u001b[38;5;231m(\u001b[0m\u001b[38;5;231mself\u001b[0m\u001b[38;5;231m.\u001b[0m\u001b[38;5;231m_settings\u001b[0m\u001b[38;5;231m)\u001b[0m\n",
      "\u001b[38;5;238m  28\u001b[0m   \u001b[38;5;238m│\u001b[0m \u001b[38;5;231m            \u001b[0m\u001b[38;5;203mwith\u001b[0m\u001b[38;5;231m \u001b[0m\u001b[38;5;81mopen\u001b[0m\u001b[38;5;231m(\u001b[0m\u001b[38;5;231mmodel_uri\u001b[0m\u001b[38;5;231m,\u001b[0m\u001b[38;5;231m \u001b[0m\u001b[38;5;186m\"\u001b[0m\u001b[38;5;186mr\u001b[0m\u001b[38;5;186m\"\u001b[0m\u001b[38;5;231m)\u001b[0m\u001b[38;5;231m \u001b[0m\u001b[38;5;203mas\u001b[0m\u001b[38;5;231m \u001b[0m\u001b[38;5;231mf\u001b[0m\u001b[38;5;231m:\u001b[0m\n",
      "\u001b[38;5;238m  29\u001b[0m   \u001b[38;5;238m│\u001b[0m \u001b[38;5;231m                \u001b[0m\u001b[38;5;231mself\u001b[0m\u001b[38;5;231m.\u001b[0m\u001b[38;5;231m_model\u001b[0m\u001b[38;5;231m \u001b[0m\u001b[38;5;203m=\u001b[0m\u001b[38;5;231m \u001b[0m\u001b[38;5;81meval\u001b[0m\u001b[38;5;231m(\u001b[0m\u001b[38;5;231mf\u001b[0m\u001b[38;5;231m.\u001b[0m\u001b[38;5;231mread\u001b[0m\u001b[38;5;231m(\u001b[0m\u001b[38;5;231m)\u001b[0m\u001b[38;5;231m)\u001b[0m\n",
      "\u001b[38;5;238m  30\u001b[0m   \u001b[38;5;238m│\u001b[0m \u001b[38;5;231m        \u001b[0m\u001b[38;5;203mexcept\u001b[0m\u001b[38;5;231m \u001b[0m\u001b[38;5;231m(\u001b[0m\u001b[38;5;231mInvalidModelURI\u001b[0m\u001b[38;5;231m,\u001b[0m\u001b[38;5;231m \u001b[0m\u001b[38;5;231mIsADirectoryError\u001b[0m\u001b[38;5;231m)\u001b[0m\u001b[38;5;231m:\u001b[0m\n",
      "\u001b[38;5;238m  31\u001b[0m   \u001b[38;5;238m│\u001b[0m \u001b[38;5;231m            \u001b[0m\u001b[38;5;231mself\u001b[0m\u001b[38;5;231m.\u001b[0m\u001b[38;5;231m_model\u001b[0m\u001b[38;5;231m \u001b[0m\u001b[38;5;203m=\u001b[0m\u001b[38;5;231m \u001b[0m\u001b[38;5;81meval\u001b[0m\u001b[38;5;231m(\u001b[0m\u001b[38;5;231mself\u001b[0m\u001b[38;5;231m.\u001b[0m\u001b[38;5;231m_extra_settings\u001b[0m\u001b[38;5;231m.\u001b[0m\u001b[38;5;231mlambda_value\u001b[0m\u001b[38;5;231m)\u001b[0m\n",
      "\u001b[38;5;238m  32\u001b[0m   \u001b[38;5;238m│\u001b[0m \n",
      "\u001b[38;5;238m  33\u001b[0m   \u001b[38;5;238m│\u001b[0m \u001b[38;5;231m        \u001b[0m\u001b[38;5;203mif\u001b[0m\u001b[38;5;231m \u001b[0m\u001b[38;5;203mnot\u001b[0m\u001b[38;5;231m \u001b[0m\u001b[38;5;81mcallable\u001b[0m\u001b[38;5;231m(\u001b[0m\u001b[38;5;231mself\u001b[0m\u001b[38;5;231m.\u001b[0m\u001b[38;5;231m_model\u001b[0m\u001b[38;5;231m)\u001b[0m\u001b[38;5;231m:\u001b[0m\n",
      "\u001b[38;5;238m  34\u001b[0m   \u001b[38;5;238m│\u001b[0m \u001b[38;5;231m            \u001b[0m\u001b[38;5;203mraise\u001b[0m\u001b[38;5;231m \u001b[0m\u001b[38;5;231mMLServerError\u001b[0m\u001b[38;5;231m(\u001b[0m\u001b[38;5;186m\"\u001b[0m\u001b[38;5;186mInvalid lambda value provided\u001b[0m\u001b[38;5;186m\"\u001b[0m\u001b[38;5;231m,\u001b[0m\u001b[38;5;231m \u001b[0m\u001b[38;5;231mstatus\u001b[0m\n",
      "\u001b[38;5;238m    \u001b[0m   \u001b[38;5;238m│\u001b[0m \u001b[38;5;231m.\u001b[0m\u001b[38;5;231mHTTP_500_INTERNAL_SERVER_ERROR\u001b[0m\u001b[38;5;231m)\u001b[0m\n",
      "\u001b[38;5;238m  35\u001b[0m   \u001b[38;5;238m│\u001b[0m \n",
      "\u001b[38;5;238m  36\u001b[0m   \u001b[38;5;238m│\u001b[0m \u001b[38;5;231m        \u001b[0m\u001b[38;5;231mself\u001b[0m\u001b[38;5;231m.\u001b[0m\u001b[38;5;231mready\u001b[0m\u001b[38;5;231m \u001b[0m\u001b[38;5;203m=\u001b[0m\u001b[38;5;231m \u001b[0m\u001b[38;5;141mTrue\u001b[0m\n",
      "\u001b[38;5;238m  37\u001b[0m   \u001b[38;5;238m│\u001b[0m \u001b[38;5;231m        \u001b[0m\u001b[38;5;203mreturn\u001b[0m\u001b[38;5;231m \u001b[0m\u001b[38;5;231mself\u001b[0m\u001b[38;5;231m.\u001b[0m\u001b[38;5;231mready\u001b[0m\n",
      "\u001b[38;5;238m  38\u001b[0m   \u001b[38;5;238m│\u001b[0m \n",
      "\u001b[38;5;238m  39\u001b[0m   \u001b[38;5;238m│\u001b[0m \u001b[38;5;231m    \u001b[0m\u001b[38;5;203masync\u001b[0m\u001b[38;5;231m \u001b[0m\u001b[38;5;203mdef\u001b[0m\u001b[38;5;231m \u001b[0m\u001b[38;5;149mpredict\u001b[0m\u001b[38;5;231m(\u001b[0m\u001b[38;5;208mself\u001b[0m\u001b[38;5;231m,\u001b[0m\u001b[38;5;231m \u001b[0m\u001b[38;5;208mpayload\u001b[0m\u001b[38;5;231m:\u001b[0m\u001b[38;5;231m \u001b[0m\u001b[38;5;231mInferenceRequest\u001b[0m\u001b[38;5;231m)\u001b[0m\u001b[38;5;231m \u001b[0m\u001b[38;5;231m->\u001b[0m\u001b[38;5;231m \u001b[0m\u001b[38;5;231mInferenceResp\u001b[0m\n",
      "\u001b[38;5;238m    \u001b[0m   \u001b[38;5;238m│\u001b[0m \u001b[38;5;231monse\u001b[0m\u001b[38;5;231m:\u001b[0m\n",
      "\u001b[38;5;238m  40\u001b[0m   \u001b[38;5;238m│\u001b[0m \u001b[38;5;231m        \u001b[0m\u001b[38;5;242m\"\"\"\u001b[0m\n",
      "\u001b[38;5;238m  41\u001b[0m   \u001b[38;5;238m│\u001b[0m \u001b[38;5;242m        Prediction request\u001b[0m\n",
      "\u001b[38;5;238m  42\u001b[0m   \u001b[38;5;238m│\u001b[0m \u001b[38;5;242m        \u001b[0m\u001b[38;5;242m\"\"\"\u001b[0m\n",
      "\u001b[38;5;238m  43\u001b[0m   \u001b[38;5;238m│\u001b[0m \u001b[38;5;231m        \u001b[0m\u001b[38;5;242m#\u001b[0m\u001b[38;5;242m For more advanced request decoding see MLServer codecs docume\u001b[0m\n",
      "\u001b[38;5;238m    \u001b[0m   \u001b[38;5;238m│\u001b[0m \u001b[38;5;242mntation\u001b[0m\n",
      "\u001b[38;5;238m  44\u001b[0m   \u001b[38;5;238m│\u001b[0m \u001b[38;5;231m        \u001b[0m\u001b[38;5;231mmodel_input\u001b[0m\u001b[38;5;231m \u001b[0m\u001b[38;5;203m=\u001b[0m\u001b[38;5;231m \u001b[0m\u001b[38;5;231mNumpyRequestCodec\u001b[0m\u001b[38;5;231m.\u001b[0m\u001b[38;5;231mdecode\u001b[0m\u001b[38;5;231m(\u001b[0m\u001b[38;5;231mpayload\u001b[0m\u001b[38;5;231m)\u001b[0m\n",
      "\u001b[38;5;238m  45\u001b[0m   \u001b[38;5;238m│\u001b[0m \n",
      "\u001b[38;5;238m  46\u001b[0m   \u001b[38;5;238m│\u001b[0m \u001b[38;5;231m        \u001b[0m\u001b[38;5;231mmodel_output\u001b[0m\u001b[38;5;231m \u001b[0m\u001b[38;5;203m=\u001b[0m\u001b[38;5;231m \u001b[0m\u001b[38;5;231mself\u001b[0m\u001b[38;5;231m.\u001b[0m\u001b[38;5;231m_model\u001b[0m\u001b[38;5;231m(\u001b[0m\u001b[38;5;231mmodel_input\u001b[0m\u001b[38;5;231m)\u001b[0m\n",
      "\u001b[38;5;238m  47\u001b[0m   \u001b[38;5;238m│\u001b[0m \u001b[38;5;231m        \u001b[0m\u001b[38;5;231mmodel_output_np\u001b[0m\u001b[38;5;231m \u001b[0m\u001b[38;5;203m=\u001b[0m\u001b[38;5;231m \u001b[0m\u001b[38;5;231mnp\u001b[0m\u001b[38;5;231m.\u001b[0m\u001b[38;5;231marray\u001b[0m\u001b[38;5;231m(\u001b[0m\u001b[38;5;231mmodel_output\u001b[0m\u001b[38;5;231m)\u001b[0m\n",
      "\u001b[38;5;238m  48\u001b[0m   \u001b[38;5;238m│\u001b[0m \n",
      "\u001b[38;5;238m  49\u001b[0m   \u001b[38;5;238m│\u001b[0m \u001b[38;5;231m        \u001b[0m\u001b[38;5;231mencoded_output\u001b[0m\u001b[38;5;231m \u001b[0m\u001b[38;5;203m=\u001b[0m\u001b[38;5;231m \u001b[0m\u001b[38;5;231mNumpyCodec\u001b[0m\u001b[38;5;231m.\u001b[0m\u001b[38;5;231mencode\u001b[0m\u001b[38;5;231m(\u001b[0m\u001b[38;5;186m\"\u001b[0m\u001b[38;5;186mpredict\u001b[0m\u001b[38;5;186m\"\u001b[0m\u001b[38;5;231m,\u001b[0m\u001b[38;5;231m \u001b[0m\u001b[38;5;231mmodel_output_np\u001b[0m\u001b[38;5;231m)\u001b[0m\n",
      "\u001b[38;5;238m  50\u001b[0m   \u001b[38;5;238m│\u001b[0m \n",
      "\u001b[38;5;238m  51\u001b[0m   \u001b[38;5;238m│\u001b[0m \u001b[38;5;231m        \u001b[0m\u001b[38;5;203mreturn\u001b[0m\u001b[38;5;231m \u001b[0m\u001b[38;5;231mInferenceResponse\u001b[0m\u001b[38;5;231m(\u001b[0m\n",
      "\u001b[38;5;238m  52\u001b[0m   \u001b[38;5;238m│\u001b[0m \u001b[38;5;231m            \u001b[0m\u001b[38;5;208mmodel_name\u001b[0m\u001b[38;5;203m=\u001b[0m\u001b[38;5;231mself\u001b[0m\u001b[38;5;231m.\u001b[0m\u001b[38;5;231mname\u001b[0m\u001b[38;5;231m,\u001b[0m\n",
      "\u001b[38;5;238m  53\u001b[0m   \u001b[38;5;238m│\u001b[0m \u001b[38;5;231m            \u001b[0m\u001b[38;5;208mmodel_version\u001b[0m\u001b[38;5;203m=\u001b[0m\u001b[38;5;231mself\u001b[0m\u001b[38;5;231m.\u001b[0m\u001b[38;5;231mversion\u001b[0m\u001b[38;5;231m,\u001b[0m\n",
      "\u001b[38;5;238m  54\u001b[0m   \u001b[38;5;238m│\u001b[0m \u001b[38;5;231m            \u001b[0m\u001b[38;5;208moutputs\u001b[0m\u001b[38;5;203m=\u001b[0m\u001b[38;5;231m[\u001b[0m\u001b[38;5;231mencoded_output\u001b[0m\u001b[38;5;231m]\u001b[0m\u001b[38;5;231m,\u001b[0m\n",
      "\u001b[38;5;238m  55\u001b[0m   \u001b[38;5;238m│\u001b[0m \u001b[38;5;231m        \u001b[0m\u001b[38;5;231m)\u001b[0m\n",
      "\u001b[38;5;238m───────┴────────────────────────────────────────────────────────────────────────\u001b[0m\n"
     ]
    }
   ],
   "source": [
    "!bat simplemodel/simplemodel/runtime.py"
   ]
  },
  {
   "cell_type": "markdown",
   "id": "9dfe697b-95b9-48ad-910c-af5a65b3f413",
   "metadata": {},
   "source": [
    "# Cleanup"
   ]
  },
  {
   "cell_type": "code",
   "execution_count": 6,
   "id": "8e3a00aa-4b40-45b1-9113-1ec9ecc15f71",
   "metadata": {},
   "outputs": [
    {
     "data": {
      "text/plain": [
       "0"
      ]
     },
     "execution_count": 6,
     "metadata": {},
     "output_type": "execute_result"
    }
   ],
   "source": [
    "!rm -rf mlflow sklearn simplemodel"
   ]
  },
  {
   "cell_type": "code",
   "execution_count": null,
   "id": "2eaffef3-9aca-4892-b8ac-f4bea6ddb00f",
   "metadata": {},
   "outputs": [],
   "source": []
  }
 ],
 "metadata": {
  "kernelspec": {
   "display_name": "Python 3 (ipykernel)",
   "language": "python",
   "name": "python3"
  },
  "language_info": {
   "codemirror_mode": {
    "name": "ipython",
    "version": 3
   },
   "file_extension": ".py",
   "mimetype": "text/x-python",
   "name": "python",
   "nbconvert_exporter": "python",
   "pygments_lexer": "ipython3",
   "version": "3.12.6"
  }
 },
 "nbformat": 4,
 "nbformat_minor": 5
}
