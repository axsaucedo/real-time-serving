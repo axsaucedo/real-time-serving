{
 "cells": [
  {
   "cell_type": "code",
   "execution_count": 2,
   "id": "18711915-180f-42a3-a2dd-b8a7071e3d2f",
   "metadata": {},
   "outputs": [
    {
     "name": "stdout",
     "output_type": "stream",
     "text": [
      "\u001b[1m\u001b[31merror\u001b[39m\u001b[0m: Project is already initialized in `\u001b[36m/Users/asaucedo/Programming/real-time-serving\u001b[39m` (`pyproject.toml` file exists)\n"
     ]
    }
   ],
   "source": [
    "!uv init"
   ]
  },
  {
   "cell_type": "code",
   "execution_count": 3,
   "id": "0c556632-f45c-490c-9293-1237a94225be",
   "metadata": {},
   "outputs": [
    {
     "name": "stdout",
     "output_type": "stream",
     "text": [
      "\u001b[2mResolved \u001b[1m158 packages\u001b[0m \u001b[2min 0.25ms\u001b[0m\u001b[0m\n",
      "\u001b[2mAudited \u001b[1m154 packages\u001b[0m \u001b[2min 0.10ms\u001b[0m\u001b[0m\n"
     ]
    }
   ],
   "source": [
    "!uv add mlserver"
   ]
  },
  {
   "cell_type": "code",
   "execution_count": null,
   "id": "d6044d71-a852-4d7d-b072-da876d4e4bbb",
   "metadata": {},
   "outputs": [],
   "source": []
  }
 ],
 "metadata": {
  "kernelspec": {
   "display_name": "Python 3 (ipykernel)",
   "language": "python",
   "name": "python3"
  },
  "language_info": {
   "codemirror_mode": {
    "name": "ipython",
    "version": 3
   },
   "file_extension": ".py",
   "mimetype": "text/x-python",
   "name": "python",
   "nbconvert_exporter": "python",
   "pygments_lexer": "ipython3",
   "version": "3.12.6"
  }
 },
 "nbformat": 4,
 "nbformat_minor": 5
}
