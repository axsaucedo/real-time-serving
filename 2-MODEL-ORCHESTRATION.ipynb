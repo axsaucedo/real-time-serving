{
 "cells": [
  {
   "cell_type": "markdown",
   "id": "ec829c4d-a0b4-45fa-8b82-c65031d59fb2",
   "metadata": {},
   "source": [
    "# Seldon Core V1"
   ]
  },
  {
   "cell_type": "markdown",
   "id": "64d5c760-edaa-41cf-9125-e6f934b05c37",
   "metadata": {},
   "source": [
    "## Setup"
   ]
  },
  {
   "cell_type": "code",
   "execution_count": null,
   "id": "3e1a2200-4601-44b2-bf2d-61bae13020d6",
   "metadata": {},
   "outputs": [],
   "source": [
    "!curl -L https://istio.io/downloadIstio | ISTIO_VERSION=1.17.1 sh -"
   ]
  },
  {
   "cell_type": "code",
   "execution_count": 258,
   "id": "fb10e0a4-56d2-45f1-b6ce-efc41b3492ac",
   "metadata": {},
   "outputs": [
    {
     "name": "stderr",
     "output_type": "stream",
     "text": [
      "\n",
      "- Processing resources for Istio core.\n",
      "✔ Istio core installed\n",
      "- Processing resources for Istiod.\n",
      "✔ Istiod installed\n",
      "- Processing resources for Ingress gateways.\n",
      "- Processing resources for Ingress gateways. Waiting for Deployment/istio-system/istio-ingressgat...\n",
      "✔ Ingress gateways installed\n",
      "- Pruning removed resources\n",
      "✔ Installation completeMaking this installation the default for injection and validation.\n"
     ]
    },
    {
     "name": "stdout",
     "output_type": "stream",
     "text": [
      "\n",
      "Thank you for installing Istio 1.17.  Please take a few minutes to tell us about your install/upgrade experience!  https://forms.gle/hMHGiwZHPU7UQRWe9\n",
      "1 Istio control planes detected, checking --revision \"default\" only\n",
      "✔ HorizontalPodAutoscaler: istiod.istio-system checked successfully\n",
      "✔ ClusterRole: istiod-clusterrole-istio-system.istio-system checked successfully\n",
      "✔ ClusterRole: istiod-gateway-controller-istio-system.istio-system checked successfully\n",
      "✔ ClusterRoleBinding: istiod-clusterrole-istio-system.istio-system checked successfully\n",
      "✔ ClusterRoleBinding: istiod-gateway-controller-istio-system.istio-system checked successfully\n",
      "✔ ConfigMap: istio.istio-system checked successfully\n",
      "✔ Deployment: istiod.istio-system checked successfully\n",
      "✔ ConfigMap: istio-sidecar-injector.istio-system checked successfully\n",
      "✔ MutatingWebhookConfiguration: istio-sidecar-injector.istio-system checked successfully\n",
      "✔ PodDisruptionBudget: istiod.istio-system checked successfully\n",
      "✔ ClusterRole: istio-reader-clusterrole-istio-system.istio-system checked successfully\n",
      "✔ ClusterRoleBinding: istio-reader-clusterrole-istio-system.istio-system checked successfully\n",
      "✔ Role: istiod.istio-system checked successfully\n",
      "✔ RoleBinding: istiod.istio-system checked successfully\n",
      "✔ Service: istiod.istio-system checked successfully\n",
      "✔ ServiceAccount: istiod.istio-system checked successfully\n",
      "✔ EnvoyFilter: stats-filter-1.13.istio-system checked successfully\n",
      "✔ EnvoyFilter: tcp-stats-filter-1.13.istio-system checked successfully\n",
      "✔ EnvoyFilter: stats-filter-1.14.istio-system checked successfully\n",
      "✔ EnvoyFilter: tcp-stats-filter-1.14.istio-system checked successfully\n",
      "✔ EnvoyFilter: stats-filter-1.15.istio-system checked successfully\n",
      "✔ EnvoyFilter: tcp-stats-filter-1.15.istio-system checked successfully\n",
      "✔ EnvoyFilter: stats-filter-1.16.istio-system checked successfully\n",
      "✔ EnvoyFilter: tcp-stats-filter-1.16.istio-system checked successfully\n",
      "✔ EnvoyFilter: stats-filter-1.17.istio-system checked successfully\n",
      "✔ EnvoyFilter: tcp-stats-filter-1.17.istio-system checked successfully\n",
      "✔ ValidatingWebhookConfiguration: istio-validator-istio-system.istio-system checked successfully\n",
      "✔ HorizontalPodAutoscaler: istio-ingressgateway.istio-system checked successfully\n",
      "✔ Deployment: istio-ingressgateway.istio-system checked successfully\n",
      "✔ PodDisruptionBudget: istio-ingressgateway.istio-system checked successfully\n",
      "✔ Role: istio-ingressgateway-sds.istio-system checked successfully\n",
      "✔ RoleBinding: istio-ingressgateway-sds.istio-system checked successfully\n",
      "✔ Service: istio-ingressgateway.istio-system checked successfully\n",
      "✔ ServiceAccount: istio-ingressgateway-service-account.istio-system checked successfully\n",
      "✔ ClusterRole: istiod-istio-system.istio-system checked successfully\n",
      "✔ ClusterRole: istio-reader-istio-system.istio-system checked successfully\n",
      "✔ ClusterRoleBinding: istio-reader-istio-system.istio-system checked successfully\n",
      "✔ ClusterRoleBinding: istiod-istio-system.istio-system checked successfully\n",
      "✔ ServiceAccount: istio-reader-service-account.istio-system checked successfully\n",
      "✔ Role: istiod-istio-system.istio-system checked successfully\n",
      "✔ RoleBinding: istiod-istio-system.istio-system checked successfully\n",
      "✔ ServiceAccount: istiod-service-account.istio-system checked successfully\n",
      "✔ CustomResourceDefinition: wasmplugins.extensions.istio.io.istio-system checked successfully\n",
      "✔ CustomResourceDefinition: destinationrules.networking.istio.io.istio-system checked successfully\n",
      "✔ CustomResourceDefinition: envoyfilters.networking.istio.io.istio-system checked successfully\n",
      "✔ CustomResourceDefinition: gateways.networking.istio.io.istio-system checked successfully\n",
      "✔ CustomResourceDefinition: proxyconfigs.networking.istio.io.istio-system checked successfully\n",
      "✔ CustomResourceDefinition: serviceentries.networking.istio.io.istio-system checked successfully\n",
      "✔ CustomResourceDefinition: sidecars.networking.istio.io.istio-system checked successfully\n",
      "✔ CustomResourceDefinition: virtualservices.networking.istio.io.istio-system checked successfully\n",
      "✔ CustomResourceDefinition: workloadentries.networking.istio.io.istio-system checked successfully\n",
      "✔ CustomResourceDefinition: workloadgroups.networking.istio.io.istio-system checked successfully\n",
      "✔ CustomResourceDefinition: authorizationpolicies.security.istio.io.istio-system checked successfully\n",
      "✔ CustomResourceDefinition: peerauthentications.security.istio.io.istio-system checked successfully\n",
      "✔ CustomResourceDefinition: requestauthentications.security.istio.io.istio-system checked successfully\n",
      "✔ CustomResourceDefinition: telemetries.telemetry.istio.io.istio-system checked successfully\n",
      "✔ CustomResourceDefinition: istiooperators.install.istio.io.istio-system checked successfully\n",
      "Checked 15 custom resource definitions\n",
      "Checked 2 Istio Deployments\n",
      "✔ Istio is installed and verified successfully\n"
     ]
    }
   ],
   "source": [
    "%%bash\n",
    "./istio-1.17.1/bin/istioctl install --set profile=default -y\n",
    "./istio-1.17.1/bin/istioctl verify-install"
   ]
  },
  {
   "cell_type": "code",
   "execution_count": 256,
   "id": "f620e910-8c91-475f-a582-99810b235cdc",
   "metadata": {},
   "outputs": [
    {
     "name": "stdout",
     "output_type": "stream",
     "text": [
      "gateway.networking.istio.io/seldon-gateway unchanged\n"
     ]
    }
   ],
   "source": [
    "%%bash\n",
    "\n",
    "kubectl apply -f - <<EOF\n",
    "apiVersion: networking.istio.io/v1beta1\n",
    "kind: Gateway\n",
    "metadata:\n",
    "  name: seldon-gateway\n",
    "  namespace: istio-system\n",
    "spec:\n",
    "  selector:\n",
    "    app: istio-ingressgateway\n",
    "    istio: ingressgateway\n",
    "  servers:\n",
    "    - hosts:\n",
    "        - \"*\"\n",
    "      port:\n",
    "        name: http\n",
    "        number: 80\n",
    "        protocol: HTTP\n",
    "EOF"
   ]
  },
  {
   "cell_type": "code",
   "execution_count": 232,
   "id": "f040bdc7-edf2-4608-966a-2c133d1c19b9",
   "metadata": {},
   "outputs": [
    {
     "name": "stdout",
     "output_type": "stream",
     "text": [
      "\"seldon-charts\" already exists with the same configuration, skipping\n"
     ]
    }
   ],
   "source": [
    "!helm repo add seldon-charts https://seldonio.github.io/helm-charts"
   ]
  },
  {
   "cell_type": "code",
   "execution_count": 233,
   "id": "89c0eea4-27f2-4835-8465-c2180075e4c4",
   "metadata": {},
   "outputs": [
    {
     "name": "stdout",
     "output_type": "stream",
     "text": [
      "Hang tight while we grab the latest from your chart repositories...\n",
      "...Successfully got an update from the \"seldon-charts\" chart repository\n",
      "Update Complete. ⎈Happy Helming!⎈\n"
     ]
    }
   ],
   "source": [
    "!helm repo update seldon-charts"
   ]
  },
  {
   "cell_type": "code",
   "execution_count": 250,
   "id": "2763cace-4137-444b-9ded-2cc9aa719290",
   "metadata": {},
   "outputs": [
    {
     "name": "stdout",
     "output_type": "stream",
     "text": [
      "Error from server (AlreadyExists): namespaces \"seldon-system\" already exists\n"
     ]
    }
   ],
   "source": [
    "!kubectl create ns seldon-system "
   ]
  },
  {
   "cell_type": "code",
   "execution_count": 251,
   "id": "bfdd2720-79f9-41a4-b2cd-148d8d071921",
   "metadata": {},
   "outputs": [
    {
     "name": "stdout",
     "output_type": "stream",
     "text": [
      "Release \"seldon-core\" does not exist. Installing it now.\n",
      "NAME: seldon-core\n",
      "LAST DEPLOYED: Tue Nov 12 17:44:18 2024\n",
      "NAMESPACE: seldon-system\n",
      "STATUS: deployed\n",
      "REVISION: 1\n",
      "TEST SUITE: None\n"
     ]
    }
   ],
   "source": [
    "!helm upgrade seldon-core seldon-charts/seldon-core-operator \\\n",
    "    --version 1.18.2 \\\n",
    "    --namespace seldon-system \\\n",
    "    --set istio.enabled=true \\\n",
    "    --install"
   ]
  },
  {
   "cell_type": "markdown",
   "id": "5c8903b8-0265-4119-b98a-ec442dde22c3",
   "metadata": {},
   "source": [
    "### Run from image"
   ]
  },
  {
   "cell_type": "code",
   "execution_count": 335,
   "id": "2cb9d596-9349-40b1-a80a-e3532a3888a5",
   "metadata": {},
   "outputs": [
    {
     "name": "stdout",
     "output_type": "stream",
     "text": [
      "seldondeployment.machinelearning.seldon.io/my-model created\n"
     ]
    }
   ],
   "source": [
    "%%bash\n",
    "kubectl apply -f - << EOF\n",
    "apiVersion: machinelearning.seldon.io/v1\n",
    "kind: SeldonDeployment\n",
    "metadata:\n",
    "  name: my-model\n",
    "spec:\n",
    "  protocol: v2\n",
    "  predictors:\n",
    "    - name: default\n",
    "      graph:\n",
    "        name: classifier\n",
    "      componentSpecs:\n",
    "        - spec:\n",
    "            containers:\n",
    "              - name: classifier\n",
    "                image: axsaucedo/mlserver:simplemodel-0.0.1.dev1\n",
    "EOF"
   ]
  },
  {
   "cell_type": "code",
   "execution_count": 340,
   "id": "44372df5-1e2f-47d4-9690-21b791afa9ea",
   "metadata": {},
   "outputs": [
    {
     "name": "stdout",
     "output_type": "stream",
     "text": [
      "{\"model_name\":\"test-model\",\"id\":\"e3b2aa0e-1bcd-475f-a584-fe113ee1282b\",\"parameters\":{},\"outputs\":[{\"name\":\"predict\",\"shape\":[1,1],\"datatype\":\"FP32\",\"parameters\":{\"content_type\":\"np\"},\"data\":[14.0]}]}"
     ]
    }
   ],
   "source": [
    "!curl -d '{\"inputs\": [{\"name\":\"predict\",\"datatype\":\"FP32\",\"shape\":[4,1],\"data\":[[1.0, 2.0, 5.0, 6.0]]}]}' \\\n",
    "   -X POST http://localhost:80/seldon/default/my-model/v2/models/test-model/infer \\\n",
    "   -H \"Content-Type: application/json\""
   ]
  },
  {
   "cell_type": "markdown",
   "id": "cbd12edb-20a3-4c10-ac9a-fd73f159ea1b",
   "metadata": {},
   "source": [
    "### Chaining"
   ]
  },
  {
   "cell_type": "code",
   "execution_count": 367,
   "id": "943d56db-1c43-4a2f-8036-a949fcfa0456",
   "metadata": {},
   "outputs": [
    {
     "name": "stdout",
     "output_type": "stream",
     "text": [
      "seldondeployment.machinelearning.seldon.io/my-model configured\n"
     ]
    }
   ],
   "source": [
    "%%bash\n",
    "kubectl apply -f - << EOF\n",
    "apiVersion: machinelearning.seldon.io/v1\n",
    "kind: SeldonDeployment\n",
    "metadata:\n",
    "  name: my-model\n",
    "spec:\n",
    "  protocol: v2\n",
    "  predictors:\n",
    "    - name: default\n",
    "      graph:\n",
    "        name: preprocessor\n",
    "        children:\n",
    "        - name: model\n",
    "          children:\n",
    "          - name: postprocessor\n",
    "      componentSpecs:\n",
    "        - spec:\n",
    "            containers:\n",
    "              - name: preprocessor\n",
    "                image: axsaucedo/mlserver:simplemodel-0.0.1.dev1\n",
    "              - name: model\n",
    "                image: axsaucedo/mlserver:simplemodel-0.0.1.dev1\n",
    "              - name: postprocessor\n",
    "                image: axsaucedo/mlserver:simplemodel-0.0.1.dev1\n",
    "EOF"
   ]
  },
  {
   "cell_type": "code",
   "execution_count": 371,
   "id": "8fd2e1d4-f779-4d6b-b82a-84ddb6ec6a12",
   "metadata": {},
   "outputs": [
    {
     "name": "stdout",
     "output_type": "stream",
     "text": [
      "{\"status\":{\"code\":500,\"info\":\"Failed to convert kfserving response so it could be chained to new input\",\"status\":\"FAILURE\"}}"
     ]
    }
   ],
   "source": [
    "!curl -d '{\"inputs\": [{\"name\":\"predict\",\"datatype\":\"FP32\",\"shape\":[4,1],\"data\":[[1.0, 2.0, 5.0, 6.0]]}]}' \\\n",
    "   -X POST http://localhost:80/seldon/default/my-model/v2/models/test-model/infer \\\n",
    "   -H \"Content-Type: application/json\""
   ]
  },
  {
   "cell_type": "markdown",
   "id": "4752a120-0227-4392-b4aa-ac12bd223b99",
   "metadata": {},
   "source": [
    "### Canary Deployment"
   ]
  },
  {
   "cell_type": "code",
   "execution_count": null,
   "id": "e6509c6c-d956-43f2-aed8-23c495dc6b15",
   "metadata": {},
   "outputs": [],
   "source": [
    "%%bash\n",
    "kubectl apply -f - << EOF\n",
    "apiVersion: machinelearning.seldon.io/v1\n",
    "kind: SeldonDeployment\n",
    "metadata:\n",
    "  name: my-model\n",
    "spec:\n",
    "  protocol: v2\n",
    "  predictors:\n",
    "    - name: default\n",
    "      graph:\n",
    "        name: preprocessor\n",
    "        children:\n",
    "        - name: model\n",
    "          children:\n",
    "          - name: postprocessor\n",
    "      componentSpecs:\n",
    "        - spec:\n",
    "            containers:\n",
    "              - name: preprocessor\n",
    "                image: axsaucedo/mlserver:simplemodel-0.0.1.dev1\n",
    "              - name: model\n",
    "                image: axsaucedo/mlserver:simplemodel-0.0.1.dev1\n",
    "              - name: postprocessor\n",
    "                image: axsaucedo/mlserver:simplemodel-0.0.1.dev1\n",
    "      traffic: 75\n",
    "    - name: canary\n",
    "      graph:\n",
    "        name: classifier\n",
    "      componentSpecs:\n",
    "        - spec:\n",
    "            containers:\n",
    "              - name: classifier\n",
    "                image: axsaucedo/mlserver:simplemodel-0.0.1.dev1\n",
    "      traffic: 25\n",
    "EOF"
   ]
  },
  {
   "cell_type": "code",
   "execution_count": null,
   "id": "d10d479c-07fa-4acd-a029-ce6dd0adf479",
   "metadata": {},
   "outputs": [],
   "source": [
    "!hey -q 2 -c 2 -z 3m -m POST \\\n",
    "    -T application/json \\\n",
    "    -d '{\"inputs\": [{\"name\":\"predict\",\"datatype\":\"FP32\",\"shape\":[1,1],\"data\":[1]}]}' \\\n",
    "    http://localhost:80/seldon/default/my-model/v2/models/test-model/infer"
   ]
  },
  {
   "cell_type": "code",
   "execution_count": 372,
   "id": "c3a606bb-3fc1-42f1-ada4-7ab390f02433",
   "metadata": {},
   "outputs": [
    {
     "name": "stdout",
     "output_type": "stream",
     "text": [
      "seldondeployment.machinelearning.seldon.io/my-model configured\n"
     ]
    }
   ],
   "source": [
    "%%bash\n",
    "kubectl apply -f - << EOF\n",
    "apiVersion: machinelearning.seldon.io/v1\n",
    "kind: SeldonDeployment\n",
    "metadata:\n",
    "  name: my-model\n",
    "spec:\n",
    "  protocol: v2\n",
    "  predictors:\n",
    "    - name: default\n",
    "      graph:\n",
    "        name: preprocessor\n",
    "        children:\n",
    "        - name: model\n",
    "          children:\n",
    "          - name: postprocessor\n",
    "      componentSpecs:\n",
    "        - spec:\n",
    "            containers:\n",
    "              - name: preprocessor\n",
    "                image: axsaucedo/mlserver:simplemodel-0.0.1.dev1\n",
    "              - name: model\n",
    "                image: axsaucedo/mlserver:simplemodel-0.0.1.dev1\n",
    "              - name: postprocessor\n",
    "                image: axsaucedo/mlserver:simplemodel-0.0.1.dev1\n",
    "EOF"
   ]
  },
  {
   "cell_type": "markdown",
   "id": "5df70e63-0354-4191-b8a9-1f3c7fd19731",
   "metadata": {},
   "source": [
    "### Setup Minio"
   ]
  },
  {
   "cell_type": "code",
   "execution_count": 272,
   "id": "ab0dd238-e671-4d52-a8ab-641b0c007ec8",
   "metadata": {},
   "outputs": [
    {
     "name": "stderr",
     "output_type": "stream",
     "text": [
      "Error from server (AlreadyExists): namespaces \"minio-system\" already exists\n"
     ]
    },
    {
     "name": "stdout",
     "output_type": "stream",
     "text": [
      "\"minio\" already exists with the same configuration, skipping\n",
      "Hang tight while we grab the latest from your chart repositories...\n",
      "...Successfully got an update from the \"minio\" chart repository\n",
      "Update Complete. ⎈Happy Helming!⎈\n",
      "Release \"minio\" has been upgraded. Happy Helming!\n",
      "NAME: minio\n",
      "LAST DEPLOYED: Tue Nov 12 18:18:42 2024\n",
      "NAMESPACE: minio-system\n",
      "STATUS: deployed\n",
      "REVISION: 3\n",
      "TEST SUITE: None\n",
      "NOTES:\n",
      "MinIO can be accessed via port 9000 on an external IP address. Get the service external IP address by:\n",
      "kubectl get svc --namespace minio-system -l app=minio\n",
      "\n",
      "Note that the public IP may take a couple of minutes to be available.\n",
      "\n",
      "You can now access MinIO server on http://<External-IP>:9000. Follow the below steps to connect to MinIO server with mc client:\n",
      "\n",
      "  1. Download the MinIO mc client - https://min.io/docs/minio/linux/reference/minio-mc.html#quickstart\n",
      "\n",
      "  2. export MC_HOST_minio-local=http://$(kubectl get secret minio --namespace minio-system -o jsonpath=\"{.data.rootUser}\" | base64 --decode):$(kubectl get secret minio -o jsonpath=\"{.data.rootPassword}\" | base64 --decode)@<External-IP>:9000\n",
      "\n",
      "  3. mc ls minio\n",
      "\n",
      "Alternately, you can use your browser or the MinIO SDK to access the server - https://min.io/docs/minio/linux/reference/minio-server/minio-server.html\n"
     ]
    }
   ],
   "source": [
    "%%bash\n",
    "kubectl create ns minio-system\n",
    "helm repo add minio https://charts.min.io/\n",
    "helm repo update minio\n",
    "helm upgrade minio minio/minio \\\n",
    "    --set resources.requests.memory=100Mi \\\n",
    "    --set replicas=1 \\\n",
    "    --set persistence.enabled=false \\\n",
    "    --set mode=standalone \\\n",
    "    --set rootUser=minioadmin,rootPassword=minioadmin \\\n",
    "    --set service.type=LoadBalancer \\\n",
    "    --install \\\n",
    "    --namespace minio-system"
   ]
  },
  {
   "cell_type": "code",
   "execution_count": 248,
   "id": "411347f4-016e-4143-bf3d-462d3defe59a",
   "metadata": {},
   "outputs": [
    {
     "name": "stdout",
     "output_type": "stream",
     "text": [
      "\u001b]11;?\u001b\\\u001b[6n\u001b[m\u001b[32mAdded `minio-seldon` successfully.\u001b[0m\u001b[m\n"
     ]
    }
   ],
   "source": [
    "!mc config host add minio-seldon http://localhost:9000 minioadmin minioadmin"
   ]
  },
  {
   "cell_type": "markdown",
   "id": "e0bfc32b-58c6-407c-bbbc-fff55cfa5b8a",
   "metadata": {},
   "source": [
    "### Deploy Simple Config File from bucket"
   ]
  },
  {
   "cell_type": "code",
   "execution_count": 326,
   "id": "f3433a98-dd14-413f-9e13-17ab1df21220",
   "metadata": {},
   "outputs": [
    {
     "name": "stdout",
     "output_type": "stream",
     "text": [
      "seldondeployment.machinelearning.seldon.io/sklearn created\n"
     ]
    }
   ],
   "source": [
    "%%bash\n",
    "kubectl apply -f - <<EOF\n",
    "apiVersion: machinelearning.seldon.io/v1\n",
    "kind: SeldonDeployment\n",
    "metadata:\n",
    "  name: sklearn\n",
    "spec:\n",
    "  name: iris\n",
    "  predictors:\n",
    "  - graph:\n",
    "      children: []\n",
    "      implementation: SKLEARN_SERVER\n",
    "      modelUri: gs://seldon-models/v1.19.0-dev/sklearn/iris\n",
    "      name: classifier\n",
    "    name: default\n",
    "    replicas: 1\n",
    "EOF"
   ]
  },
  {
   "cell_type": "code",
   "execution_count": 294,
   "id": "6bcbce12-c403-4b14-9a47-a2ab7964788a",
   "metadata": {},
   "outputs": [
    {
     "name": "stdout",
     "output_type": "stream",
     "text": [
      "{\"data\":{\"names\":[\"t:0\",\"t:1\",\"t:2\"],\"ndarray\":[[9.912315378486718e-07,0.0007015931307743852,0.9992974156376878]]},\"meta\":{\"requestPath\":{\"classifier\":\"seldonio/sklearnserver:1.18.2\"}}}\n"
     ]
    }
   ],
   "source": [
    "!curl -d '{\"data\": {\"ndarray\":[[1.0, 2.0, 5.0, 6.0]]}}' \\\n",
    "   -X POST http://localhost:80/seldon/default/sklearn/api/v1.0/predictions \\\n",
    "   -H \"Content-Type: application/json\""
   ]
  },
  {
   "cell_type": "code",
   "execution_count": 334,
   "id": "d2b11f9e-b84c-43bd-b3e9-a79e70dfff71",
   "metadata": {},
   "outputs": [
    {
     "name": "stdout",
     "output_type": "stream",
     "text": [
      "seldondeployment.machinelearning.seldon.io/cifar10 created\n"
     ]
    }
   ],
   "source": [
    "%%bash\n",
    "kubectl apply -f - << EOF\n",
    "apiVersion: machinelearning.seldon.io/v1\n",
    "kind: SeldonDeployment\n",
    "metadata:\n",
    "  name: cifar10\n",
    "spec:\n",
    "  name: resnet32\n",
    "  predictors:\n",
    "  - graph:\n",
    "      implementation: TRITON_SERVER\n",
    "      logger:\n",
    "        mode: all\n",
    "      modelUri: gs://seldon-models/triton/tf_cifar10\n",
    "      name: cifar10\n",
    "      type: MODEL\n",
    "    name: default\n",
    "    replicas: 1\n",
    "  protocol: v2\n",
    "EOF"
   ]
  },
  {
   "cell_type": "markdown",
   "id": "e9cd2f1c-255d-4333-b772-c2ad6d85b40a",
   "metadata": {},
   "source": [
    "### Upload local artifact"
   ]
  },
  {
   "cell_type": "code",
   "execution_count": 262,
   "id": "a62cacf8-31e4-4d76-a62f-fe23ab5ed9b0",
   "metadata": {},
   "outputs": [],
   "source": [
    "!mkdir -p sklearn/"
   ]
  },
  {
   "cell_type": "code",
   "execution_count": 263,
   "id": "eb990dd2-05b6-47b6-877a-2f3a7a7e2bac",
   "metadata": {},
   "outputs": [
    {
     "data": {
      "text/html": [
       "<style>#sk-container-id-1 {\n",
       "  /* Definition of color scheme common for light and dark mode */\n",
       "  --sklearn-color-text: black;\n",
       "  --sklearn-color-line: gray;\n",
       "  /* Definition of color scheme for unfitted estimators */\n",
       "  --sklearn-color-unfitted-level-0: #fff5e6;\n",
       "  --sklearn-color-unfitted-level-1: #f6e4d2;\n",
       "  --sklearn-color-unfitted-level-2: #ffe0b3;\n",
       "  --sklearn-color-unfitted-level-3: chocolate;\n",
       "  /* Definition of color scheme for fitted estimators */\n",
       "  --sklearn-color-fitted-level-0: #f0f8ff;\n",
       "  --sklearn-color-fitted-level-1: #d4ebff;\n",
       "  --sklearn-color-fitted-level-2: #b3dbfd;\n",
       "  --sklearn-color-fitted-level-3: cornflowerblue;\n",
       "\n",
       "  /* Specific color for light theme */\n",
       "  --sklearn-color-text-on-default-background: var(--sg-text-color, var(--theme-code-foreground, var(--jp-content-font-color1, black)));\n",
       "  --sklearn-color-background: var(--sg-background-color, var(--theme-background, var(--jp-layout-color0, white)));\n",
       "  --sklearn-color-border-box: var(--sg-text-color, var(--theme-code-foreground, var(--jp-content-font-color1, black)));\n",
       "  --sklearn-color-icon: #696969;\n",
       "\n",
       "  @media (prefers-color-scheme: dark) {\n",
       "    /* Redefinition of color scheme for dark theme */\n",
       "    --sklearn-color-text-on-default-background: var(--sg-text-color, var(--theme-code-foreground, var(--jp-content-font-color1, white)));\n",
       "    --sklearn-color-background: var(--sg-background-color, var(--theme-background, var(--jp-layout-color0, #111)));\n",
       "    --sklearn-color-border-box: var(--sg-text-color, var(--theme-code-foreground, var(--jp-content-font-color1, white)));\n",
       "    --sklearn-color-icon: #878787;\n",
       "  }\n",
       "}\n",
       "\n",
       "#sk-container-id-1 {\n",
       "  color: var(--sklearn-color-text);\n",
       "}\n",
       "\n",
       "#sk-container-id-1 pre {\n",
       "  padding: 0;\n",
       "}\n",
       "\n",
       "#sk-container-id-1 input.sk-hidden--visually {\n",
       "  border: 0;\n",
       "  clip: rect(1px 1px 1px 1px);\n",
       "  clip: rect(1px, 1px, 1px, 1px);\n",
       "  height: 1px;\n",
       "  margin: -1px;\n",
       "  overflow: hidden;\n",
       "  padding: 0;\n",
       "  position: absolute;\n",
       "  width: 1px;\n",
       "}\n",
       "\n",
       "#sk-container-id-1 div.sk-dashed-wrapped {\n",
       "  border: 1px dashed var(--sklearn-color-line);\n",
       "  margin: 0 0.4em 0.5em 0.4em;\n",
       "  box-sizing: border-box;\n",
       "  padding-bottom: 0.4em;\n",
       "  background-color: var(--sklearn-color-background);\n",
       "}\n",
       "\n",
       "#sk-container-id-1 div.sk-container {\n",
       "  /* jupyter's `normalize.less` sets `[hidden] { display: none; }`\n",
       "     but bootstrap.min.css set `[hidden] { display: none !important; }`\n",
       "     so we also need the `!important` here to be able to override the\n",
       "     default hidden behavior on the sphinx rendered scikit-learn.org.\n",
       "     See: https://github.com/scikit-learn/scikit-learn/issues/21755 */\n",
       "  display: inline-block !important;\n",
       "  position: relative;\n",
       "}\n",
       "\n",
       "#sk-container-id-1 div.sk-text-repr-fallback {\n",
       "  display: none;\n",
       "}\n",
       "\n",
       "div.sk-parallel-item,\n",
       "div.sk-serial,\n",
       "div.sk-item {\n",
       "  /* draw centered vertical line to link estimators */\n",
       "  background-image: linear-gradient(var(--sklearn-color-text-on-default-background), var(--sklearn-color-text-on-default-background));\n",
       "  background-size: 2px 100%;\n",
       "  background-repeat: no-repeat;\n",
       "  background-position: center center;\n",
       "}\n",
       "\n",
       "/* Parallel-specific style estimator block */\n",
       "\n",
       "#sk-container-id-1 div.sk-parallel-item::after {\n",
       "  content: \"\";\n",
       "  width: 100%;\n",
       "  border-bottom: 2px solid var(--sklearn-color-text-on-default-background);\n",
       "  flex-grow: 1;\n",
       "}\n",
       "\n",
       "#sk-container-id-1 div.sk-parallel {\n",
       "  display: flex;\n",
       "  align-items: stretch;\n",
       "  justify-content: center;\n",
       "  background-color: var(--sklearn-color-background);\n",
       "  position: relative;\n",
       "}\n",
       "\n",
       "#sk-container-id-1 div.sk-parallel-item {\n",
       "  display: flex;\n",
       "  flex-direction: column;\n",
       "}\n",
       "\n",
       "#sk-container-id-1 div.sk-parallel-item:first-child::after {\n",
       "  align-self: flex-end;\n",
       "  width: 50%;\n",
       "}\n",
       "\n",
       "#sk-container-id-1 div.sk-parallel-item:last-child::after {\n",
       "  align-self: flex-start;\n",
       "  width: 50%;\n",
       "}\n",
       "\n",
       "#sk-container-id-1 div.sk-parallel-item:only-child::after {\n",
       "  width: 0;\n",
       "}\n",
       "\n",
       "/* Serial-specific style estimator block */\n",
       "\n",
       "#sk-container-id-1 div.sk-serial {\n",
       "  display: flex;\n",
       "  flex-direction: column;\n",
       "  align-items: center;\n",
       "  background-color: var(--sklearn-color-background);\n",
       "  padding-right: 1em;\n",
       "  padding-left: 1em;\n",
       "}\n",
       "\n",
       "\n",
       "/* Toggleable style: style used for estimator/Pipeline/ColumnTransformer box that is\n",
       "clickable and can be expanded/collapsed.\n",
       "- Pipeline and ColumnTransformer use this feature and define the default style\n",
       "- Estimators will overwrite some part of the style using the `sk-estimator` class\n",
       "*/\n",
       "\n",
       "/* Pipeline and ColumnTransformer style (default) */\n",
       "\n",
       "#sk-container-id-1 div.sk-toggleable {\n",
       "  /* Default theme specific background. It is overwritten whether we have a\n",
       "  specific estimator or a Pipeline/ColumnTransformer */\n",
       "  background-color: var(--sklearn-color-background);\n",
       "}\n",
       "\n",
       "/* Toggleable label */\n",
       "#sk-container-id-1 label.sk-toggleable__label {\n",
       "  cursor: pointer;\n",
       "  display: block;\n",
       "  width: 100%;\n",
       "  margin-bottom: 0;\n",
       "  padding: 0.5em;\n",
       "  box-sizing: border-box;\n",
       "  text-align: center;\n",
       "}\n",
       "\n",
       "#sk-container-id-1 label.sk-toggleable__label-arrow:before {\n",
       "  /* Arrow on the left of the label */\n",
       "  content: \"▸\";\n",
       "  float: left;\n",
       "  margin-right: 0.25em;\n",
       "  color: var(--sklearn-color-icon);\n",
       "}\n",
       "\n",
       "#sk-container-id-1 label.sk-toggleable__label-arrow:hover:before {\n",
       "  color: var(--sklearn-color-text);\n",
       "}\n",
       "\n",
       "/* Toggleable content - dropdown */\n",
       "\n",
       "#sk-container-id-1 div.sk-toggleable__content {\n",
       "  max-height: 0;\n",
       "  max-width: 0;\n",
       "  overflow: hidden;\n",
       "  text-align: left;\n",
       "  /* unfitted */\n",
       "  background-color: var(--sklearn-color-unfitted-level-0);\n",
       "}\n",
       "\n",
       "#sk-container-id-1 div.sk-toggleable__content.fitted {\n",
       "  /* fitted */\n",
       "  background-color: var(--sklearn-color-fitted-level-0);\n",
       "}\n",
       "\n",
       "#sk-container-id-1 div.sk-toggleable__content pre {\n",
       "  margin: 0.2em;\n",
       "  border-radius: 0.25em;\n",
       "  color: var(--sklearn-color-text);\n",
       "  /* unfitted */\n",
       "  background-color: var(--sklearn-color-unfitted-level-0);\n",
       "}\n",
       "\n",
       "#sk-container-id-1 div.sk-toggleable__content.fitted pre {\n",
       "  /* unfitted */\n",
       "  background-color: var(--sklearn-color-fitted-level-0);\n",
       "}\n",
       "\n",
       "#sk-container-id-1 input.sk-toggleable__control:checked~div.sk-toggleable__content {\n",
       "  /* Expand drop-down */\n",
       "  max-height: 200px;\n",
       "  max-width: 100%;\n",
       "  overflow: auto;\n",
       "}\n",
       "\n",
       "#sk-container-id-1 input.sk-toggleable__control:checked~label.sk-toggleable__label-arrow:before {\n",
       "  content: \"▾\";\n",
       "}\n",
       "\n",
       "/* Pipeline/ColumnTransformer-specific style */\n",
       "\n",
       "#sk-container-id-1 div.sk-label input.sk-toggleable__control:checked~label.sk-toggleable__label {\n",
       "  color: var(--sklearn-color-text);\n",
       "  background-color: var(--sklearn-color-unfitted-level-2);\n",
       "}\n",
       "\n",
       "#sk-container-id-1 div.sk-label.fitted input.sk-toggleable__control:checked~label.sk-toggleable__label {\n",
       "  background-color: var(--sklearn-color-fitted-level-2);\n",
       "}\n",
       "\n",
       "/* Estimator-specific style */\n",
       "\n",
       "/* Colorize estimator box */\n",
       "#sk-container-id-1 div.sk-estimator input.sk-toggleable__control:checked~label.sk-toggleable__label {\n",
       "  /* unfitted */\n",
       "  background-color: var(--sklearn-color-unfitted-level-2);\n",
       "}\n",
       "\n",
       "#sk-container-id-1 div.sk-estimator.fitted input.sk-toggleable__control:checked~label.sk-toggleable__label {\n",
       "  /* fitted */\n",
       "  background-color: var(--sklearn-color-fitted-level-2);\n",
       "}\n",
       "\n",
       "#sk-container-id-1 div.sk-label label.sk-toggleable__label,\n",
       "#sk-container-id-1 div.sk-label label {\n",
       "  /* The background is the default theme color */\n",
       "  color: var(--sklearn-color-text-on-default-background);\n",
       "}\n",
       "\n",
       "/* On hover, darken the color of the background */\n",
       "#sk-container-id-1 div.sk-label:hover label.sk-toggleable__label {\n",
       "  color: var(--sklearn-color-text);\n",
       "  background-color: var(--sklearn-color-unfitted-level-2);\n",
       "}\n",
       "\n",
       "/* Label box, darken color on hover, fitted */\n",
       "#sk-container-id-1 div.sk-label.fitted:hover label.sk-toggleable__label.fitted {\n",
       "  color: var(--sklearn-color-text);\n",
       "  background-color: var(--sklearn-color-fitted-level-2);\n",
       "}\n",
       "\n",
       "/* Estimator label */\n",
       "\n",
       "#sk-container-id-1 div.sk-label label {\n",
       "  font-family: monospace;\n",
       "  font-weight: bold;\n",
       "  display: inline-block;\n",
       "  line-height: 1.2em;\n",
       "}\n",
       "\n",
       "#sk-container-id-1 div.sk-label-container {\n",
       "  text-align: center;\n",
       "}\n",
       "\n",
       "/* Estimator-specific */\n",
       "#sk-container-id-1 div.sk-estimator {\n",
       "  font-family: monospace;\n",
       "  border: 1px dotted var(--sklearn-color-border-box);\n",
       "  border-radius: 0.25em;\n",
       "  box-sizing: border-box;\n",
       "  margin-bottom: 0.5em;\n",
       "  /* unfitted */\n",
       "  background-color: var(--sklearn-color-unfitted-level-0);\n",
       "}\n",
       "\n",
       "#sk-container-id-1 div.sk-estimator.fitted {\n",
       "  /* fitted */\n",
       "  background-color: var(--sklearn-color-fitted-level-0);\n",
       "}\n",
       "\n",
       "/* on hover */\n",
       "#sk-container-id-1 div.sk-estimator:hover {\n",
       "  /* unfitted */\n",
       "  background-color: var(--sklearn-color-unfitted-level-2);\n",
       "}\n",
       "\n",
       "#sk-container-id-1 div.sk-estimator.fitted:hover {\n",
       "  /* fitted */\n",
       "  background-color: var(--sklearn-color-fitted-level-2);\n",
       "}\n",
       "\n",
       "/* Specification for estimator info (e.g. \"i\" and \"?\") */\n",
       "\n",
       "/* Common style for \"i\" and \"?\" */\n",
       "\n",
       ".sk-estimator-doc-link,\n",
       "a:link.sk-estimator-doc-link,\n",
       "a:visited.sk-estimator-doc-link {\n",
       "  float: right;\n",
       "  font-size: smaller;\n",
       "  line-height: 1em;\n",
       "  font-family: monospace;\n",
       "  background-color: var(--sklearn-color-background);\n",
       "  border-radius: 1em;\n",
       "  height: 1em;\n",
       "  width: 1em;\n",
       "  text-decoration: none !important;\n",
       "  margin-left: 1ex;\n",
       "  /* unfitted */\n",
       "  border: var(--sklearn-color-unfitted-level-1) 1pt solid;\n",
       "  color: var(--sklearn-color-unfitted-level-1);\n",
       "}\n",
       "\n",
       ".sk-estimator-doc-link.fitted,\n",
       "a:link.sk-estimator-doc-link.fitted,\n",
       "a:visited.sk-estimator-doc-link.fitted {\n",
       "  /* fitted */\n",
       "  border: var(--sklearn-color-fitted-level-1) 1pt solid;\n",
       "  color: var(--sklearn-color-fitted-level-1);\n",
       "}\n",
       "\n",
       "/* On hover */\n",
       "div.sk-estimator:hover .sk-estimator-doc-link:hover,\n",
       ".sk-estimator-doc-link:hover,\n",
       "div.sk-label-container:hover .sk-estimator-doc-link:hover,\n",
       ".sk-estimator-doc-link:hover {\n",
       "  /* unfitted */\n",
       "  background-color: var(--sklearn-color-unfitted-level-3);\n",
       "  color: var(--sklearn-color-background);\n",
       "  text-decoration: none;\n",
       "}\n",
       "\n",
       "div.sk-estimator.fitted:hover .sk-estimator-doc-link.fitted:hover,\n",
       ".sk-estimator-doc-link.fitted:hover,\n",
       "div.sk-label-container:hover .sk-estimator-doc-link.fitted:hover,\n",
       ".sk-estimator-doc-link.fitted:hover {\n",
       "  /* fitted */\n",
       "  background-color: var(--sklearn-color-fitted-level-3);\n",
       "  color: var(--sklearn-color-background);\n",
       "  text-decoration: none;\n",
       "}\n",
       "\n",
       "/* Span, style for the box shown on hovering the info icon */\n",
       ".sk-estimator-doc-link span {\n",
       "  display: none;\n",
       "  z-index: 9999;\n",
       "  position: relative;\n",
       "  font-weight: normal;\n",
       "  right: .2ex;\n",
       "  padding: .5ex;\n",
       "  margin: .5ex;\n",
       "  width: min-content;\n",
       "  min-width: 20ex;\n",
       "  max-width: 50ex;\n",
       "  color: var(--sklearn-color-text);\n",
       "  box-shadow: 2pt 2pt 4pt #999;\n",
       "  /* unfitted */\n",
       "  background: var(--sklearn-color-unfitted-level-0);\n",
       "  border: .5pt solid var(--sklearn-color-unfitted-level-3);\n",
       "}\n",
       "\n",
       ".sk-estimator-doc-link.fitted span {\n",
       "  /* fitted */\n",
       "  background: var(--sklearn-color-fitted-level-0);\n",
       "  border: var(--sklearn-color-fitted-level-3);\n",
       "}\n",
       "\n",
       ".sk-estimator-doc-link:hover span {\n",
       "  display: block;\n",
       "}\n",
       "\n",
       "/* \"?\"-specific style due to the `<a>` HTML tag */\n",
       "\n",
       "#sk-container-id-1 a.estimator_doc_link {\n",
       "  float: right;\n",
       "  font-size: 1rem;\n",
       "  line-height: 1em;\n",
       "  font-family: monospace;\n",
       "  background-color: var(--sklearn-color-background);\n",
       "  border-radius: 1rem;\n",
       "  height: 1rem;\n",
       "  width: 1rem;\n",
       "  text-decoration: none;\n",
       "  /* unfitted */\n",
       "  color: var(--sklearn-color-unfitted-level-1);\n",
       "  border: var(--sklearn-color-unfitted-level-1) 1pt solid;\n",
       "}\n",
       "\n",
       "#sk-container-id-1 a.estimator_doc_link.fitted {\n",
       "  /* fitted */\n",
       "  border: var(--sklearn-color-fitted-level-1) 1pt solid;\n",
       "  color: var(--sklearn-color-fitted-level-1);\n",
       "}\n",
       "\n",
       "/* On hover */\n",
       "#sk-container-id-1 a.estimator_doc_link:hover {\n",
       "  /* unfitted */\n",
       "  background-color: var(--sklearn-color-unfitted-level-3);\n",
       "  color: var(--sklearn-color-background);\n",
       "  text-decoration: none;\n",
       "}\n",
       "\n",
       "#sk-container-id-1 a.estimator_doc_link.fitted:hover {\n",
       "  /* fitted */\n",
       "  background-color: var(--sklearn-color-fitted-level-3);\n",
       "}\n",
       "</style><div id=\"sk-container-id-1\" class=\"sk-top-container\"><div class=\"sk-text-repr-fallback\"><pre>SVC(gamma=0.001)</pre><b>In a Jupyter environment, please rerun this cell to show the HTML representation or trust the notebook. <br />On GitHub, the HTML representation is unable to render, please try loading this page with nbviewer.org.</b></div><div class=\"sk-container\" hidden><div class=\"sk-item\"><div class=\"sk-estimator fitted sk-toggleable\"><input class=\"sk-toggleable__control sk-hidden--visually\" id=\"sk-estimator-id-1\" type=\"checkbox\" checked><label for=\"sk-estimator-id-1\" class=\"sk-toggleable__label fitted sk-toggleable__label-arrow fitted\">&nbsp;&nbsp;SVC<a class=\"sk-estimator-doc-link fitted\" rel=\"noreferrer\" target=\"_blank\" href=\"https://scikit-learn.org/1.5/modules/generated/sklearn.svm.SVC.html\">?<span>Documentation for SVC</span></a><span class=\"sk-estimator-doc-link fitted\">i<span>Fitted</span></span></label><div class=\"sk-toggleable__content fitted\"><pre>SVC(gamma=0.001)</pre></div> </div></div></div></div>"
      ],
      "text/plain": [
       "SVC(gamma=0.001)"
      ]
     },
     "execution_count": 263,
     "metadata": {},
     "output_type": "execute_result"
    }
   ],
   "source": [
    "# Original source code and more details can be found in:\n",
    "# https://scikit-learn.org/stable/auto_examples/classification/plot_digits_classification.html\n",
    "\n",
    "# Import datasets, classifiers and performance metrics\n",
    "from sklearn import datasets, svm, metrics\n",
    "from sklearn.model_selection import train_test_split\n",
    "\n",
    "# The digits dataset\n",
    "digits = datasets.load_digits()\n",
    "\n",
    "# To apply a classifier on this data, we need to flatten the image, to\n",
    "# turn the data in a (samples, feature) matrix:\n",
    "n_samples = len(digits.images)\n",
    "data = digits.images.reshape((n_samples, -1))\n",
    "\n",
    "# Create a classifier: a support vector classifier\n",
    "classifier = svm.SVC(gamma=0.001)\n",
    "\n",
    "# Split data into train and test subsets\n",
    "X_train, X_test, y_train, y_test = train_test_split(\n",
    "    data, digits.target, test_size=0.5, shuffle=False)\n",
    "\n",
    "# We learn the digits on the first half of the digits\n",
    "classifier.fit(X_train, y_train)"
   ]
  },
  {
   "cell_type": "code",
   "execution_count": 277,
   "id": "c72954a9-3d4e-4865-a23b-2034f4537efe",
   "metadata": {},
   "outputs": [
    {
     "data": {
      "text/plain": [
       "['sklearn/model.joblib']"
      ]
     },
     "execution_count": 277,
     "metadata": {},
     "output_type": "execute_result"
    }
   ],
   "source": [
    "import joblib\n",
    "\n",
    "model_file_name = \"sklearn/model.joblib\"\n",
    "joblib.dump(classifier, model_file_name)"
   ]
  },
  {
   "cell_type": "code",
   "execution_count": 278,
   "id": "2cd7dd64-83fb-4123-a0ca-96fcf7129349",
   "metadata": {},
   "outputs": [
    {
     "name": "stdout",
     "output_type": "stream",
     "text": [
      "\u001b]11;?\u001b\\\u001b[6n\u001b[m\u001b[32;1mBucket created successfully `minio-seldon/mnist-svm`.\u001b[0;22m\u001b[m\n"
     ]
    }
   ],
   "source": [
    "!mc mb minio-seldon/mnist-svm -p"
   ]
  },
  {
   "cell_type": "code",
   "execution_count": 279,
   "id": "c54cd7ce-ad88-4c2c-8c4c-811bcf0fd8fc",
   "metadata": {},
   "outputs": [
    {
     "name": "stdout",
     "output_type": "stream",
     "text": [
      "...del.joblib: 337.25 KiB / 337.25 KiB  ▓▓▓▓▓▓▓▓▓▓▓▓▓▓▓▓▓▓▓▓▓▓▓▓▓  7.94 MiB/s 0s\u001b[0;22m\u001b[0m\u001b[m\u001b[32;1m"
     ]
    }
   ],
   "source": [
    "!mc cp sklearn/model.joblib minio-seldon/mnist-svm/"
   ]
  },
  {
   "cell_type": "code",
   "execution_count": 275,
   "id": "2e9a9382-1d8c-42e3-af9d-35666ef57481",
   "metadata": {},
   "outputs": [
    {
     "name": "stdout",
     "output_type": "stream",
     "text": [
      "secret/seldon-init-container-secret created\n"
     ]
    }
   ],
   "source": [
    "%%bash\n",
    "kubectl apply -f - <<EOF\n",
    "apiVersion: v1\n",
    "kind: Secret\n",
    "metadata:\n",
    "  name: seldon-init-container-secret\n",
    "type: Opaque\n",
    "stringData:\n",
    "  RCLONE_CONFIG_S3_TYPE: s3\n",
    "  RCLONE_CONFIG_S3_PROVIDER: minio\n",
    "  RCLONE_CONFIG_S3_ACCESS_KEY_ID: minioadmin\n",
    "  RCLONE_CONFIG_S3_SECRET_ACCESS_KEY: minioadmin\n",
    "  RCLONE_CONFIG_S3_ENDPOINT: http://minio.minio-system.svc.cluster.local:9000\n",
    "  RCLONE_CONFIG_S3_ENV_AUTH: \"false\"\n",
    "EOF"
   ]
  },
  {
   "cell_type": "code",
   "execution_count": 328,
   "id": "473a5e3b-735c-43a7-9112-6f520adcca04",
   "metadata": {},
   "outputs": [
    {
     "name": "stdout",
     "output_type": "stream",
     "text": [
      "seldondeployment.machinelearning.seldon.io/mnist-svm configured\n"
     ]
    }
   ],
   "source": [
    "%%bash\n",
    "kubectl apply -f - <<EOF\n",
    "apiVersion: machinelearning.seldon.io/v1\n",
    "kind: SeldonDeployment\n",
    "metadata:\n",
    "  name: mnist-svm\n",
    "spec:\n",
    "  name: mnist-svm\n",
    "  protocol: v2\n",
    "  predictors:\n",
    "  - graph:\n",
    "      children: []\n",
    "      implementation: SKLEARN_SERVER\n",
    "      name: classifier\n",
    "      modelUri: s3://mnist-svm\n",
    "      envSecretRefName: seldon-init-container-secret\n",
    "    name: default\n",
    "    replicas: 1\n",
    "EOF"
   ]
  },
  {
   "cell_type": "code",
   "execution_count": 332,
   "id": "5c9687c5-6cc6-40a6-8a66-1afcfc29e7b6",
   "metadata": {},
   "outputs": [
    {
     "data": {
      "text/plain": [
       "{'model_name': 'classifier',\n",
       " 'model_version': 'v1',\n",
       " 'id': '0d4c5088-3086-4dd9-b5e5-d953903d7563',\n",
       " 'parameters': {},\n",
       " 'outputs': [{'name': 'predict',\n",
       "   'shape': [1, 1],\n",
       "   'datatype': 'INT64',\n",
       "   'parameters': {'content_type': 'np'},\n",
       "   'data': [8]}]}"
      ]
     },
     "execution_count": 332,
     "metadata": {},
     "output_type": "execute_result"
    }
   ],
   "source": [
    "import requests\n",
    "\n",
    "x_0 = X_test[0:1]\n",
    "inference_request = {\n",
    "    \"inputs\": [\n",
    "        {\n",
    "          \"name\": \"predict\",\n",
    "          \"shape\": x_0.shape,\n",
    "          \"datatype\": \"FP32\",\n",
    "          \"data\": x_0.tolist()\n",
    "        }\n",
    "    ]\n",
    "}\n",
    "\n",
    "endpoint = \"http://localhost:80/seldon/default/mnist-svm/v2/models/infer\"\n",
    "response = requests.post(endpoint, json=inference_request)\n",
    "\n",
    "response.json()"
   ]
  },
  {
   "cell_type": "markdown",
   "id": "470ed4d4-28b9-4aa0-a4a7-e6051348d788",
   "metadata": {},
   "source": [
    "# Seldon Core V2"
   ]
  },
  {
   "cell_type": "markdown",
   "id": "67627de9-30c4-4f47-8e78-165407061a53",
   "metadata": {},
   "source": [
    "## Setup "
   ]
  },
  {
   "cell_type": "code",
   "execution_count": 5,
   "id": "e80f67e9-c2bc-45f5-bf31-0940267456bd",
   "metadata": {},
   "outputs": [
    {
     "name": "stdout",
     "output_type": "stream",
     "text": [
      "Cloning into 'seldon-core'...\n",
      "remote: Enumerating objects: 161210, done.\u001b[K\n",
      "remote: Counting objects: 100% (1254/1254), done.\u001b[K\n",
      "remote: Compressing objects: 100% (772/772), done.\u001b[K\n",
      "remote: Total 161210 (delta 642), reused 933 (delta 446), pack-reused 159956 (from 1)\u001b[K\n",
      "Receiving objects: 100% (161210/161210), 236.29 MiB | 6.46 MiB/s, done.\n",
      "Resolving deltas: 100% (100427/100427), done.\n"
     ]
    }
   ],
   "source": [
    "!git clone https://github.com/SeldonIO/seldon-core --branch=v2"
   ]
  },
  {
   "cell_type": "code",
   "execution_count": 10,
   "id": "9736b2eb-0cea-400a-934c-7a6e07fdd745",
   "metadata": {},
   "outputs": [
    {
     "name": "stdout",
     "output_type": "stream",
     "text": [
      "\u001b[2K\u001b[2mResolved \u001b[1m206 packages\u001b[0m \u001b[2min 379ms\u001b[0m\u001b[0m                                       \u001b[0m\n",
      "\u001b[2K\u001b[37m⠸\u001b[0m \u001b[2m\u001b[0m (1/1)                                                                        \u001b[2mPrepared \u001b[1m1 package\u001b[0m \u001b[2min 460ms\u001b[0m\u001b[0m\n",
      "\u001b[2K\u001b[2mInstalled \u001b[1m1 package\u001b[0m \u001b[2min 10ms\u001b[0m\u001b[0m                                 \u001b[0m\n",
      " \u001b[32m+\u001b[39m \u001b[1mpip\u001b[0m\u001b[2m==24.3.1\u001b[0m\n"
     ]
    }
   ],
   "source": [
    "!uv add pip"
   ]
  },
  {
   "cell_type": "code",
   "execution_count": 17,
   "id": "5098f9f6-9b5e-4615-9308-e02ccebb642e",
   "metadata": {
    "scrolled": true
   },
   "outputs": [
    {
     "name": "stdout",
     "output_type": "stream",
     "text": [
      "pip install -r requirements.txt\n",
      "\u001b[33mWARNING: Ignoring invalid distribution ~nsible (/Users/asaucedo/Programming/real-time-serving/.venv/lib/python3.12/site-packages)\u001b[0m\u001b[33m\n",
      "\u001b[0mRequirement already satisfied: ansible<8.8.0,>=6.7.0 in /Users/asaucedo/Programming/real-time-serving/.venv/lib/python3.12/site-packages (from -r requirements.txt (line 1)) (7.7.0)\n",
      "Requirement already satisfied: docker<7.0.0,>=5.0.0 in /Users/asaucedo/Programming/real-time-serving/.venv/lib/python3.12/site-packages (from -r requirements.txt (line 2)) (6.1.3)\n",
      "Requirement already satisfied: kubernetes<27.0.0,>=26.1.0 in /Users/asaucedo/Programming/real-time-serving/.venv/lib/python3.12/site-packages (from -r requirements.txt (line 3)) (26.1.0)\n",
      "Requirement already satisfied: ansible-core~=2.14.7 in /Users/asaucedo/Programming/real-time-serving/.venv/lib/python3.12/site-packages (from ansible<8.8.0,>=6.7.0->-r requirements.txt (line 1)) (2.14.18)\n",
      "Requirement already satisfied: packaging>=14.0 in /Users/asaucedo/Programming/real-time-serving/.venv/lib/python3.12/site-packages (from docker<7.0.0,>=5.0.0->-r requirements.txt (line 2)) (24.2)\n",
      "Requirement already satisfied: requests>=2.26.0 in /Users/asaucedo/Programming/real-time-serving/.venv/lib/python3.12/site-packages (from docker<7.0.0,>=5.0.0->-r requirements.txt (line 2)) (2.32.3)\n",
      "Requirement already satisfied: urllib3>=1.26.0 in /Users/asaucedo/Programming/real-time-serving/.venv/lib/python3.12/site-packages (from docker<7.0.0,>=5.0.0->-r requirements.txt (line 2)) (2.2.3)\n",
      "Requirement already satisfied: websocket-client>=0.32.0 in /Users/asaucedo/Programming/real-time-serving/.venv/lib/python3.12/site-packages (from docker<7.0.0,>=5.0.0->-r requirements.txt (line 2)) (1.8.0)\n",
      "Requirement already satisfied: certifi>=14.05.14 in /Users/asaucedo/Programming/real-time-serving/.venv/lib/python3.12/site-packages (from kubernetes<27.0.0,>=26.1.0->-r requirements.txt (line 3)) (2024.8.30)\n",
      "Requirement already satisfied: six>=1.9.0 in /Users/asaucedo/Programming/real-time-serving/.venv/lib/python3.12/site-packages (from kubernetes<27.0.0,>=26.1.0->-r requirements.txt (line 3)) (1.16.0)\n",
      "Requirement already satisfied: python-dateutil>=2.5.3 in /Users/asaucedo/Programming/real-time-serving/.venv/lib/python3.12/site-packages (from kubernetes<27.0.0,>=26.1.0->-r requirements.txt (line 3)) (2.9.0.post0)\n",
      "Requirement already satisfied: setuptools>=21.0.0 in /Users/asaucedo/Programming/real-time-serving/.venv/lib/python3.12/site-packages (from kubernetes<27.0.0,>=26.1.0->-r requirements.txt (line 3)) (75.3.0)\n",
      "Requirement already satisfied: pyyaml>=5.4.1 in /Users/asaucedo/Programming/real-time-serving/.venv/lib/python3.12/site-packages (from kubernetes<27.0.0,>=26.1.0->-r requirements.txt (line 3)) (6.0.2)\n",
      "Requirement already satisfied: google-auth>=1.0.1 in /Users/asaucedo/Programming/real-time-serving/.venv/lib/python3.12/site-packages (from kubernetes<27.0.0,>=26.1.0->-r requirements.txt (line 3)) (2.36.0)\n",
      "Requirement already satisfied: requests-oauthlib in /Users/asaucedo/Programming/real-time-serving/.venv/lib/python3.12/site-packages (from kubernetes<27.0.0,>=26.1.0->-r requirements.txt (line 3)) (2.0.0)\n",
      "Requirement already satisfied: jinja2>=3.0.0 in /Users/asaucedo/Programming/real-time-serving/.venv/lib/python3.12/site-packages (from ansible-core~=2.14.7->ansible<8.8.0,>=6.7.0->-r requirements.txt (line 1)) (3.1.4)\n",
      "Requirement already satisfied: cryptography in /Users/asaucedo/Programming/real-time-serving/.venv/lib/python3.12/site-packages (from ansible-core~=2.14.7->ansible<8.8.0,>=6.7.0->-r requirements.txt (line 1)) (43.0.3)\n",
      "Requirement already satisfied: resolvelib<0.9.0,>=0.5.3 in /Users/asaucedo/Programming/real-time-serving/.venv/lib/python3.12/site-packages (from ansible-core~=2.14.7->ansible<8.8.0,>=6.7.0->-r requirements.txt (line 1)) (0.8.1)\n",
      "Requirement already satisfied: cachetools<6.0,>=2.0.0 in /Users/asaucedo/Programming/real-time-serving/.venv/lib/python3.12/site-packages (from google-auth>=1.0.1->kubernetes<27.0.0,>=26.1.0->-r requirements.txt (line 3)) (5.5.0)\n",
      "Requirement already satisfied: pyasn1-modules>=0.2.1 in /Users/asaucedo/Programming/real-time-serving/.venv/lib/python3.12/site-packages (from google-auth>=1.0.1->kubernetes<27.0.0,>=26.1.0->-r requirements.txt (line 3)) (0.4.1)\n",
      "Requirement already satisfied: rsa<5,>=3.1.4 in /Users/asaucedo/Programming/real-time-serving/.venv/lib/python3.12/site-packages (from google-auth>=1.0.1->kubernetes<27.0.0,>=26.1.0->-r requirements.txt (line 3)) (4.9)\n",
      "Requirement already satisfied: charset-normalizer<4,>=2 in /Users/asaucedo/Programming/real-time-serving/.venv/lib/python3.12/site-packages (from requests>=2.26.0->docker<7.0.0,>=5.0.0->-r requirements.txt (line 2)) (3.4.0)\n",
      "Requirement already satisfied: idna<4,>=2.5 in /Users/asaucedo/Programming/real-time-serving/.venv/lib/python3.12/site-packages (from requests>=2.26.0->docker<7.0.0,>=5.0.0->-r requirements.txt (line 2)) (3.10)\n",
      "Requirement already satisfied: oauthlib>=3.0.0 in /Users/asaucedo/Programming/real-time-serving/.venv/lib/python3.12/site-packages (from requests-oauthlib->kubernetes<27.0.0,>=26.1.0->-r requirements.txt (line 3)) (3.2.2)\n",
      "Requirement already satisfied: MarkupSafe>=2.0 in /Users/asaucedo/Programming/real-time-serving/.venv/lib/python3.12/site-packages (from jinja2>=3.0.0->ansible-core~=2.14.7->ansible<8.8.0,>=6.7.0->-r requirements.txt (line 1)) (3.0.2)\n",
      "Requirement already satisfied: pyasn1<0.7.0,>=0.4.6 in /Users/asaucedo/Programming/real-time-serving/.venv/lib/python3.12/site-packages (from pyasn1-modules>=0.2.1->google-auth>=1.0.1->kubernetes<27.0.0,>=26.1.0->-r requirements.txt (line 3)) (0.6.1)\n",
      "Requirement already satisfied: cffi>=1.12 in /Users/asaucedo/Programming/real-time-serving/.venv/lib/python3.12/site-packages (from cryptography->ansible-core~=2.14.7->ansible<8.8.0,>=6.7.0->-r requirements.txt (line 1)) (1.17.1)\n",
      "Requirement already satisfied: pycparser in /Users/asaucedo/Programming/real-time-serving/.venv/lib/python3.12/site-packages (from cffi>=1.12->cryptography->ansible-core~=2.14.7->ansible<8.8.0,>=6.7.0->-r requirements.txt (line 1)) (2.22)\n",
      "\u001b[33mWARNING: Ignoring invalid distribution ~nsible (/Users/asaucedo/Programming/real-time-serving/.venv/lib/python3.12/site-packages)\u001b[0m\u001b[33m\n",
      "\u001b[0m\u001b[33mWARNING: Ignoring invalid distribution ~nsible (/Users/asaucedo/Programming/real-time-serving/.venv/lib/python3.12/site-packages)\u001b[0m\u001b[33m\n",
      "\u001b[0mansible-galaxy install -r requirements.yml\n",
      "Starting galaxy collection install process\n",
      "Process install dependency map\n",
      "\u001b[1;35m[WARNING]: Skipping Galaxy server https://galaxy.ansible.com. Got an unexpected\u001b[0m\n",
      "\u001b[1;35merror when getting available versions of collection kubernetes.core: Unknown\u001b[0m\n",
      "\u001b[1;35merror when attempting to call Galaxy at 'https://galaxy.ansible.com/api/':\u001b[0m\n",
      "\u001b[1;35mHTTPSConnection.__init__() got an unexpected keyword argument 'cert_file'.\u001b[0m\n",
      "\u001b[1;35mHTTPSConnection.__init__() got an unexpected keyword argument 'cert_file'\u001b[0m\n",
      "\u001b[0;31mERROR! Unknown error when attempting to call Galaxy at 'https://galaxy.ansible.com/api/': HTTPSConnection.__init__() got an unexpected keyword argument 'cert_file'. HTTPSConnection.__init__() got an unexpected keyword argument 'cert_file'\u001b[0m\n",
      "make: *** [install_deps_stable] Error 1\n"
     ]
    }
   ],
   "source": [
    "!uv pip install -r seldon-core/ansible/requirements.yml"
   ]
  },
  {
   "cell_type": "code",
   "execution_count": 18,
   "id": "ffdc49ed-2d7d-42fa-831b-0a360980ac33",
   "metadata": {},
   "outputs": [
    {
     "name": "stdout",
     "output_type": "stream",
     "text": [
      "Starting galaxy collection install process\n",
      "Process install dependency map\n",
      "Starting collection install process\n",
      "'kubernetes.core:2.4.0' is already installed, skipping.\n",
      "Downloading https://galaxy.ansible.com/api/v3/plugin/ansible/content/published/collections/artifacts/community-docker-3.10.4.tar.gz to /Users/asaucedo/.ansible/tmp/ansible-local-6291wxdgnya4/tmpprjnitr7/community-docker-3.10.4-kgr7pn62\n",
      "Installing 'community.docker:3.10.4' to '/Users/asaucedo/.ansible/collections/ansible_collections/community/docker'\n",
      "community.docker:3.10.4 was installed successfully\n",
      "Downloading https://galaxy.ansible.com/api/v3/plugin/ansible/content/published/collections/artifacts/community-library_inventory_filtering_v1-1.0.2.tar.gz to /Users/asaucedo/.ansible/tmp/ansible-local-6291wxdgnya4/tmpprjnitr7/community-library_inventory_filtering_v1-1.0.2-ixdx_x97\n",
      "Installing 'community.library_inventory_filtering_v1:1.0.2' to '/Users/asaucedo/.ansible/collections/ansible_collections/community/library_inventory_filtering_v1'\n",
      "community.library_inventory_filtering_v1:1.0.2 was installed successfully\n"
     ]
    }
   ],
   "source": [
    "!ansible-galaxy install -r seldon-core/ansible/requirements.yml"
   ]
  },
  {
   "cell_type": "code",
   "execution_count": 31,
   "id": "2b50d991-0c14-46b6-a548-025b1c342718",
   "metadata": {},
   "outputs": [
    {
     "name": "stdout",
     "output_type": "stream",
     "text": [
      "env: OBJC_DISABLE_INITIALIZE_FORK_SAFETY=YES\n"
     ]
    }
   ],
   "source": [
    "# Required to avoid multiprocessor error in ansible\n",
    "%env OBJC_DISABLE_INITIALIZE_FORK_SAFETY=YES "
   ]
  },
  {
   "cell_type": "code",
   "execution_count": 32,
   "id": "8a3844c0-24be-447d-9ebb-0e964f4a59f0",
   "metadata": {
    "scrolled": true
   },
   "outputs": [
    {
     "name": "stdout",
     "output_type": "stream",
     "text": [
      "\n",
      "PLAY [Setup Seldon Core 2 Ecosystem] *******************************************\n",
      "\n",
      "TASK [Gathering Facts] *********************************************************\n",
      "\u001b[0;32mok: [localhost]\u001b[0m\n",
      "\n",
      "TASK [Load vars from vars/default.yaml] ****************************************\n",
      "\u001b[0;32mok: [localhost]\u001b[0m\n",
      "\n",
      "TASK [ecosystem : Create required k8s namespaces] ******************************\n",
      "\u001b[0;33mchanged: [localhost] => (item=seldon-mesh)\u001b[0m\n",
      "\u001b[0;32mok: [localhost] => (item=seldon-mesh)\u001b[0m\n",
      "\n",
      "TASK [Install Prometheus Operator] *********************************************\n",
      "\n",
      "TASK [prometheus : Create seldon-monitoring namespace if it doesn't exist] *****\n",
      "\u001b[0;33mchanged: [localhost]\u001b[0m\n",
      "\n",
      "TASK [prometheus : Install Prometheus Operator] ********************************\n",
      "\u001b[0;33mchanged: [localhost]\u001b[0m\n",
      "\n",
      "TASK [ecosystem : Create Seldon Core 2 PodMonitors] ****************************\n",
      "\u001b[0;33mchanged: [localhost] => (item=prometheus/monitors/agent-podmonitor.yaml)\u001b[0m\n",
      "\u001b[0;33mchanged: [localhost] => (item=prometheus/monitors/envoy-servicemonitor.yaml)\u001b[0m\n",
      "\u001b[0;33mchanged: [localhost] => (item=prometheus/monitors/server-podmonitor.yaml)\u001b[0m\n",
      "\u001b[0;33mchanged: [localhost] => (item=prometheus/monitors/pipelinegateway-podmonitor.yaml)\u001b[0m\n",
      "\n",
      "TASK [ecosystem : Set default user] ********************************************\n",
      "\u001b[0;32mok: [localhost]\u001b[0m\n",
      "\n",
      "TASK [ecosystem : Set default password] ****************************************\n",
      "\u001b[0;32mok: [localhost]\u001b[0m\n",
      "\n",
      "TASK [Install Grafana instance] ************************************************\n",
      "\n",
      "TASK [grafana : Create a k8s namespace] ****************************************\n",
      "\u001b[0;32mok: [localhost]\u001b[0m\n",
      "\n",
      "TASK [grafana : Install Grafana] ***********************************************\n",
      "\u001b[0;33mchanged: [localhost]\u001b[0m\n",
      "\n",
      "TASK [grafana : Grafana config and login details] ******************************\n",
      "\u001b[0;32mok: [localhost] => \u001b[0m\n",
      "\u001b[0;32m  msg:\u001b[0m\n",
      "\u001b[0;32m  - Grafana installed in the cluster.\u001b[0m\n",
      "\u001b[0;32m  - To view the webapp, access it via the generated ingress URL, or run\u001b[0m\n",
      "\u001b[0;32m  - kubectl port-forward -n seldon-monitoring svc/grafana 3000:80\u001b[0m\n",
      "\u001b[0;32m  - in a terminal, and visit http://localhost:3000 in your browser.\u001b[0m\n",
      "\u001b[0;32m  - Login with admin/r-112413.\u001b[0m\n",
      "\n",
      "TASK [include_role : strimzi] **************************************************\n",
      "\n",
      "TASK [strimzi : Create seldon-mesh namespace if it doesn't exist] **************\n",
      "\u001b[0;32mok: [localhost]\u001b[0m\n",
      "\n",
      "TASK [strimzi : Install Strimzi Kafka Operator] ********************************\n",
      "\u001b[0;33mchanged: [localhost]\u001b[0m\n",
      "\n",
      "TASK [ecosystem : Create Kafka Cluster] ****************************************\n",
      "\u001b[0;33mchanged: [localhost]\u001b[0m\n",
      "\n",
      "TASK [include_role : certmanager] **********************************************\n",
      "\n",
      "TASK [certmanager : Install Certmanager] ***************************************\n",
      "\u001b[0;33mchanged: [localhost] => (item=https://github.com/cert-manager/cert-manager/releases/download/v1.11.0/cert-manager.yaml)\u001b[0m\n",
      "\n",
      "TASK [certmanager : Wait for rollout - cert-manager] ***************************\n",
      "\u001b[0;33mchanged: [localhost] => (item=cert-manager)\u001b[0m\n",
      "\u001b[0;33mchanged: [localhost] => (item=cert-manager-cainjector)\u001b[0m\n",
      "\u001b[0;33mchanged: [localhost] => (item=cert-manager-webhook)\u001b[0m\n",
      "\n",
      "TASK [include_role : jaeger] ***************************************************\n",
      "\n",
      "TASK [jaeger : Create required k8s namespaces] *********************************\n",
      "\u001b[0;33mchanged: [localhost] => (item=observability)\u001b[0m\n",
      "\n",
      "TASK [jaeger : Install Jaeger Operator] ****************************************\n",
      "\u001b[0;33mchanged: [localhost] => (item=https://github.com/jaegertracing/jaeger-operator/releases/download/v1.53.0/jaeger-operator.yaml)\u001b[0m\n",
      "\n",
      "TASK [jaeger : Sleep for 1s before waiting for CRDs] ***************************\n",
      "\u001b[0;32mok: [localhost]\u001b[0m\n",
      "\n",
      "TASK [jaeger : Wait for Jaeger CRDs] *******************************************\n",
      "\u001b[0;33mchanged: [localhost] => (item=crd/jaegers.jaegertracing.io)\u001b[0m\n",
      "\n",
      "TASK [jaeger : Wait for Jaeger Deployment] *************************************\n",
      "\u001b[0;33mchanged: [localhost] => (item=jaeger-operator)\u001b[0m\n",
      "\n",
      "TASK [ecosystem : Configure Jaeger] ********************************************\n",
      "\u001b[0;33mchanged: [localhost] => (item=tracing/k8s/jaeger.yaml)\u001b[0m\n",
      "\n",
      "TASK [include_role : opentelemetry] ********************************************\n",
      "\n",
      "TASK [opentelemetry : Create required k8s namespaces] **************************\n",
      "\u001b[0;33mchanged: [localhost] => (item=opentelemetry-operator-system)\u001b[0m\n",
      "\n",
      "TASK [opentelemetry : Install OpenTelemetry Operator] **************************\n",
      "\u001b[0;33mchanged: [localhost] => (item=https://github.com/open-telemetry/opentelemetry-operator/releases/download/v0.92.0/opentelemetry-operator.yaml)\u001b[0m\n",
      "\n",
      "TASK [opentelemetry : Sleep for 1s before waiting for CRDs] ********************\n",
      "\u001b[0;32mok: [localhost]\u001b[0m\n",
      "\n",
      "TASK [opentelemetry : Wait for Jaeger CRDs] ************************************\n",
      "\u001b[0;33mchanged: [localhost] => (item=crd/instrumentations.opentelemetry.io)\u001b[0m\n",
      "\u001b[0;33mchanged: [localhost] => (item=crd/opentelemetrycollectors.opentelemetry.io)\u001b[0m\n",
      "\n",
      "TASK [opentelemetry : Wait for OpenTelemetry Deployment] ***********************\n",
      "\u001b[0;33mchanged: [localhost] => (item=opentelemetry-operator-controller-manager)\u001b[0m\n",
      "\n",
      "TASK [ecosystem : Configure OpenTelemetry] *************************************\n",
      "\u001b[0;33mchanged: [localhost] => (item=tracing/k8s/otel-collector.yaml)\u001b[0m\n",
      "\n",
      "PLAY RECAP *********************************************************************\n",
      "\u001b[0;33mlocalhost\u001b[0m                  : \u001b[0;32mok=28  \u001b[0m \u001b[0;33mchanged=19  \u001b[0m unreachable=0    failed=0    skipped=0    rescued=0    ignored=0   \n",
      "\n"
     ]
    }
   ],
   "source": [
    "!(cd seldon-core/ansible/ && ansible-playbook playbooks/setup-ecosystem.yaml)"
   ]
  },
  {
   "cell_type": "code",
   "execution_count": 33,
   "id": "69c067b5-ea3f-4a3d-9a62-920cfb667179",
   "metadata": {},
   "outputs": [
    {
     "name": "stdout",
     "output_type": "stream",
     "text": [
      "\n",
      "PLAY [Setup SCV2 Ecosystem] ****************************************************\n",
      "\n",
      "TASK [Gathering Facts] *********************************************************\n",
      "\u001b[0;32mok: [localhost]\u001b[0m\n",
      "\n",
      "TASK [Load vars from vars/default.yaml] ****************************************\n",
      "\u001b[0;32mok: [localhost]\u001b[0m\n",
      "\n",
      "TASK [seldon : Apply defaults to seldon_dev] ***********************************\n",
      "\u001b[0;32mok: [localhost]\u001b[0m\n",
      "\n",
      "TASK [seldon : Set default img_set keys] ***************************************\n",
      "\u001b[0;32mok: [localhost]\u001b[0m\n",
      "\n",
      "TASK [seldon : Set default dev img_set keys] ***********************************\n",
      "\u001b[0;32mok: [localhost]\u001b[0m\n",
      "\n",
      "TASK [seldon : Apply defaults to custom_image_config] **************************\n",
      "\u001b[0;36mskipping: [localhost]\u001b[0m\n",
      "\n",
      "TASK [seldon : Apply defaults to custom_image_repository] **********************\n",
      "\u001b[0;32mok: [localhost] => (item=scheduler)\u001b[0m\n",
      "\u001b[0;32mok: [localhost] => (item=modelgateway)\u001b[0m\n",
      "\u001b[0;32mok: [localhost] => (item=pipelinegateway)\u001b[0m\n",
      "\u001b[0;32mok: [localhost] => (item=dataflow)\u001b[0m\n",
      "\u001b[0;32mok: [localhost] => (item=controller)\u001b[0m\n",
      "\u001b[0;32mok: [localhost] => (item=hodometer)\u001b[0m\n",
      "\u001b[0;32mok: [localhost] => (item=envoy)\u001b[0m\n",
      "\u001b[0;32mok: [localhost] => (item=agent)\u001b[0m\n",
      "\u001b[0;32mok: [localhost] => (item=rclone)\u001b[0m\n",
      "\u001b[0;32mok: [localhost] => (item=grafana)\u001b[0m\n",
      "\u001b[0;32mok: [localhost] => (item=mlserver)\u001b[0m\n",
      "\n",
      "TASK [seldon : Set custom component values] ************************************\n",
      "\u001b[0;32mok: [localhost]\u001b[0m\n",
      "\n",
      "TASK [seldon : Set custom runtime values] **************************************\n",
      "\u001b[0;32mok: [localhost]\u001b[0m\n",
      "\n",
      "TASK [seldon : Set custom server values] ***************************************\n",
      "\u001b[0;32mok: [localhost]\u001b[0m\n",
      "\n",
      "TASK [seldon : Component values] ***********************************************\n",
      "\u001b[0;32mok: [localhost] => \u001b[0m\n",
      "\u001b[0;32m  seldon_core_v2_component_values:\u001b[0m\n",
      "\u001b[0;32m    dataflow:\u001b[0m\n",
      "\u001b[0;32m      resources:\u001b[0m\n",
      "\u001b[0;32m        cpu: 500m\u001b[0m\n",
      "\u001b[0;32m    envoy:\u001b[0m\n",
      "\u001b[0;32m      service:\u001b[0m\n",
      "\u001b[0;32m        type: LoadBalancer\u001b[0m\n",
      "\u001b[0;32m    kafka:\u001b[0m\n",
      "\u001b[0;32m      bootstrap: seldon-kafka-bootstrap.seldon-mesh.svc.cluster.local:9093\u001b[0m\n",
      "\u001b[0;32m      debug: null\u001b[0m\n",
      "\u001b[0;32m      topics:\u001b[0m\n",
      "\u001b[0;32m        numPartitions: 4\u001b[0m\n",
      "\u001b[0;32m    scheduler:\u001b[0m\n",
      "\u001b[0;32m      service:\u001b[0m\n",
      "\u001b[0;32m        type: LoadBalancer\u001b[0m\n",
      "\u001b[0;32m    security:\u001b[0m\n",
      "\u001b[0;32m      kafka:\u001b[0m\n",
      "\u001b[0;32m        protocol: SSL\u001b[0m\n",
      "\u001b[0;32m        ssl:\u001b[0m\n",
      "\u001b[0;32m          client:\u001b[0m\n",
      "\u001b[0;32m            brokerCaPath: /tmp/certs/kafka/broker/ca.crt\u001b[0m\n",
      "\u001b[0;32m            brokerValidationSecret: seldon-cluster-ca-cert\u001b[0m\n",
      "\u001b[0;32m            caPath: /tmp/certs/kafka/client/ca.crt\u001b[0m\n",
      "\u001b[0;32m            crtPath: /tmp/certs/kafka/client/user.crt\u001b[0m\n",
      "\u001b[0;32m            keyPath: /tmp/certs/kafka/client/user.key\u001b[0m\n",
      "\u001b[0;32m            secret: seldon\u001b[0m\n",
      "\u001b[0;32m    serverConfig:\u001b[0m\n",
      "\u001b[0;32m      mlserver:\u001b[0m\n",
      "\u001b[0;32m        resources:\u001b[0m\n",
      "\u001b[0;32m          cpu: 1\u001b[0m\n",
      "\u001b[0;32m          memory: 1Gi\u001b[0m\n",
      "\u001b[0;32m      triton:\u001b[0m\n",
      "\u001b[0;32m        resources:\u001b[0m\n",
      "\u001b[0;32m          cpu: 1\u001b[0m\n",
      "\u001b[0;32m          memory: 1Gi\u001b[0m\n",
      "\u001b[0;32m    serviceGRPCPrefix: http2-\u001b[0m\n",
      "\n",
      "TASK [seldon : Apply custom artifact repo config to core components] ***********\n",
      "\u001b[0;36mskipping: [localhost]\u001b[0m\n",
      "\n",
      "TASK [seldon : Apply custom artifact repo config to server components] *********\n",
      "\u001b[0;36mskipping: [localhost]\u001b[0m\n",
      "\n",
      "TASK [seldon : Apply custom imagePullSecrets config] ***************************\n",
      "\u001b[0;36mskipping: [localhost]\u001b[0m\n",
      "\n",
      "TASK [seldon : Save seldon core helm component values] *************************\n",
      "\u001b[0;36mskipping: [localhost]\u001b[0m\n",
      "\n",
      "TASK [seldon : Create required k8s namespaces] *********************************\n",
      "\u001b[0;32mok: [localhost] => (item=seldon-mesh)\u001b[0m\n",
      "\n",
      "TASK [seldon : Get K8s secrets info] *******************************************\n",
      "\u001b[0;36mskipping: [localhost]\u001b[0m\n",
      "\n",
      "TASK [seldon : Set defaults] ***************************************************\n",
      "\u001b[0;36mskipping: [localhost]\u001b[0m\n",
      "\n",
      "TASK [seldon : Get original creds] *********************************************\n",
      "\u001b[0;36mskipping: [localhost]\u001b[0m\n",
      "\n",
      "TASK [seldon : Get current creds] **********************************************\n",
      "\u001b[0;36mskipping: [localhost]\u001b[0m\n",
      "\n",
      "TASK [seldon : Check whether same creds present in both old and new secrets] ***\n",
      "\u001b[0;36mskipping: [localhost]\u001b[0m\n",
      "\n",
      "TASK [seldon : Check whether creds contents have remained the same] ************\n",
      "\u001b[0;36mskipping: [localhost]\u001b[0m\n",
      "\n",
      "TASK [seldon : Import or update K8 secret for repo auth] ***********************\n",
      "\u001b[0;36mskipping: [localhost]\u001b[0m\n",
      "\n",
      "TASK [seldon : Add the mesh namespace to custom secrets without an explicit namespace] ***\n",
      "\u001b[0;36mskipping: [localhost]\u001b[0m\n",
      "\n",
      "TASK [seldon : Import custom secrets] ******************************************\n",
      "\u001b[0;36mskipping: [localhost]\u001b[0m\n",
      "\n",
      "TASK [seldon : Install Seldon Core 2 CRDs] *************************************\n",
      "\u001b[0;33mchanged: [localhost]\u001b[0m\n",
      "\n",
      "TASK [seldon : Check for existing local docker images] *************************\n",
      "\u001b[0;36mskipping: [localhost]\u001b[0m\n",
      "\n",
      "TASK [seldon : Collect missing local docker images] ****************************\n",
      "\u001b[0;36mskipping: [localhost]\u001b[0m\n",
      "\n",
      "TASK [seldon : Existing docker images] *****************************************\n",
      "\u001b[0;36mskipping: [localhost]\u001b[0m\n",
      "\n",
      "TASK [seldon : Test whether we need to build a dev version of mlserver] ********\n",
      "\u001b[0;36mskipping: [localhost]\u001b[0m\n",
      "\n",
      "TASK [seldon : Fail when mlserver needs to be built but source dir unknown] ****\n",
      "\u001b[0;36mskipping: [localhost]\u001b[0m\n",
      "\n",
      "TASK [seldon : Build docker images] ********************************************\n",
      "\u001b[0;36mskipping: [localhost]\u001b[0m\n",
      "\n",
      "TASK [seldon : Copy core docker images into kind] ******************************\n",
      "\u001b[0;36mskipping: [localhost]\u001b[0m\n",
      "\n",
      "TASK [seldon : Install Seldon Core 2 components] *******************************\n",
      "\u001b[0;33mchanged: [localhost]\u001b[0m\n",
      "\n",
      "TASK [seldon : Install Seldon Core 2 runtime] **********************************\n",
      "\u001b[0;33mchanged: [localhost]\u001b[0m\n",
      "\n",
      "TASK [seldon : Install servers] ************************************************\n",
      "\u001b[0;36mincluded: /Users/asaucedo/Programming/real-time-serving/seldon-core/ansible/roles/seldon/tasks/install_servers.yaml for localhost\u001b[0m\n",
      "\n",
      "TASK [seldon : Install Seldon Core 2 servers] **********************************\n",
      "\u001b[0;33mchanged: [localhost]\u001b[0m\n",
      "\n",
      "PLAY RECAP *********************************************************************\n",
      "\u001b[0;33mlocalhost\u001b[0m                  : \u001b[0;32mok=16  \u001b[0m \u001b[0;33mchanged=4   \u001b[0m unreachable=0    failed=0    \u001b[0;36mskipped=21  \u001b[0m rescued=0    ignored=0   \n",
      "\n"
     ]
    }
   ],
   "source": [
    "!(cd seldon-core/ansible/ && ansible-playbook playbooks/setup-seldon.yaml)"
   ]
  },
  {
   "cell_type": "markdown",
   "id": "76625c50-a3bc-4394-a3dd-adaaa761c13e",
   "metadata": {},
   "source": [
    "## Simple Model Example"
   ]
  },
  {
   "cell_type": "code",
   "execution_count": 49,
   "id": "5809942c-69aa-4dcf-80d2-76efdb550f74",
   "metadata": {},
   "outputs": [
    {
     "name": "stdout",
     "output_type": "stream",
     "text": [
      "model.mlops.seldon.io/iris created\n"
     ]
    }
   ],
   "source": [
    "%%bash\n",
    "kubectl apply -n seldon-mesh -f - << EOF\n",
    "apiVersion: mlops.seldon.io/v1alpha1\n",
    "kind: Model\n",
    "metadata:\n",
    "  name: iris\n",
    "spec:\n",
    "  storageUri: \"gs://seldon-models/scv2/samples/mlserver_1.3.5/iris-sklearn\"\n",
    "  requirements:\n",
    "  - sklearn\n",
    "  memory: 100Ki\n",
    "EOF"
   ]
  },
  {
   "cell_type": "code",
   "execution_count": 45,
   "id": "a3ac1032-1964-47c4-8f95-9e079d46d756",
   "metadata": {},
   "outputs": [
    {
     "name": "stdout",
     "output_type": "stream",
     "text": [
      "NAME   READY   REPLICAS   AGE\n",
      "iris   True    1          7m9s\n"
     ]
    }
   ],
   "source": [
    "!kubectl get model -n seldon-mesh"
   ]
  },
  {
   "cell_type": "code",
   "execution_count": 46,
   "id": "02a061a7-685e-4311-a976-4f949bc00191",
   "metadata": {},
   "outputs": [
    {
     "name": "stdout",
     "output_type": "stream",
     "text": [
      "  % Total    % Received % Xferd  Average Speed   Time    Time     Time  Current\n",
      "                                 Dload  Upload   Total   Spent    Left  Speed\n",
      "100   307  100   213  100    94  12786   5642 --:--:-- --:--:-- --:--:-- 19187\n",
      "\u001b[1;39m{\n",
      "  \u001b[0m\u001b[34;1m\"model_name\"\u001b[0m\u001b[1;39m: \u001b[0m\u001b[0;32m\"iris_1\"\u001b[0m\u001b[1;39m,\n",
      "  \u001b[0m\u001b[34;1m\"model_version\"\u001b[0m\u001b[1;39m: \u001b[0m\u001b[0;32m\"1\"\u001b[0m\u001b[1;39m,\n",
      "  \u001b[0m\u001b[34;1m\"id\"\u001b[0m\u001b[1;39m: \u001b[0m\u001b[0;32m\"71d3f7b8-f48c-4aab-ae90-fd9071a4e9ca\"\u001b[0m\u001b[1;39m,\n",
      "  \u001b[0m\u001b[34;1m\"parameters\"\u001b[0m\u001b[1;39m: \u001b[0m\u001b[1;39m{}\u001b[0m\u001b[1;39m,\n",
      "  \u001b[0m\u001b[34;1m\"outputs\"\u001b[0m\u001b[1;39m: \u001b[0m\u001b[1;39m[\n",
      "    \u001b[1;39m{\n",
      "      \u001b[0m\u001b[34;1m\"name\"\u001b[0m\u001b[1;39m: \u001b[0m\u001b[0;32m\"predict\"\u001b[0m\u001b[1;39m,\n",
      "      \u001b[0m\u001b[34;1m\"shape\"\u001b[0m\u001b[1;39m: \u001b[0m\u001b[1;39m[\n",
      "        \u001b[0;39m1\u001b[0m\u001b[1;39m,\n",
      "        \u001b[0;39m1\u001b[0m\u001b[1;39m\n",
      "      \u001b[1;39m]\u001b[0m\u001b[1;39m,\n",
      "      \u001b[0m\u001b[34;1m\"datatype\"\u001b[0m\u001b[1;39m: \u001b[0m\u001b[0;32m\"INT64\"\u001b[0m\u001b[1;39m,\n",
      "      \u001b[0m\u001b[34;1m\"parameters\"\u001b[0m\u001b[1;39m: \u001b[0m\u001b[1;39m{\n",
      "        \u001b[0m\u001b[34;1m\"content_type\"\u001b[0m\u001b[1;39m: \u001b[0m\u001b[0;32m\"np\"\u001b[0m\u001b[1;39m\n",
      "      \u001b[1;39m}\u001b[0m\u001b[1;39m,\n",
      "      \u001b[0m\u001b[34;1m\"data\"\u001b[0m\u001b[1;39m: \u001b[0m\u001b[1;39m[\n",
      "        \u001b[0;39m2\u001b[0m\u001b[1;39m\n",
      "      \u001b[1;39m]\u001b[0m\u001b[1;39m\n",
      "    \u001b[1;39m}\u001b[0m\u001b[1;39m\n",
      "  \u001b[1;39m]\u001b[0m\u001b[1;39m\n",
      "\u001b[1;39m}\u001b[0m\n"
     ]
    }
   ],
   "source": [
    "!curl http://localhost:80/v2/models/iris/infer \\\n",
    "    -H \"Content-Type: application/json\" \\\n",
    "    -d '{\"inputs\": [{\"name\": \"predict\", \"shape\": [1, 4], \"datatype\": \"FP32\", \"data\": [[1, 2, 3, 4]]}]}' | jq"
   ]
  },
  {
   "cell_type": "code",
   "execution_count": 47,
   "id": "ca5af708-7931-4a8e-8008-c0100c01e127",
   "metadata": {},
   "outputs": [
    {
     "name": "stdout",
     "output_type": "stream",
     "text": [
      "model.mlops.seldon.io/wine created\n"
     ]
    }
   ],
   "source": [
    "%%bash\n",
    "kubectl apply -n seldon-mesh -f - << EOF\n",
    "apiVersion: mlops.seldon.io/v1alpha1\n",
    "kind: Model\n",
    "metadata:\n",
    "  name: wine\n",
    "spec:\n",
    "  storageUri: \"gs://seldon-models/scv2/samples/mlserver_1.3.5/wine-mlflow\"\n",
    "  requirements:\n",
    "  - mlflow\n",
    "EOF"
   ]
  },
  {
   "cell_type": "code",
   "execution_count": 50,
   "id": "104c68bd-4973-446a-bf7c-4b37391fbcf9",
   "metadata": {},
   "outputs": [
    {
     "name": "stdout",
     "output_type": "stream",
     "text": [
      "NAME   READY   REPLICAS   AGE\n",
      "iris   True    1          2s\n",
      "wine   True    1          28s\n"
     ]
    }
   ],
   "source": [
    "!kubectl get -n seldon-mesh models "
   ]
  },
  {
   "cell_type": "code",
   "execution_count": 52,
   "id": "c88d9ac4-59ba-4688-a20e-9b7eef1cfbcc",
   "metadata": {
    "scrolled": true
   },
   "outputs": [
    {
     "name": "stdout",
     "output_type": "stream",
     "text": [
      "{'model_name': 'wine_1', 'model_version': '1', 'id': '520c93cf-dae6-4aed-be3f-e7da70bf5e6e', 'parameters': {'content_type': 'np'}, 'outputs': [{'name': 'output-1', 'shape': [1, 1], 'datatype': 'FP64', 'parameters': {'content_type': 'np'}, 'data': [5.576883936610762]}]}\n"
     ]
    }
   ],
   "source": [
    "import requests\n",
    "url = \"http://0.0.0.0:80/v2/models/model/infer\"\n",
    "inference_request = {\n",
    "    \"inputs\": [\n",
    "        {\n",
    "          \"name\": \"fixed acidity\",\n",
    "          \"shape\": [1],\n",
    "          \"datatype\": \"FP32\",\n",
    "          \"data\": [7.4],\n",
    "        },\n",
    "        {\n",
    "          \"name\": \"volatile acidity\",\n",
    "          \"shape\": [1],\n",
    "          \"datatype\": \"FP32\",\n",
    "          \"data\": [0.7000],\n",
    "        },\n",
    "        {\n",
    "          \"name\": \"citric acid\",\n",
    "          \"shape\": [1],\n",
    "          \"datatype\": \"FP32\",\n",
    "          \"data\": [0],\n",
    "        },\n",
    "        {\n",
    "          \"name\": \"residual sugar\",\n",
    "          \"shape\": [1],\n",
    "          \"datatype\": \"FP32\",\n",
    "          \"data\": [1.9],\n",
    "        },\n",
    "        {\n",
    "          \"name\": \"chlorides\",\n",
    "          \"shape\": [1],\n",
    "          \"datatype\": \"FP32\",\n",
    "          \"data\": [0.076],\n",
    "        },\n",
    "        {\n",
    "          \"name\": \"free sulfur dioxide\",\n",
    "          \"shape\": [1],\n",
    "          \"datatype\": \"FP32\",\n",
    "          \"data\": [11],\n",
    "        },\n",
    "        {\n",
    "          \"name\": \"total sulfur dioxide\",\n",
    "          \"shape\": [1],\n",
    "          \"datatype\": \"FP32\",\n",
    "          \"data\": [34],\n",
    "        },\n",
    "        {\n",
    "          \"name\": \"density\",\n",
    "          \"shape\": [1],\n",
    "          \"datatype\": \"FP32\",\n",
    "          \"data\": [0.9978],\n",
    "        },\n",
    "        {\n",
    "          \"name\": \"pH\",\n",
    "          \"shape\": [1],\n",
    "          \"datatype\": \"FP32\",\n",
    "          \"data\": [3.51],\n",
    "        },\n",
    "        {\n",
    "          \"name\": \"sulphates\",\n",
    "          \"shape\": [1],\n",
    "          \"datatype\": \"FP32\",\n",
    "          \"data\": [0.56],\n",
    "        },\n",
    "        {\n",
    "          \"name\": \"alcohol\",\n",
    "          \"shape\": [1],\n",
    "          \"datatype\": \"FP32\",\n",
    "          \"data\": [9.4],\n",
    "        },\n",
    "    ]\n",
    "}\n",
    "headers = {\"Content-Type\": \"application/json\", \"seldon-model\":\"wine\"}\n",
    "response_raw = requests.post(url, json=inference_request, headers=headers)\n",
    "print(response_raw.json())"
   ]
  },
  {
   "attachments": {
    "f5c4702d-b377-4779-bea8-b53a91153971.png": {
     "image/png": "[encoded data removed]"
    }
   },
   "cell_type": "markdown",
   "id": "0d693f18-f197-4bd5-8ae8-bec63c38855c",
   "metadata": {},
   "source": [
    "## View Analytics\n",
    "\n",
    "Grafana dashboard for seldon mesh:\n",
    "\n",
    "![image.png](attachment:f5c4702d-b377-4779-bea8-b53a91153971.png)"
   ]
  },
  {
   "cell_type": "code",
   "execution_count": null,
   "id": "ea81b711-83bf-40f8-8169-6ac36f9e559b",
   "metadata": {},
   "outputs": [],
   "source": []
  },
  {
   "cell_type": "markdown",
   "id": "5fd026a5-3f59-4ebb-84e1-b1199530d5fa",
   "metadata": {},
   "source": [
    "## Pipeline Example"
   ]
  },
  {
   "cell_type": "code",
   "execution_count": 132,
   "id": "85e1bb02-09eb-4263-a377-1588db1ff161",
   "metadata": {},
   "outputs": [
    {
     "name": "stdout",
     "output_type": "stream",
     "text": [
      "model.mlops.seldon.io/income-preprocess created\n"
     ]
    }
   ],
   "source": [
    "%%bash\n",
    "kubectl apply -n seldon-mesh -f - << EOF\n",
    "apiVersion: mlops.seldon.io/v1alpha1\n",
    "kind: Model\n",
    "metadata:\n",
    "  name: income-preprocess\n",
    "spec:\n",
    "  storageUri: \"gs://seldon-models/scv2/examples/mlserver_1.3.5/income/preprocessor\"\n",
    "  requirements:\n",
    "  - sklearn\n",
    "EOF"
   ]
  },
  {
   "cell_type": "code",
   "execution_count": 133,
   "id": "285b69f8-de23-4686-8025-d6bd717bbabc",
   "metadata": {},
   "outputs": [
    {
     "name": "stdout",
     "output_type": "stream",
     "text": [
      "model.mlops.seldon.io/income created\n"
     ]
    }
   ],
   "source": [
    "%%bash\n",
    "kubectl apply -n seldon-mesh -f - << EOF\n",
    "apiVersion: mlops.seldon.io/v1alpha1\n",
    "kind: Model\n",
    "metadata:\n",
    "  name: income\n",
    "spec:\n",
    "  storageUri: \"gs://seldon-models/scv2/examples/mlserver_1.3.5/income/classifier\"\n",
    "  requirements:\n",
    "  - sklearn\n",
    "EOF"
   ]
  },
  {
   "cell_type": "code",
   "execution_count": 174,
   "id": "fe75ce61-57cf-426e-ab52-f685f0066f3f",
   "metadata": {},
   "outputs": [
    {
     "name": "stdout",
     "output_type": "stream",
     "text": [
      "model.mlops.seldon.io/income-drift created\n"
     ]
    }
   ],
   "source": [
    "%%bash\n",
    "kubectl apply -n seldon-mesh -f - << EOF\n",
    "apiVersion: mlops.seldon.io/v1alpha1\n",
    "kind: Model\n",
    "metadata:\n",
    "  name: income-drift\n",
    "spec:\n",
    "  storageUri: \"gs://seldon-models/scv2/examples/mlserver_1.3.5/income/drift-detector\"\n",
    "  requirements:\n",
    "    - mlserver\n",
    "    - alibi-detect\n",
    "EOF"
   ]
  },
  {
   "cell_type": "code",
   "execution_count": 109,
   "id": "846ab53d-40c4-4f96-b3c7-53ddf73e7964",
   "metadata": {},
   "outputs": [
    {
     "name": "stdout",
     "output_type": "stream",
     "text": [
      "model.mlops.seldon.io/income-outlier created\n"
     ]
    }
   ],
   "source": [
    "%%bash\n",
    "kubectl apply -n seldon-mesh -f - << EOF\n",
    "apiVersion: mlops.seldon.io/v1alpha1\n",
    "kind: Model\n",
    "metadata:\n",
    "  name: income-outlier\n",
    "spec:\n",
    "  storageUri: \"gs://seldon-models/scv2/examples/cifar10/outlier-detector\"\n",
    "  requirements:\n",
    "    - mlserver\n",
    "    - alibi-detect\n",
    "EOF"
   ]
  },
  {
   "cell_type": "code",
   "execution_count": 118,
   "id": "18e41e4a-102c-4b3e-a5ef-dd75bd9761d8",
   "metadata": {},
   "outputs": [
    {
     "name": "stdout",
     "output_type": "stream",
     "text": [
      "NAME                READY   REPLICAS   AGE\n",
      "income              False   1          85m\n",
      "income-outlier      False   1          29m\n",
      "income-preprocess   False   1          85m\n",
      "iris                False   1          99m\n",
      "wine                False   1          99m\n"
     ]
    }
   ],
   "source": [
    "!kubectl get -n seldon-mesh models"
   ]
  },
  {
   "cell_type": "code",
   "execution_count": 175,
   "id": "9140a27b-6ea7-4f24-9cd4-51f2a2eb3a45",
   "metadata": {},
   "outputs": [
    {
     "name": "stdout",
     "output_type": "stream",
     "text": [
      "\u001b[33;1mWarning:\u001b[0m Immediate deletion does not wait for confirmation that the running resource has been terminated. The resource may continue to run on the cluster indefinitely.\n",
      "model.mlops.seldon.io \"income-drift\" force deleted\n",
      "Error from server (NotFound): models.mlops.seldon.io \"income\" not found\n",
      "Error from server (NotFound): models.mlops.seldon.io \"income-outlier\" not found\n",
      "Error from server (NotFound): models.mlops.seldon.io \"income-preprocess\" not found\n"
     ]
    }
   ],
   "source": [
    "!kubectl delete -n seldon-mesh model income income-drift income-outlier income-preprocess --force"
   ]
  }
 ],
 "metadata": {
  "kernelspec": {
   "display_name": "Python 3 (ipykernel)",
   "language": "python",
   "name": "python3"
  },
  "language_info": {
   "codemirror_mode": {
    "name": "ipython",
    "version": 3
   },
   "file_extension": ".py",
   "mimetype": "text/x-python",
   "name": "python",
   "nbconvert_exporter": "python",
   "pygments_lexer": "ipython3",
   "version": "3.12.6"
  }
 },
 "nbformat": 4,
 "nbformat_minor": 5
}
