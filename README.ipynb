{
 "cells": [
  {
   "cell_type": "code",
   "execution_count": 6,
   "id": "4bd54e2b-de03-4e06-8812-02c3cf6f0532",
   "metadata": {},
   "outputs": [],
   "source": [
    "# Set up for async background linux process runs\n",
    "import os\n",
    "get_ipython().system = os.system"
   ]
  },
  {
   "cell_type": "code",
   "execution_count": 2,
   "id": "18711915-180f-42a3-a2dd-b8a7071e3d2f",
   "metadata": {},
   "outputs": [
    {
     "name": "stdout",
     "output_type": "stream",
     "text": [
      "\u001b[1m\u001b[31merror\u001b[39m\u001b[0m: Project is already initialized in `\u001b[36m/Users/asaucedo/Programming/real-time-serving\u001b[39m` (`pyproject.toml` file exists)\n"
     ]
    }
   ],
   "source": [
    "!uv init"
   ]
  },
  {
   "cell_type": "code",
   "execution_count": 1,
   "id": "0c556632-f45c-490c-9293-1237a94225be",
   "metadata": {},
   "outputs": [
    {
     "name": "stdout",
     "output_type": "stream",
     "text": [
      "\u001b[2mResolved \u001b[1m164 packages\u001b[0m \u001b[2min 0.29ms\u001b[0m\u001b[0m\n",
      "\u001b[2mAudited \u001b[1m160 packages\u001b[0m \u001b[2min 0.13ms\u001b[0m\u001b[0m\n"
     ]
    }
   ],
   "source": [
    "!uv add mlserver cookiecutter scikit-learn"
   ]
  },
  {
   "cell_type": "code",
   "execution_count": 3,
   "id": "197544b6-30ac-4619-9ec6-94f9c1b19190",
   "metadata": {},
   "outputs": [
    {
     "data": {
      "text/plain": [
       "'/Users/asaucedo/Programming/real-time-serving/.venv/lib/python3.12/site-packages/mlserver/__init__.py'"
      ]
     },
     "execution_count": 3,
     "metadata": {},
     "output_type": "execute_result"
    }
   ],
   "source": [
    "# Run command on terminal\n",
    "# > !mlserver init\n",
    "\n",
    "#  [1/6] project_name (Lambda runtime): SimpleModel\n",
    "#  [2/6] repo_user (MyGithubUsername): axsaucedo\n",
    "#  [3/6] repo_name (simplemodel):\n",
    "#  [4/6] class_name (Simplemodel): SimpleModel\n",
    "#  [5/6] description (A short description of the project.):\n",
    "#  [6/6] Select open_source_license\n",
    "#    1 - MIT\n",
    "#    2 - BSD-3-Clause\n",
    "#    3 - No license file\n",
    "#    Choose from [1/2/3] (1): 3"
   ]
  },
  {
   "cell_type": "code",
   "execution_count": 4,
   "id": "ab1dbd1d-117b-4bb7-9865-dbb2d1be720a",
   "metadata": {},
   "outputs": [
    {
     "name": "stdout",
     "output_type": "stream",
     "text": [
      "Dockerfile           \u001b[1m\u001b[36mdocs\u001b[m\u001b[m                 \u001b[1m\u001b[36msimplemodel\u001b[m\u001b[m\n",
      "LICENSE              pyproject.toml       \u001b[1m\u001b[36mtests\u001b[m\u001b[m\n",
      "Makefile             requirements-dev.txt\n",
      "README.md            setup.py\n"
     ]
    }
   ],
   "source": [
    "!ls simplemodel/"
   ]
  },
  {
   "cell_type": "code",
   "execution_count": 5,
   "id": "89cf5598-6f1c-4599-8daf-bc67ac8a07c7",
   "metadata": {},
   "outputs": [
    {
     "name": "stdout",
     "output_type": "stream",
     "text": [
      "__init__.py common.py   runtime.py  version.py\n"
     ]
    }
   ],
   "source": [
    "!ls simplemodel/simplemodel/"
   ]
  },
  {
   "cell_type": "code",
   "execution_count": 6,
   "id": "191cde02-cab5-4b0b-a23f-668fc6e7cd22",
   "metadata": {},
   "outputs": [
    {
     "name": "stdout",
     "output_type": "stream",
     "text": [
      "\u001b[38;5;238m───────┬────────────────────────────────────────────────────────────────────────\u001b[0m\n",
      "       \u001b[38;5;238m│ \u001b[0mFile: \u001b[1msimplemodel/simplemodel/runtime.py\u001b[0m\n",
      "\u001b[38;5;238m───────┼────────────────────────────────────────────────────────────────────────\u001b[0m\n",
      "\u001b[38;5;238m   1\u001b[0m   \u001b[38;5;238m│\u001b[0m \u001b[38;5;203mimport\u001b[0m\u001b[38;5;231m \u001b[0m\u001b[38;5;231mnumpy\u001b[0m\u001b[38;5;231m \u001b[0m\u001b[38;5;203mas\u001b[0m\u001b[38;5;231m \u001b[0m\u001b[38;5;231mnp\u001b[0m\n",
      "\u001b[38;5;238m   2\u001b[0m   \u001b[38;5;238m│\u001b[0m \u001b[38;5;203mfrom\u001b[0m\u001b[38;5;231m \u001b[0m\u001b[38;5;231mmlserver\u001b[0m\u001b[38;5;231m.\u001b[0m\u001b[38;5;231mmodel\u001b[0m\u001b[38;5;231m \u001b[0m\u001b[38;5;203mimport\u001b[0m\u001b[38;5;231m \u001b[0m\u001b[38;5;231mMLModel\u001b[0m\n",
      "\u001b[38;5;238m   3\u001b[0m   \u001b[38;5;238m│\u001b[0m \u001b[38;5;203mfrom\u001b[0m\u001b[38;5;231m \u001b[0m\u001b[38;5;231mmlserver\u001b[0m\u001b[38;5;231m.\u001b[0m\u001b[38;5;231msettings\u001b[0m\u001b[38;5;231m \u001b[0m\u001b[38;5;203mimport\u001b[0m\u001b[38;5;231m \u001b[0m\u001b[38;5;231mModelSettings\u001b[0m\n",
      "\u001b[38;5;238m   4\u001b[0m   \u001b[38;5;238m│\u001b[0m \u001b[38;5;203mfrom\u001b[0m\u001b[38;5;231m \u001b[0m\u001b[38;5;231mfastapi\u001b[0m\u001b[38;5;231m \u001b[0m\u001b[38;5;203mimport\u001b[0m\u001b[38;5;231m \u001b[0m\u001b[38;5;231mstatus\u001b[0m\n",
      "\u001b[38;5;238m   5\u001b[0m   \u001b[38;5;238m│\u001b[0m \u001b[38;5;203mfrom\u001b[0m\u001b[38;5;231m \u001b[0m\u001b[38;5;231mmlserver\u001b[0m\u001b[38;5;231m.\u001b[0m\u001b[38;5;231mutils\u001b[0m\u001b[38;5;231m \u001b[0m\u001b[38;5;203mimport\u001b[0m\u001b[38;5;231m \u001b[0m\u001b[38;5;231mget_model_uri\u001b[0m\n",
      "\u001b[38;5;238m   6\u001b[0m   \u001b[38;5;238m│\u001b[0m \u001b[38;5;203mfrom\u001b[0m\u001b[38;5;231m \u001b[0m\u001b[38;5;231mmlserver\u001b[0m\u001b[38;5;231m.\u001b[0m\u001b[38;5;231merrors\u001b[0m\u001b[38;5;231m \u001b[0m\u001b[38;5;203mimport\u001b[0m\u001b[38;5;231m \u001b[0m\u001b[38;5;231mInvalidModelURI\u001b[0m\u001b[38;5;231m,\u001b[0m\u001b[38;5;231m \u001b[0m\u001b[38;5;231mMLServerError\u001b[0m\n",
      "\u001b[38;5;238m   7\u001b[0m   \u001b[38;5;238m│\u001b[0m \u001b[38;5;203mfrom\u001b[0m\u001b[38;5;231m \u001b[0m\u001b[38;5;231mmlserver\u001b[0m\u001b[38;5;231m.\u001b[0m\u001b[38;5;231mtypes\u001b[0m\u001b[38;5;231m \u001b[0m\u001b[38;5;203mimport\u001b[0m\u001b[38;5;231m \u001b[0m\u001b[38;5;231m(\u001b[0m\n",
      "\u001b[38;5;238m   8\u001b[0m   \u001b[38;5;238m│\u001b[0m \u001b[38;5;231m    \u001b[0m\u001b[38;5;231mInferenceRequest\u001b[0m\u001b[38;5;231m,\u001b[0m\n",
      "\u001b[38;5;238m   9\u001b[0m   \u001b[38;5;238m│\u001b[0m \u001b[38;5;231m    \u001b[0m\u001b[38;5;231mInferenceResponse\u001b[0m\u001b[38;5;231m,\u001b[0m\n",
      "\u001b[38;5;238m  10\u001b[0m   \u001b[38;5;238m│\u001b[0m \u001b[38;5;231m)\u001b[0m\n",
      "\u001b[38;5;238m  11\u001b[0m   \u001b[38;5;238m│\u001b[0m \u001b[38;5;203mfrom\u001b[0m\u001b[38;5;231m \u001b[0m\u001b[38;5;231mmlserver\u001b[0m\u001b[38;5;231m.\u001b[0m\u001b[38;5;231mcodecs\u001b[0m\u001b[38;5;231m \u001b[0m\u001b[38;5;203mimport\u001b[0m\u001b[38;5;231m \u001b[0m\u001b[38;5;231mNumpyCodec\u001b[0m\u001b[38;5;231m,\u001b[0m\u001b[38;5;231m \u001b[0m\u001b[38;5;231mNumpyRequestCodec\u001b[0m\n",
      "\u001b[38;5;238m  12\u001b[0m   \u001b[38;5;238m│\u001b[0m \u001b[38;5;203mfrom\u001b[0m\u001b[38;5;231m \u001b[0m\u001b[38;5;231msimplemodel\u001b[0m\u001b[38;5;231m.\u001b[0m\u001b[38;5;231mcommon\u001b[0m\u001b[38;5;231m \u001b[0m\u001b[38;5;203mimport\u001b[0m\u001b[38;5;231m \u001b[0m\u001b[38;5;231mSimpleModelSettings\u001b[0m\n",
      "\u001b[38;5;238m  13\u001b[0m   \u001b[38;5;238m│\u001b[0m \n",
      "\u001b[38;5;238m  14\u001b[0m   \u001b[38;5;238m│\u001b[0m \n",
      "\u001b[38;5;238m  15\u001b[0m   \u001b[38;5;238m│\u001b[0m \u001b[38;5;203mclass\u001b[0m\u001b[38;5;231m \u001b[0m\u001b[4;38;5;81mSimpleModel\u001b[0m\u001b[38;5;231m(\u001b[0m\u001b[4;38;5;149mMLModel\u001b[0m\u001b[38;5;231m)\u001b[0m\u001b[38;5;231m:\u001b[0m\n",
      "\u001b[38;5;238m  16\u001b[0m   \u001b[38;5;238m│\u001b[0m \u001b[38;5;231m    \u001b[0m\u001b[38;5;242m\"\"\"\u001b[0m\u001b[38;5;242mRuntime class for specific Huggingface models\u001b[0m\u001b[38;5;242m\"\"\"\u001b[0m\n",
      "\u001b[38;5;238m  17\u001b[0m   \u001b[38;5;238m│\u001b[0m \n",
      "\u001b[38;5;238m  18\u001b[0m   \u001b[38;5;238m│\u001b[0m \u001b[38;5;231m    \u001b[0m\u001b[38;5;203mdef\u001b[0m\u001b[38;5;231m \u001b[0m\u001b[38;5;81m__init__\u001b[0m\u001b[38;5;231m(\u001b[0m\u001b[38;5;208mself\u001b[0m\u001b[38;5;231m,\u001b[0m\u001b[38;5;231m \u001b[0m\u001b[38;5;208msettings\u001b[0m\u001b[38;5;231m:\u001b[0m\u001b[38;5;231m \u001b[0m\u001b[38;5;231mModelSettings\u001b[0m\u001b[38;5;231m)\u001b[0m\u001b[38;5;231m:\u001b[0m\n",
      "\u001b[38;5;238m  19\u001b[0m   \u001b[38;5;238m│\u001b[0m \n",
      "\u001b[38;5;238m  20\u001b[0m   \u001b[38;5;238m│\u001b[0m \u001b[38;5;231m        \u001b[0m\u001b[38;5;231mself\u001b[0m\u001b[38;5;231m.\u001b[0m\u001b[38;5;231m_extra_settings\u001b[0m\u001b[38;5;231m \u001b[0m\u001b[38;5;203m=\u001b[0m\u001b[38;5;231m \u001b[0m\u001b[38;5;231mSimpleModelSettings\u001b[0m\u001b[38;5;231m(\u001b[0m\u001b[38;5;203m*\u001b[0m\u001b[38;5;203m*\u001b[0m\u001b[38;5;231msettings\u001b[0m\u001b[38;5;231m.\u001b[0m\u001b[38;5;231mparameter\u001b[0m\n",
      "\u001b[38;5;238m    \u001b[0m   \u001b[38;5;238m│\u001b[0m \u001b[38;5;231ms\u001b[0m\u001b[38;5;231m.\u001b[0m\u001b[38;5;231mextra\u001b[0m\u001b[38;5;231m)\u001b[0m\u001b[38;5;231m  \u001b[0m\u001b[38;5;242m#\u001b[0m\u001b[38;5;242m type: ignore\u001b[0m\n",
      "\u001b[38;5;238m  21\u001b[0m   \u001b[38;5;238m│\u001b[0m \n",
      "\u001b[38;5;238m  22\u001b[0m   \u001b[38;5;238m│\u001b[0m \u001b[38;5;231m        \u001b[0m\u001b[38;5;81msuper\u001b[0m\u001b[38;5;231m(\u001b[0m\u001b[38;5;231m)\u001b[0m\u001b[38;5;231m.\u001b[0m\u001b[38;5;81m__init__\u001b[0m\u001b[38;5;231m(\u001b[0m\u001b[38;5;231msettings\u001b[0m\u001b[38;5;231m)\u001b[0m\n",
      "\u001b[38;5;238m  23\u001b[0m   \u001b[38;5;238m│\u001b[0m \n",
      "\u001b[38;5;238m  24\u001b[0m   \u001b[38;5;238m│\u001b[0m \u001b[38;5;231m    \u001b[0m\u001b[38;5;203masync\u001b[0m\u001b[38;5;231m \u001b[0m\u001b[38;5;203mdef\u001b[0m\u001b[38;5;231m \u001b[0m\u001b[38;5;149mload\u001b[0m\u001b[38;5;231m(\u001b[0m\u001b[38;5;208mself\u001b[0m\u001b[38;5;231m)\u001b[0m\u001b[38;5;231m \u001b[0m\u001b[38;5;231m->\u001b[0m\u001b[38;5;231m \u001b[0m\u001b[38;5;149mbool\u001b[0m\u001b[38;5;231m:\u001b[0m\n",
      "\u001b[38;5;238m  25\u001b[0m   \u001b[38;5;238m│\u001b[0m \u001b[38;5;231m        \u001b[0m\u001b[38;5;242m#\u001b[0m\u001b[38;5;242m Simple showcase reading a lambda as string either from file o\u001b[0m\n",
      "\u001b[38;5;238m    \u001b[0m   \u001b[38;5;238m│\u001b[0m \u001b[38;5;242mr \u001b[0m\n",
      "\u001b[38;5;238m  26\u001b[0m   \u001b[38;5;238m│\u001b[0m \u001b[38;5;231m        \u001b[0m\u001b[38;5;203mtry\u001b[0m\u001b[38;5;231m:\u001b[0m\n",
      "\u001b[38;5;238m  27\u001b[0m   \u001b[38;5;238m│\u001b[0m \u001b[38;5;231m            \u001b[0m\u001b[38;5;231mmodel_uri\u001b[0m\u001b[38;5;231m \u001b[0m\u001b[38;5;203m=\u001b[0m\u001b[38;5;231m \u001b[0m\u001b[38;5;203mawait\u001b[0m\u001b[38;5;231m \u001b[0m\u001b[38;5;231mget_model_uri\u001b[0m\u001b[38;5;231m(\u001b[0m\u001b[38;5;231mself\u001b[0m\u001b[38;5;231m.\u001b[0m\u001b[38;5;231m_settings\u001b[0m\u001b[38;5;231m)\u001b[0m\n",
      "\u001b[38;5;238m  28\u001b[0m   \u001b[38;5;238m│\u001b[0m \u001b[38;5;231m            \u001b[0m\u001b[38;5;203mwith\u001b[0m\u001b[38;5;231m \u001b[0m\u001b[38;5;81mopen\u001b[0m\u001b[38;5;231m(\u001b[0m\u001b[38;5;231mmodel_uri\u001b[0m\u001b[38;5;231m,\u001b[0m\u001b[38;5;231m \u001b[0m\u001b[38;5;186m\"\u001b[0m\u001b[38;5;186mr\u001b[0m\u001b[38;5;186m\"\u001b[0m\u001b[38;5;231m)\u001b[0m\u001b[38;5;231m \u001b[0m\u001b[38;5;203mas\u001b[0m\u001b[38;5;231m \u001b[0m\u001b[38;5;231mf\u001b[0m\u001b[38;5;231m:\u001b[0m\n",
      "\u001b[38;5;238m  29\u001b[0m   \u001b[38;5;238m│\u001b[0m \u001b[38;5;231m                \u001b[0m\u001b[38;5;231mself\u001b[0m\u001b[38;5;231m.\u001b[0m\u001b[38;5;231m_model\u001b[0m\u001b[38;5;231m \u001b[0m\u001b[38;5;203m=\u001b[0m\u001b[38;5;231m \u001b[0m\u001b[38;5;81meval\u001b[0m\u001b[38;5;231m(\u001b[0m\u001b[38;5;231mf\u001b[0m\u001b[38;5;231m.\u001b[0m\u001b[38;5;231mread\u001b[0m\u001b[38;5;231m(\u001b[0m\u001b[38;5;231m)\u001b[0m\u001b[38;5;231m)\u001b[0m\n",
      "\u001b[38;5;238m  30\u001b[0m   \u001b[38;5;238m│\u001b[0m \u001b[38;5;231m        \u001b[0m\u001b[38;5;203mexcept\u001b[0m\u001b[38;5;231m \u001b[0m\u001b[38;5;231m(\u001b[0m\u001b[38;5;231mInvalidModelURI\u001b[0m\u001b[38;5;231m,\u001b[0m\u001b[38;5;231m \u001b[0m\u001b[38;5;231mIsADirectoryError\u001b[0m\u001b[38;5;231m)\u001b[0m\u001b[38;5;231m:\u001b[0m\n",
      "\u001b[38;5;238m  31\u001b[0m   \u001b[38;5;238m│\u001b[0m \u001b[38;5;231m            \u001b[0m\u001b[38;5;231mself\u001b[0m\u001b[38;5;231m.\u001b[0m\u001b[38;5;231m_model\u001b[0m\u001b[38;5;231m \u001b[0m\u001b[38;5;203m=\u001b[0m\u001b[38;5;231m \u001b[0m\u001b[38;5;81meval\u001b[0m\u001b[38;5;231m(\u001b[0m\u001b[38;5;231mself\u001b[0m\u001b[38;5;231m.\u001b[0m\u001b[38;5;231m_extra_settings\u001b[0m\u001b[38;5;231m.\u001b[0m\u001b[38;5;231mlambda_value\u001b[0m\u001b[38;5;231m)\u001b[0m\n",
      "\u001b[38;5;238m  32\u001b[0m   \u001b[38;5;238m│\u001b[0m \n",
      "\u001b[38;5;238m  33\u001b[0m   \u001b[38;5;238m│\u001b[0m \u001b[38;5;231m        \u001b[0m\u001b[38;5;203mif\u001b[0m\u001b[38;5;231m \u001b[0m\u001b[38;5;203mnot\u001b[0m\u001b[38;5;231m \u001b[0m\u001b[38;5;81mcallable\u001b[0m\u001b[38;5;231m(\u001b[0m\u001b[38;5;231mself\u001b[0m\u001b[38;5;231m.\u001b[0m\u001b[38;5;231m_model\u001b[0m\u001b[38;5;231m)\u001b[0m\u001b[38;5;231m:\u001b[0m\n",
      "\u001b[38;5;238m  34\u001b[0m   \u001b[38;5;238m│\u001b[0m \u001b[38;5;231m            \u001b[0m\u001b[38;5;203mraise\u001b[0m\u001b[38;5;231m \u001b[0m\u001b[38;5;231mMLServerError\u001b[0m\u001b[38;5;231m(\u001b[0m\u001b[38;5;186m\"\u001b[0m\u001b[38;5;186mInvalid lambda value provided\u001b[0m\u001b[38;5;186m\"\u001b[0m\u001b[38;5;231m,\u001b[0m\u001b[38;5;231m \u001b[0m\u001b[38;5;231mstatus\u001b[0m\n",
      "\u001b[38;5;238m    \u001b[0m   \u001b[38;5;238m│\u001b[0m \u001b[38;5;231m.\u001b[0m\u001b[38;5;231mHTTP_500_INTERNAL_SERVER_ERROR\u001b[0m\u001b[38;5;231m)\u001b[0m\n",
      "\u001b[38;5;238m  35\u001b[0m   \u001b[38;5;238m│\u001b[0m \n",
      "\u001b[38;5;238m  36\u001b[0m   \u001b[38;5;238m│\u001b[0m \u001b[38;5;231m        \u001b[0m\u001b[38;5;231mself\u001b[0m\u001b[38;5;231m.\u001b[0m\u001b[38;5;231mready\u001b[0m\u001b[38;5;231m \u001b[0m\u001b[38;5;203m=\u001b[0m\u001b[38;5;231m \u001b[0m\u001b[38;5;141mTrue\u001b[0m\n",
      "\u001b[38;5;238m  37\u001b[0m   \u001b[38;5;238m│\u001b[0m \u001b[38;5;231m        \u001b[0m\u001b[38;5;203mreturn\u001b[0m\u001b[38;5;231m \u001b[0m\u001b[38;5;231mself\u001b[0m\u001b[38;5;231m.\u001b[0m\u001b[38;5;231mready\u001b[0m\n",
      "\u001b[38;5;238m  38\u001b[0m   \u001b[38;5;238m│\u001b[0m \n",
      "\u001b[38;5;238m  39\u001b[0m   \u001b[38;5;238m│\u001b[0m \u001b[38;5;231m    \u001b[0m\u001b[38;5;203masync\u001b[0m\u001b[38;5;231m \u001b[0m\u001b[38;5;203mdef\u001b[0m\u001b[38;5;231m \u001b[0m\u001b[38;5;149mpredict\u001b[0m\u001b[38;5;231m(\u001b[0m\u001b[38;5;208mself\u001b[0m\u001b[38;5;231m,\u001b[0m\u001b[38;5;231m \u001b[0m\u001b[38;5;208mpayload\u001b[0m\u001b[38;5;231m:\u001b[0m\u001b[38;5;231m \u001b[0m\u001b[38;5;231mInferenceRequest\u001b[0m\u001b[38;5;231m)\u001b[0m\u001b[38;5;231m \u001b[0m\u001b[38;5;231m->\u001b[0m\u001b[38;5;231m \u001b[0m\u001b[38;5;231mInferenceResp\u001b[0m\n",
      "\u001b[38;5;238m    \u001b[0m   \u001b[38;5;238m│\u001b[0m \u001b[38;5;231monse\u001b[0m\u001b[38;5;231m:\u001b[0m\n",
      "\u001b[38;5;238m  40\u001b[0m   \u001b[38;5;238m│\u001b[0m \u001b[38;5;231m        \u001b[0m\u001b[38;5;242m\"\"\"\u001b[0m\n",
      "\u001b[38;5;238m  41\u001b[0m   \u001b[38;5;238m│\u001b[0m \u001b[38;5;242m        Prediction request\u001b[0m\n",
      "\u001b[38;5;238m  42\u001b[0m   \u001b[38;5;238m│\u001b[0m \u001b[38;5;242m        \u001b[0m\u001b[38;5;242m\"\"\"\u001b[0m\n",
      "\u001b[38;5;238m  43\u001b[0m   \u001b[38;5;238m│\u001b[0m \u001b[38;5;231m        \u001b[0m\u001b[38;5;242m#\u001b[0m\u001b[38;5;242m For more advanced request decoding see MLServer codecs docume\u001b[0m\n",
      "\u001b[38;5;238m    \u001b[0m   \u001b[38;5;238m│\u001b[0m \u001b[38;5;242mntation\u001b[0m\n",
      "\u001b[38;5;238m  44\u001b[0m   \u001b[38;5;238m│\u001b[0m \u001b[38;5;231m        \u001b[0m\u001b[38;5;231mmodel_input\u001b[0m\u001b[38;5;231m \u001b[0m\u001b[38;5;203m=\u001b[0m\u001b[38;5;231m \u001b[0m\u001b[38;5;231mNumpyRequestCodec\u001b[0m\u001b[38;5;231m.\u001b[0m\u001b[38;5;231mdecode\u001b[0m\u001b[38;5;231m(\u001b[0m\u001b[38;5;231mpayload\u001b[0m\u001b[38;5;231m)\u001b[0m\n",
      "\u001b[38;5;238m  45\u001b[0m   \u001b[38;5;238m│\u001b[0m \n",
      "\u001b[38;5;238m  46\u001b[0m   \u001b[38;5;238m│\u001b[0m \u001b[38;5;231m        \u001b[0m\u001b[38;5;231mmodel_output\u001b[0m\u001b[38;5;231m \u001b[0m\u001b[38;5;203m=\u001b[0m\u001b[38;5;231m \u001b[0m\u001b[38;5;231mself\u001b[0m\u001b[38;5;231m.\u001b[0m\u001b[38;5;231m_model\u001b[0m\u001b[38;5;231m(\u001b[0m\u001b[38;5;231mmodel_input\u001b[0m\u001b[38;5;231m)\u001b[0m\n",
      "\u001b[38;5;238m  47\u001b[0m   \u001b[38;5;238m│\u001b[0m \u001b[38;5;231m        \u001b[0m\u001b[38;5;231mmodel_output_np\u001b[0m\u001b[38;5;231m \u001b[0m\u001b[38;5;203m=\u001b[0m\u001b[38;5;231m \u001b[0m\u001b[38;5;231mnp\u001b[0m\u001b[38;5;231m.\u001b[0m\u001b[38;5;231marray\u001b[0m\u001b[38;5;231m(\u001b[0m\u001b[38;5;231mmodel_output\u001b[0m\u001b[38;5;231m)\u001b[0m\n",
      "\u001b[38;5;238m  48\u001b[0m   \u001b[38;5;238m│\u001b[0m \n",
      "\u001b[38;5;238m  49\u001b[0m   \u001b[38;5;238m│\u001b[0m \u001b[38;5;231m        \u001b[0m\u001b[38;5;231mencoded_output\u001b[0m\u001b[38;5;231m \u001b[0m\u001b[38;5;203m=\u001b[0m\u001b[38;5;231m \u001b[0m\u001b[38;5;231mNumpyCodec\u001b[0m\u001b[38;5;231m.\u001b[0m\u001b[38;5;231mencode\u001b[0m\u001b[38;5;231m(\u001b[0m\u001b[38;5;186m\"\u001b[0m\u001b[38;5;186mpredict\u001b[0m\u001b[38;5;186m\"\u001b[0m\u001b[38;5;231m,\u001b[0m\u001b[38;5;231m \u001b[0m\u001b[38;5;231mmodel_output_np\u001b[0m\u001b[38;5;231m)\u001b[0m\n",
      "\u001b[38;5;238m  50\u001b[0m   \u001b[38;5;238m│\u001b[0m \n",
      "\u001b[38;5;238m  51\u001b[0m   \u001b[38;5;238m│\u001b[0m \u001b[38;5;231m        \u001b[0m\u001b[38;5;203mreturn\u001b[0m\u001b[38;5;231m \u001b[0m\u001b[38;5;231mInferenceResponse\u001b[0m\u001b[38;5;231m(\u001b[0m\n",
      "\u001b[38;5;238m  52\u001b[0m   \u001b[38;5;238m│\u001b[0m \u001b[38;5;231m            \u001b[0m\u001b[38;5;208mmodel_name\u001b[0m\u001b[38;5;203m=\u001b[0m\u001b[38;5;231mself\u001b[0m\u001b[38;5;231m.\u001b[0m\u001b[38;5;231mname\u001b[0m\u001b[38;5;231m,\u001b[0m\n",
      "\u001b[38;5;238m  53\u001b[0m   \u001b[38;5;238m│\u001b[0m \u001b[38;5;231m            \u001b[0m\u001b[38;5;208mmodel_version\u001b[0m\u001b[38;5;203m=\u001b[0m\u001b[38;5;231mself\u001b[0m\u001b[38;5;231m.\u001b[0m\u001b[38;5;231mversion\u001b[0m\u001b[38;5;231m,\u001b[0m\n",
      "\u001b[38;5;238m  54\u001b[0m   \u001b[38;5;238m│\u001b[0m \u001b[38;5;231m            \u001b[0m\u001b[38;5;208moutputs\u001b[0m\u001b[38;5;203m=\u001b[0m\u001b[38;5;231m[\u001b[0m\u001b[38;5;231mencoded_output\u001b[0m\u001b[38;5;231m]\u001b[0m\u001b[38;5;231m,\u001b[0m\n",
      "\u001b[38;5;238m  55\u001b[0m   \u001b[38;5;238m│\u001b[0m \u001b[38;5;231m        \u001b[0m\u001b[38;5;231m)\u001b[0m\n",
      "\u001b[38;5;238m───────┴────────────────────────────────────────────────────────────────────────\u001b[0m\n"
     ]
    }
   ],
   "source": [
    "!bat simplemodel/simplemodel/runtime.py"
   ]
  },
  {
   "cell_type": "markdown",
   "id": "a95e6b30-55ef-4338-b9fe-6c8fcd0749dd",
   "metadata": {},
   "source": [
    "## Out of the Box Models\n",
    "### Sklearn"
   ]
  },
  {
   "cell_type": "code",
   "execution_count": 18,
   "id": "f846d75f-ee91-42a5-a219-c50f928f4c70",
   "metadata": {},
   "outputs": [],
   "source": [
    "!mkdir -p sklearn/"
   ]
  },
  {
   "cell_type": "markdown",
   "id": "daff0a42-f3d8-4027-9773-28049a985634",
   "metadata": {},
   "source": [
    "Training"
   ]
  },
  {
   "cell_type": "code",
   "execution_count": 2,
   "id": "eda0c65c-108f-4313-9559-3f1f35d6d44e",
   "metadata": {},
   "outputs": [
    {
     "data": {
      "text/html": [
       "<style>#sk-container-id-1 {\n",
       "  /* Definition of color scheme common for light and dark mode */\n",
       "  --sklearn-color-text: black;\n",
       "  --sklearn-color-line: gray;\n",
       "  /* Definition of color scheme for unfitted estimators */\n",
       "  --sklearn-color-unfitted-level-0: #fff5e6;\n",
       "  --sklearn-color-unfitted-level-1: #f6e4d2;\n",
       "  --sklearn-color-unfitted-level-2: #ffe0b3;\n",
       "  --sklearn-color-unfitted-level-3: chocolate;\n",
       "  /* Definition of color scheme for fitted estimators */\n",
       "  --sklearn-color-fitted-level-0: #f0f8ff;\n",
       "  --sklearn-color-fitted-level-1: #d4ebff;\n",
       "  --sklearn-color-fitted-level-2: #b3dbfd;\n",
       "  --sklearn-color-fitted-level-3: cornflowerblue;\n",
       "\n",
       "  /* Specific color for light theme */\n",
       "  --sklearn-color-text-on-default-background: var(--sg-text-color, var(--theme-code-foreground, var(--jp-content-font-color1, black)));\n",
       "  --sklearn-color-background: var(--sg-background-color, var(--theme-background, var(--jp-layout-color0, white)));\n",
       "  --sklearn-color-border-box: var(--sg-text-color, var(--theme-code-foreground, var(--jp-content-font-color1, black)));\n",
       "  --sklearn-color-icon: #696969;\n",
       "\n",
       "  @media (prefers-color-scheme: dark) {\n",
       "    /* Redefinition of color scheme for dark theme */\n",
       "    --sklearn-color-text-on-default-background: var(--sg-text-color, var(--theme-code-foreground, var(--jp-content-font-color1, white)));\n",
       "    --sklearn-color-background: var(--sg-background-color, var(--theme-background, var(--jp-layout-color0, #111)));\n",
       "    --sklearn-color-border-box: var(--sg-text-color, var(--theme-code-foreground, var(--jp-content-font-color1, white)));\n",
       "    --sklearn-color-icon: #878787;\n",
       "  }\n",
       "}\n",
       "\n",
       "#sk-container-id-1 {\n",
       "  color: var(--sklearn-color-text);\n",
       "}\n",
       "\n",
       "#sk-container-id-1 pre {\n",
       "  padding: 0;\n",
       "}\n",
       "\n",
       "#sk-container-id-1 input.sk-hidden--visually {\n",
       "  border: 0;\n",
       "  clip: rect(1px 1px 1px 1px);\n",
       "  clip: rect(1px, 1px, 1px, 1px);\n",
       "  height: 1px;\n",
       "  margin: -1px;\n",
       "  overflow: hidden;\n",
       "  padding: 0;\n",
       "  position: absolute;\n",
       "  width: 1px;\n",
       "}\n",
       "\n",
       "#sk-container-id-1 div.sk-dashed-wrapped {\n",
       "  border: 1px dashed var(--sklearn-color-line);\n",
       "  margin: 0 0.4em 0.5em 0.4em;\n",
       "  box-sizing: border-box;\n",
       "  padding-bottom: 0.4em;\n",
       "  background-color: var(--sklearn-color-background);\n",
       "}\n",
       "\n",
       "#sk-container-id-1 div.sk-container {\n",
       "  /* jupyter's `normalize.less` sets `[hidden] { display: none; }`\n",
       "     but bootstrap.min.css set `[hidden] { display: none !important; }`\n",
       "     so we also need the `!important` here to be able to override the\n",
       "     default hidden behavior on the sphinx rendered scikit-learn.org.\n",
       "     See: https://github.com/scikit-learn/scikit-learn/issues/21755 */\n",
       "  display: inline-block !important;\n",
       "  position: relative;\n",
       "}\n",
       "\n",
       "#sk-container-id-1 div.sk-text-repr-fallback {\n",
       "  display: none;\n",
       "}\n",
       "\n",
       "div.sk-parallel-item,\n",
       "div.sk-serial,\n",
       "div.sk-item {\n",
       "  /* draw centered vertical line to link estimators */\n",
       "  background-image: linear-gradient(var(--sklearn-color-text-on-default-background), var(--sklearn-color-text-on-default-background));\n",
       "  background-size: 2px 100%;\n",
       "  background-repeat: no-repeat;\n",
       "  background-position: center center;\n",
       "}\n",
       "\n",
       "/* Parallel-specific style estimator block */\n",
       "\n",
       "#sk-container-id-1 div.sk-parallel-item::after {\n",
       "  content: \"\";\n",
       "  width: 100%;\n",
       "  border-bottom: 2px solid var(--sklearn-color-text-on-default-background);\n",
       "  flex-grow: 1;\n",
       "}\n",
       "\n",
       "#sk-container-id-1 div.sk-parallel {\n",
       "  display: flex;\n",
       "  align-items: stretch;\n",
       "  justify-content: center;\n",
       "  background-color: var(--sklearn-color-background);\n",
       "  position: relative;\n",
       "}\n",
       "\n",
       "#sk-container-id-1 div.sk-parallel-item {\n",
       "  display: flex;\n",
       "  flex-direction: column;\n",
       "}\n",
       "\n",
       "#sk-container-id-1 div.sk-parallel-item:first-child::after {\n",
       "  align-self: flex-end;\n",
       "  width: 50%;\n",
       "}\n",
       "\n",
       "#sk-container-id-1 div.sk-parallel-item:last-child::after {\n",
       "  align-self: flex-start;\n",
       "  width: 50%;\n",
       "}\n",
       "\n",
       "#sk-container-id-1 div.sk-parallel-item:only-child::after {\n",
       "  width: 0;\n",
       "}\n",
       "\n",
       "/* Serial-specific style estimator block */\n",
       "\n",
       "#sk-container-id-1 div.sk-serial {\n",
       "  display: flex;\n",
       "  flex-direction: column;\n",
       "  align-items: center;\n",
       "  background-color: var(--sklearn-color-background);\n",
       "  padding-right: 1em;\n",
       "  padding-left: 1em;\n",
       "}\n",
       "\n",
       "\n",
       "/* Toggleable style: style used for estimator/Pipeline/ColumnTransformer box that is\n",
       "clickable and can be expanded/collapsed.\n",
       "- Pipeline and ColumnTransformer use this feature and define the default style\n",
       "- Estimators will overwrite some part of the style using the `sk-estimator` class\n",
       "*/\n",
       "\n",
       "/* Pipeline and ColumnTransformer style (default) */\n",
       "\n",
       "#sk-container-id-1 div.sk-toggleable {\n",
       "  /* Default theme specific background. It is overwritten whether we have a\n",
       "  specific estimator or a Pipeline/ColumnTransformer */\n",
       "  background-color: var(--sklearn-color-background);\n",
       "}\n",
       "\n",
       "/* Toggleable label */\n",
       "#sk-container-id-1 label.sk-toggleable__label {\n",
       "  cursor: pointer;\n",
       "  display: block;\n",
       "  width: 100%;\n",
       "  margin-bottom: 0;\n",
       "  padding: 0.5em;\n",
       "  box-sizing: border-box;\n",
       "  text-align: center;\n",
       "}\n",
       "\n",
       "#sk-container-id-1 label.sk-toggleable__label-arrow:before {\n",
       "  /* Arrow on the left of the label */\n",
       "  content: \"▸\";\n",
       "  float: left;\n",
       "  margin-right: 0.25em;\n",
       "  color: var(--sklearn-color-icon);\n",
       "}\n",
       "\n",
       "#sk-container-id-1 label.sk-toggleable__label-arrow:hover:before {\n",
       "  color: var(--sklearn-color-text);\n",
       "}\n",
       "\n",
       "/* Toggleable content - dropdown */\n",
       "\n",
       "#sk-container-id-1 div.sk-toggleable__content {\n",
       "  max-height: 0;\n",
       "  max-width: 0;\n",
       "  overflow: hidden;\n",
       "  text-align: left;\n",
       "  /* unfitted */\n",
       "  background-color: var(--sklearn-color-unfitted-level-0);\n",
       "}\n",
       "\n",
       "#sk-container-id-1 div.sk-toggleable__content.fitted {\n",
       "  /* fitted */\n",
       "  background-color: var(--sklearn-color-fitted-level-0);\n",
       "}\n",
       "\n",
       "#sk-container-id-1 div.sk-toggleable__content pre {\n",
       "  margin: 0.2em;\n",
       "  border-radius: 0.25em;\n",
       "  color: var(--sklearn-color-text);\n",
       "  /* unfitted */\n",
       "  background-color: var(--sklearn-color-unfitted-level-0);\n",
       "}\n",
       "\n",
       "#sk-container-id-1 div.sk-toggleable__content.fitted pre {\n",
       "  /* unfitted */\n",
       "  background-color: var(--sklearn-color-fitted-level-0);\n",
       "}\n",
       "\n",
       "#sk-container-id-1 input.sk-toggleable__control:checked~div.sk-toggleable__content {\n",
       "  /* Expand drop-down */\n",
       "  max-height: 200px;\n",
       "  max-width: 100%;\n",
       "  overflow: auto;\n",
       "}\n",
       "\n",
       "#sk-container-id-1 input.sk-toggleable__control:checked~label.sk-toggleable__label-arrow:before {\n",
       "  content: \"▾\";\n",
       "}\n",
       "\n",
       "/* Pipeline/ColumnTransformer-specific style */\n",
       "\n",
       "#sk-container-id-1 div.sk-label input.sk-toggleable__control:checked~label.sk-toggleable__label {\n",
       "  color: var(--sklearn-color-text);\n",
       "  background-color: var(--sklearn-color-unfitted-level-2);\n",
       "}\n",
       "\n",
       "#sk-container-id-1 div.sk-label.fitted input.sk-toggleable__control:checked~label.sk-toggleable__label {\n",
       "  background-color: var(--sklearn-color-fitted-level-2);\n",
       "}\n",
       "\n",
       "/* Estimator-specific style */\n",
       "\n",
       "/* Colorize estimator box */\n",
       "#sk-container-id-1 div.sk-estimator input.sk-toggleable__control:checked~label.sk-toggleable__label {\n",
       "  /* unfitted */\n",
       "  background-color: var(--sklearn-color-unfitted-level-2);\n",
       "}\n",
       "\n",
       "#sk-container-id-1 div.sk-estimator.fitted input.sk-toggleable__control:checked~label.sk-toggleable__label {\n",
       "  /* fitted */\n",
       "  background-color: var(--sklearn-color-fitted-level-2);\n",
       "}\n",
       "\n",
       "#sk-container-id-1 div.sk-label label.sk-toggleable__label,\n",
       "#sk-container-id-1 div.sk-label label {\n",
       "  /* The background is the default theme color */\n",
       "  color: var(--sklearn-color-text-on-default-background);\n",
       "}\n",
       "\n",
       "/* On hover, darken the color of the background */\n",
       "#sk-container-id-1 div.sk-label:hover label.sk-toggleable__label {\n",
       "  color: var(--sklearn-color-text);\n",
       "  background-color: var(--sklearn-color-unfitted-level-2);\n",
       "}\n",
       "\n",
       "/* Label box, darken color on hover, fitted */\n",
       "#sk-container-id-1 div.sk-label.fitted:hover label.sk-toggleable__label.fitted {\n",
       "  color: var(--sklearn-color-text);\n",
       "  background-color: var(--sklearn-color-fitted-level-2);\n",
       "}\n",
       "\n",
       "/* Estimator label */\n",
       "\n",
       "#sk-container-id-1 div.sk-label label {\n",
       "  font-family: monospace;\n",
       "  font-weight: bold;\n",
       "  display: inline-block;\n",
       "  line-height: 1.2em;\n",
       "}\n",
       "\n",
       "#sk-container-id-1 div.sk-label-container {\n",
       "  text-align: center;\n",
       "}\n",
       "\n",
       "/* Estimator-specific */\n",
       "#sk-container-id-1 div.sk-estimator {\n",
       "  font-family: monospace;\n",
       "  border: 1px dotted var(--sklearn-color-border-box);\n",
       "  border-radius: 0.25em;\n",
       "  box-sizing: border-box;\n",
       "  margin-bottom: 0.5em;\n",
       "  /* unfitted */\n",
       "  background-color: var(--sklearn-color-unfitted-level-0);\n",
       "}\n",
       "\n",
       "#sk-container-id-1 div.sk-estimator.fitted {\n",
       "  /* fitted */\n",
       "  background-color: var(--sklearn-color-fitted-level-0);\n",
       "}\n",
       "\n",
       "/* on hover */\n",
       "#sk-container-id-1 div.sk-estimator:hover {\n",
       "  /* unfitted */\n",
       "  background-color: var(--sklearn-color-unfitted-level-2);\n",
       "}\n",
       "\n",
       "#sk-container-id-1 div.sk-estimator.fitted:hover {\n",
       "  /* fitted */\n",
       "  background-color: var(--sklearn-color-fitted-level-2);\n",
       "}\n",
       "\n",
       "/* Specification for estimator info (e.g. \"i\" and \"?\") */\n",
       "\n",
       "/* Common style for \"i\" and \"?\" */\n",
       "\n",
       ".sk-estimator-doc-link,\n",
       "a:link.sk-estimator-doc-link,\n",
       "a:visited.sk-estimator-doc-link {\n",
       "  float: right;\n",
       "  font-size: smaller;\n",
       "  line-height: 1em;\n",
       "  font-family: monospace;\n",
       "  background-color: var(--sklearn-color-background);\n",
       "  border-radius: 1em;\n",
       "  height: 1em;\n",
       "  width: 1em;\n",
       "  text-decoration: none !important;\n",
       "  margin-left: 1ex;\n",
       "  /* unfitted */\n",
       "  border: var(--sklearn-color-unfitted-level-1) 1pt solid;\n",
       "  color: var(--sklearn-color-unfitted-level-1);\n",
       "}\n",
       "\n",
       ".sk-estimator-doc-link.fitted,\n",
       "a:link.sk-estimator-doc-link.fitted,\n",
       "a:visited.sk-estimator-doc-link.fitted {\n",
       "  /* fitted */\n",
       "  border: var(--sklearn-color-fitted-level-1) 1pt solid;\n",
       "  color: var(--sklearn-color-fitted-level-1);\n",
       "}\n",
       "\n",
       "/* On hover */\n",
       "div.sk-estimator:hover .sk-estimator-doc-link:hover,\n",
       ".sk-estimator-doc-link:hover,\n",
       "div.sk-label-container:hover .sk-estimator-doc-link:hover,\n",
       ".sk-estimator-doc-link:hover {\n",
       "  /* unfitted */\n",
       "  background-color: var(--sklearn-color-unfitted-level-3);\n",
       "  color: var(--sklearn-color-background);\n",
       "  text-decoration: none;\n",
       "}\n",
       "\n",
       "div.sk-estimator.fitted:hover .sk-estimator-doc-link.fitted:hover,\n",
       ".sk-estimator-doc-link.fitted:hover,\n",
       "div.sk-label-container:hover .sk-estimator-doc-link.fitted:hover,\n",
       ".sk-estimator-doc-link.fitted:hover {\n",
       "  /* fitted */\n",
       "  background-color: var(--sklearn-color-fitted-level-3);\n",
       "  color: var(--sklearn-color-background);\n",
       "  text-decoration: none;\n",
       "}\n",
       "\n",
       "/* Span, style for the box shown on hovering the info icon */\n",
       ".sk-estimator-doc-link span {\n",
       "  display: none;\n",
       "  z-index: 9999;\n",
       "  position: relative;\n",
       "  font-weight: normal;\n",
       "  right: .2ex;\n",
       "  padding: .5ex;\n",
       "  margin: .5ex;\n",
       "  width: min-content;\n",
       "  min-width: 20ex;\n",
       "  max-width: 50ex;\n",
       "  color: var(--sklearn-color-text);\n",
       "  box-shadow: 2pt 2pt 4pt #999;\n",
       "  /* unfitted */\n",
       "  background: var(--sklearn-color-unfitted-level-0);\n",
       "  border: .5pt solid var(--sklearn-color-unfitted-level-3);\n",
       "}\n",
       "\n",
       ".sk-estimator-doc-link.fitted span {\n",
       "  /* fitted */\n",
       "  background: var(--sklearn-color-fitted-level-0);\n",
       "  border: var(--sklearn-color-fitted-level-3);\n",
       "}\n",
       "\n",
       ".sk-estimator-doc-link:hover span {\n",
       "  display: block;\n",
       "}\n",
       "\n",
       "/* \"?\"-specific style due to the `<a>` HTML tag */\n",
       "\n",
       "#sk-container-id-1 a.estimator_doc_link {\n",
       "  float: right;\n",
       "  font-size: 1rem;\n",
       "  line-height: 1em;\n",
       "  font-family: monospace;\n",
       "  background-color: var(--sklearn-color-background);\n",
       "  border-radius: 1rem;\n",
       "  height: 1rem;\n",
       "  width: 1rem;\n",
       "  text-decoration: none;\n",
       "  /* unfitted */\n",
       "  color: var(--sklearn-color-unfitted-level-1);\n",
       "  border: var(--sklearn-color-unfitted-level-1) 1pt solid;\n",
       "}\n",
       "\n",
       "#sk-container-id-1 a.estimator_doc_link.fitted {\n",
       "  /* fitted */\n",
       "  border: var(--sklearn-color-fitted-level-1) 1pt solid;\n",
       "  color: var(--sklearn-color-fitted-level-1);\n",
       "}\n",
       "\n",
       "/* On hover */\n",
       "#sk-container-id-1 a.estimator_doc_link:hover {\n",
       "  /* unfitted */\n",
       "  background-color: var(--sklearn-color-unfitted-level-3);\n",
       "  color: var(--sklearn-color-background);\n",
       "  text-decoration: none;\n",
       "}\n",
       "\n",
       "#sk-container-id-1 a.estimator_doc_link.fitted:hover {\n",
       "  /* fitted */\n",
       "  background-color: var(--sklearn-color-fitted-level-3);\n",
       "}\n",
       "</style><div id=\"sk-container-id-1\" class=\"sk-top-container\"><div class=\"sk-text-repr-fallback\"><pre>SVC(gamma=0.001)</pre><b>In a Jupyter environment, please rerun this cell to show the HTML representation or trust the notebook. <br />On GitHub, the HTML representation is unable to render, please try loading this page with nbviewer.org.</b></div><div class=\"sk-container\" hidden><div class=\"sk-item\"><div class=\"sk-estimator fitted sk-toggleable\"><input class=\"sk-toggleable__control sk-hidden--visually\" id=\"sk-estimator-id-1\" type=\"checkbox\" checked><label for=\"sk-estimator-id-1\" class=\"sk-toggleable__label fitted sk-toggleable__label-arrow fitted\">&nbsp;&nbsp;SVC<a class=\"sk-estimator-doc-link fitted\" rel=\"noreferrer\" target=\"_blank\" href=\"https://scikit-learn.org/1.5/modules/generated/sklearn.svm.SVC.html\">?<span>Documentation for SVC</span></a><span class=\"sk-estimator-doc-link fitted\">i<span>Fitted</span></span></label><div class=\"sk-toggleable__content fitted\"><pre>SVC(gamma=0.001)</pre></div> </div></div></div></div>"
      ],
      "text/plain": [
       "SVC(gamma=0.001)"
      ]
     },
     "execution_count": 2,
     "metadata": {},
     "output_type": "execute_result"
    }
   ],
   "source": [
    "# Original source code and more details can be found in:\n",
    "# https://scikit-learn.org/stable/auto_examples/classification/plot_digits_classification.html\n",
    "\n",
    "# Import datasets, classifiers and performance metrics\n",
    "from sklearn import datasets, svm, metrics\n",
    "from sklearn.model_selection import train_test_split\n",
    "\n",
    "# The digits dataset\n",
    "digits = datasets.load_digits()\n",
    "\n",
    "# To apply a classifier on this data, we need to flatten the image, to\n",
    "# turn the data in a (samples, feature) matrix:\n",
    "n_samples = len(digits.images)\n",
    "data = digits.images.reshape((n_samples, -1))\n",
    "\n",
    "# Create a classifier: a support vector classifier\n",
    "classifier = svm.SVC(gamma=0.001)\n",
    "\n",
    "# Split data into train and test subsets\n",
    "X_train, X_test, y_train, y_test = train_test_split(\n",
    "    data, digits.target, test_size=0.5, shuffle=False)\n",
    "\n",
    "# We learn the digits on the first half of the digits\n",
    "classifier.fit(X_train, y_train)"
   ]
  },
  {
   "cell_type": "markdown",
   "id": "91ce8844-fb7d-40f9-9340-984cb55347ef",
   "metadata": {},
   "source": [
    "Saving the model"
   ]
  },
  {
   "cell_type": "code",
   "execution_count": 19,
   "id": "f24fcf79-5385-4369-b255-6331617bb113",
   "metadata": {},
   "outputs": [
    {
     "data": {
      "text/plain": [
       "['sklearn/mnist-svm.joblib']"
      ]
     },
     "execution_count": 19,
     "metadata": {},
     "output_type": "execute_result"
    }
   ],
   "source": [
    "import joblib\n",
    "\n",
    "model_file_name = \"sklearn/mnist-svm.joblib\"\n",
    "joblib.dump(classifier, model_file_name)"
   ]
  },
  {
   "cell_type": "code",
   "execution_count": 23,
   "id": "53be0265-67b8-433b-9b23-ae41285b12db",
   "metadata": {},
   "outputs": [
    {
     "name": "stdout",
     "output_type": "stream",
     "text": [
      "mnist-svm.joblib\n"
     ]
    }
   ],
   "source": [
    "!ls sklearn"
   ]
  },
  {
   "cell_type": "markdown",
   "id": "70f01f91-9b4d-4146-b17c-221c73cfaa55",
   "metadata": {},
   "source": [
    "Serving with out of the box server"
   ]
  },
  {
   "cell_type": "code",
   "execution_count": 12,
   "id": "cbb7a572-4e87-4608-9207-43ead73ea8ee",
   "metadata": {},
   "outputs": [
    {
     "name": "stdout",
     "output_type": "stream",
     "text": [
      "\u001b[2K\u001b[2mResolved \u001b[1m169 packages\u001b[0m \u001b[2min 626ms\u001b[0m\u001b[0m                                       \u001b[0m\n",
      "\u001b[2K\u001b[2mPrepared \u001b[1m1 package\u001b[0m \u001b[2min 257ms\u001b[0m\u001b[0m                                              \n",
      "\u001b[2K\u001b[2mInstalled \u001b[1m1 package\u001b[0m \u001b[2min 6ms\u001b[0m\u001b[0m.6.1                              \u001b[0m\n",
      " \u001b[32m+\u001b[39m \u001b[1mmlserver-sklearn\u001b[0m\u001b[2m==1.6.1\u001b[0m\n"
     ]
    }
   ],
   "source": [
    "!uv add mlserver-sklearn"
   ]
  },
  {
   "cell_type": "code",
   "execution_count": 13,
   "id": "162747b3-9dd7-421d-9134-dc650924329a",
   "metadata": {},
   "outputs": [
    {
     "name": "stdout",
     "output_type": "stream",
     "text": [
      "Overwriting sklearn/model-settings.json\n"
     ]
    }
   ],
   "source": [
    "%%writefile sklearn/model-settings.json\n",
    "{\n",
    "    \"name\": \"mnist-svm\",\n",
    "    \"implementation\": \"mlserver_sklearn.SKLearnModel\",\n",
    "    \"parameters\": {\n",
    "        \"uri\": \"./mnist-svm.joblib\",\n",
    "        \"version\": \"v0.1.0\"\n",
    "    }\n",
    "}\n"
   ]
  },
  {
   "cell_type": "code",
   "execution_count": 14,
   "id": "c1e24394-8910-444c-973a-9a99d8b2b905",
   "metadata": {},
   "outputs": [
    {
     "name": "stdout",
     "output_type": "stream",
     "text": [
      "mnist-svm.joblib\n",
      "model-settings.json\n"
     ]
    },
    {
     "data": {
      "text/plain": [
       "0"
      ]
     },
     "execution_count": 14,
     "metadata": {},
     "output_type": "execute_result"
    }
   ],
   "source": [
    "!ls sklearn/"
   ]
  },
  {
   "cell_type": "code",
   "execution_count": 20,
   "id": "989b39d4-eb71-4f6e-a108-7b4c6d6c0668",
   "metadata": {},
   "outputs": [
    {
     "data": {
      "text/plain": [
       "0"
      ]
     },
     "execution_count": 20,
     "metadata": {},
     "output_type": "execute_result"
    },
    {
     "name": "stdout",
     "output_type": "stream",
     "text": [
      "2024-11-09 13:04:37,066 [mlserver] WARNING - Model name 'mnist-svm' is different than model's folder name 'sklearn'.\n",
      "2024-11-09 13:04:37,098 [mlserver.parallel] DEBUG - Starting response processing loop...\n",
      "2024-11-09 13:04:37,099 [mlserver.rest] INFO - HTTP server running on http://0.0.0.0:8080\n",
      "2024-11-09 13:04:37,111 [mlserver.metrics] INFO - Metrics server running on http://0.0.0.0:8082\n",
      "2024-11-09 13:04:37,111 [mlserver.metrics] INFO - Prometheus scraping endpoint can be accessed on http://0.0.0.0:8082/metrics\n"
     ]
    },
    {
     "name": "stderr",
     "output_type": "stream",
     "text": [
      "INFO:     Started server process [72279]\n",
      "INFO:     Waiting for application startup.\n",
      "INFO:     Started server process [72279]\n",
      "INFO:     Waiting for application startup.\n",
      "INFO:     Application startup complete.\n",
      "INFO:     Application startup complete.\n",
      "INFO:     Uvicorn running on http://0.0.0.0:8080 (Press CTRL+C to quit)\n",
      "INFO:     Uvicorn running on http://0.0.0.0:8082 (Press CTRL+C to quit)\n"
     ]
    },
    {
     "name": "stdout",
     "output_type": "stream",
     "text": [
      "2024-11-09 13:04:37,554 [mlserver.grpc] INFO - gRPC server running on http://0.0.0.0:8081\n",
      "2024-11-09 13:04:38,534 [mlserver][mnist-svm:v0.1.0] INFO - Loaded model 'mnist-svm' successfully.\n",
      "2024-11-09 13:04:38,534 [mlserver][mnist-svm:v0.1.0] INFO - Loaded model 'mnist-svm' successfully.\n"
     ]
    }
   ],
   "source": [
    "!mlserver start . &"
   ]
  },
  {
   "cell_type": "code",
   "execution_count": 28,
   "id": "e2fbd8f5-7543-4b81-8c59-008c068799d8",
   "metadata": {},
   "outputs": [
    {
     "name": "stdout",
     "output_type": "stream",
     "text": [
      "INFO:     127.0.0.1:58661 - \"POST /v2/models/mnist-svm/versions/v0.1.0/infer HTTP/1.1\" 200 OK\n",
      "{'model_name': 'mnist-svm', 'model_version': 'v0.1.0', 'id': '43b121d2-035c-4ba2-9bbf-3a02d13eea12', 'parameters': {}, 'outputs': [{'name': 'predict', 'shape': [1, 1], 'datatype': 'INT64', 'parameters': {'content_type': 'np'}, 'data': [8]}]}\n"
     ]
    }
   ],
   "source": [
    "import requests\n",
    "\n",
    "x_0 = X_test[0:1]\n",
    "inference_request = {\n",
    "    \"inputs\": [\n",
    "        {\n",
    "          \"name\": \"predict\",\n",
    "          \"shape\": x_0.shape,\n",
    "          \"datatype\": \"FP32\",\n",
    "          \"data\": x_0.tolist()\n",
    "        }\n",
    "    ]\n",
    "}\n",
    "\n",
    "endpoint = \"http://localhost:8080/v2/models/mnist-svm/versions/v0.1.0/infer\"\n",
    "response = requests.post(endpoint, json=inference_request)\n",
    "\n",
    "print(response.json())\n"
   ]
  },
  {
   "cell_type": "code",
   "execution_count": 19,
   "id": "6f1879b6-0cb5-47f0-b548-5c37aca6f4f5",
   "metadata": {},
   "outputs": [
    {
     "name": "stdout",
     "output_type": "stream",
     "text": [
      "COMMAND     PID     USER   FD   TYPE             DEVICE SIZE/OFF NODE NAME\n",
      "python3.1 71850 asaucedo   81u  IPv4   0xb634458c0eb97e      0t0  TCP 127.0.0.1:58556->127.0.0.1:http-alt (CLOSED)\n",
      "python3.1 71850 asaucedo   82u  IPv4 0x8b3b0df96b3d163d      0t0  TCP 127.0.0.1:58615->127.0.0.1:http-alt (CLOSE_WAIT)\n"
     ]
    },
    {
     "data": {
      "text/plain": [
       "0"
      ]
     },
     "execution_count": 19,
     "metadata": {},
     "output_type": "execute_result"
    }
   ],
   "source": [
    "!lsof -n -i :8080"
   ]
  },
  {
   "cell_type": "code",
   "execution_count": 18,
   "id": "013d1543-8b7b-48ac-9db4-19f16412f960",
   "metadata": {},
   "outputs": [
    {
     "data": {
      "text/plain": [
       "0"
      ]
     },
     "execution_count": 18,
     "metadata": {},
     "output_type": "execute_result"
    }
   ],
   "source": [
    "!kill -9 72247"
   ]
  },
  {
   "cell_type": "code",
   "execution_count": null,
   "id": "7fceb193-ff1d-402f-a943-421bbd277dda",
   "metadata": {},
   "outputs": [],
   "source": []
  }
 ],
 "metadata": {
  "kernelspec": {
   "display_name": "Python 3 (ipykernel)",
   "language": "python",
   "name": "python3"
  },
  "language_info": {
   "codemirror_mode": {
    "name": "ipython",
    "version": 3
   },
   "file_extension": ".py",
   "mimetype": "text/x-python",
   "name": "python",
   "nbconvert_exporter": "python",
   "pygments_lexer": "ipython3",
   "version": "3.12.6"
  }
 },
 "nbformat": 4,
 "nbformat_minor": 5
}
